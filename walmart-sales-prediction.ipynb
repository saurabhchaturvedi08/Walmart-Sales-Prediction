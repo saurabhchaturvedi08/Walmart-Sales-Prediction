{
 "cells": [
  {
   "cell_type": "markdown",
   "metadata": {},
   "source": [
    "## Walmart Sales Prediction using different ML Algorithms"
   ]
  },
  {
   "cell_type": "code",
   "execution_count": 1,
   "metadata": {
    "execution": {
     "iopub.execute_input": "2023-01-02T18:09:06.504606Z",
     "iopub.status.busy": "2023-01-02T18:09:06.504208Z",
     "iopub.status.idle": "2023-01-02T18:09:06.512270Z",
     "shell.execute_reply": "2023-01-02T18:09:06.511399Z",
     "shell.execute_reply.started": "2023-01-02T18:09:06.504574Z"
    },
    "id": "-dY92ex6l6BQ"
   },
   "outputs": [],
   "source": [
    "import numpy as np\n",
    "import pandas as pd\n",
    "\n",
    "import matplotlib.pyplot as plt\n",
    "import seaborn as sns\n",
    "\n",
    "from scipy import stats\n",
    "import statsmodels.api as sm\n",
    "\n",
    "from sklearn.preprocessing import MinMaxScaler\n",
    "\n",
    "\n",
    "from sklearn import metrics\n",
    "from sklearn.model_selection import train_test_split \n",
    "from sklearn.linear_model import LinearRegression\n",
    "\n",
    "from sklearn.ensemble import RandomForestRegressor\n",
    "from sklearn.neighbors import KNeighborsRegressor\n",
    "from xgboost import XGBRegressor\n",
    "\n",
    "import warnings\n",
    "warnings.filterwarnings('ignore')"
   ]
  },
  {
   "cell_type": "code",
   "execution_count": 2,
   "metadata": {
    "execution": {
     "iopub.execute_input": "2023-01-02T18:09:06.514991Z",
     "iopub.status.busy": "2023-01-02T18:09:06.514029Z",
     "iopub.status.idle": "2023-01-02T18:09:06.907690Z",
     "shell.execute_reply": "2023-01-02T18:09:06.906450Z",
     "shell.execute_reply.started": "2023-01-02T18:09:06.514937Z"
    },
    "id": "XP-BIFocmZU9"
   },
   "outputs": [],
   "source": [
    "data = pd.read_csv('train.csv')\n",
    "stores = pd.read_csv('stores.csv')\n",
    "features = pd.read_csv('features.csv')"
   ]
  },
  {
   "cell_type": "code",
   "execution_count": 3,
   "metadata": {
    "execution": {
     "iopub.execute_input": "2023-01-02T18:09:06.909981Z",
     "iopub.status.busy": "2023-01-02T18:09:06.909448Z",
     "iopub.status.idle": "2023-01-02T18:09:06.919821Z",
     "shell.execute_reply": "2023-01-02T18:09:06.918982Z",
     "shell.execute_reply.started": "2023-01-02T18:09:06.909932Z"
    },
    "id": "eSiyyY8OmgDX",
    "outputId": "1cffd016-d59f-435d-8837-d93d47863b33"
   },
   "outputs": [
    {
     "data": {
      "text/plain": [
       "(421570, 5)"
      ]
     },
     "execution_count": 3,
     "metadata": {},
     "output_type": "execute_result"
    }
   ],
   "source": [
    "data.shape"
   ]
  },
  {
   "cell_type": "code",
   "execution_count": 4,
   "metadata": {
    "execution": {
     "iopub.execute_input": "2023-01-02T18:09:06.921800Z",
     "iopub.status.busy": "2023-01-02T18:09:06.921215Z",
     "iopub.status.idle": "2023-01-02T18:09:06.945286Z",
     "shell.execute_reply": "2023-01-02T18:09:06.944175Z",
     "shell.execute_reply.started": "2023-01-02T18:09:06.921766Z"
    },
    "id": "aZDz-bXxmm4R",
    "outputId": "52336742-a634-4d19-e069-45e607ecec87"
   },
   "outputs": [
    {
     "data": {
      "text/html": [
       "<div>\n",
       "<style scoped>\n",
       "    .dataframe tbody tr th:only-of-type {\n",
       "        vertical-align: middle;\n",
       "    }\n",
       "\n",
       "    .dataframe tbody tr th {\n",
       "        vertical-align: top;\n",
       "    }\n",
       "\n",
       "    .dataframe thead th {\n",
       "        text-align: right;\n",
       "    }\n",
       "</style>\n",
       "<table border=\"1\" class=\"dataframe\">\n",
       "  <thead>\n",
       "    <tr style=\"text-align: right;\">\n",
       "      <th></th>\n",
       "      <th>Store</th>\n",
       "      <th>Dept</th>\n",
       "      <th>Date</th>\n",
       "      <th>Weekly_Sales</th>\n",
       "      <th>IsHoliday</th>\n",
       "    </tr>\n",
       "  </thead>\n",
       "  <tbody>\n",
       "    <tr>\n",
       "      <th>0</th>\n",
       "      <td>1</td>\n",
       "      <td>1</td>\n",
       "      <td>2010-02-05</td>\n",
       "      <td>24924.50</td>\n",
       "      <td>False</td>\n",
       "    </tr>\n",
       "    <tr>\n",
       "      <th>1</th>\n",
       "      <td>1</td>\n",
       "      <td>1</td>\n",
       "      <td>2010-02-12</td>\n",
       "      <td>46039.49</td>\n",
       "      <td>True</td>\n",
       "    </tr>\n",
       "    <tr>\n",
       "      <th>2</th>\n",
       "      <td>1</td>\n",
       "      <td>1</td>\n",
       "      <td>2010-02-19</td>\n",
       "      <td>41595.55</td>\n",
       "      <td>False</td>\n",
       "    </tr>\n",
       "    <tr>\n",
       "      <th>3</th>\n",
       "      <td>1</td>\n",
       "      <td>1</td>\n",
       "      <td>2010-02-26</td>\n",
       "      <td>19403.54</td>\n",
       "      <td>False</td>\n",
       "    </tr>\n",
       "    <tr>\n",
       "      <th>4</th>\n",
       "      <td>1</td>\n",
       "      <td>1</td>\n",
       "      <td>2010-03-05</td>\n",
       "      <td>21827.90</td>\n",
       "      <td>False</td>\n",
       "    </tr>\n",
       "  </tbody>\n",
       "</table>\n",
       "</div>"
      ],
      "text/plain": [
       "   Store  Dept        Date  Weekly_Sales  IsHoliday\n",
       "0      1     1  2010-02-05      24924.50      False\n",
       "1      1     1  2010-02-12      46039.49       True\n",
       "2      1     1  2010-02-19      41595.55      False\n",
       "3      1     1  2010-02-26      19403.54      False\n",
       "4      1     1  2010-03-05      21827.90      False"
      ]
     },
     "execution_count": 4,
     "metadata": {},
     "output_type": "execute_result"
    }
   ],
   "source": [
    "data.head()"
   ]
  },
  {
   "cell_type": "code",
   "execution_count": 5,
   "metadata": {
    "execution": {
     "iopub.execute_input": "2023-01-02T18:09:06.949658Z",
     "iopub.status.busy": "2023-01-02T18:09:06.949025Z",
     "iopub.status.idle": "2023-01-02T18:09:07.000882Z",
     "shell.execute_reply": "2023-01-02T18:09:06.999700Z",
     "shell.execute_reply.started": "2023-01-02T18:09:06.949620Z"
    },
    "id": "pmnce0B_mv9c",
    "outputId": "c05d1301-e4fa-4196-82ce-532f5d9ac0f0"
   },
   "outputs": [
    {
     "name": "stdout",
     "output_type": "stream",
     "text": [
      "<class 'pandas.core.frame.DataFrame'>\n",
      "RangeIndex: 421570 entries, 0 to 421569\n",
      "Data columns (total 5 columns):\n",
      " #   Column        Non-Null Count   Dtype  \n",
      "---  ------        --------------   -----  \n",
      " 0   Store         421570 non-null  int64  \n",
      " 1   Dept          421570 non-null  int64  \n",
      " 2   Date          421570 non-null  object \n",
      " 3   Weekly_Sales  421570 non-null  float64\n",
      " 4   IsHoliday     421570 non-null  bool   \n",
      "dtypes: bool(1), float64(1), int64(2), object(1)\n",
      "memory usage: 13.3+ MB\n"
     ]
    }
   ],
   "source": [
    "data.info()"
   ]
  },
  {
   "cell_type": "code",
   "execution_count": 6,
   "metadata": {
    "execution": {
     "iopub.execute_input": "2023-01-02T18:09:07.002666Z",
     "iopub.status.busy": "2023-01-02T18:09:07.002308Z",
     "iopub.status.idle": "2023-01-02T18:09:07.035004Z",
     "shell.execute_reply": "2023-01-02T18:09:07.033854Z",
     "shell.execute_reply.started": "2023-01-02T18:09:07.002633Z"
    },
    "id": "wRT3whR2nA4n",
    "outputId": "8d8cf8f1-7d86-452e-ff34-5a5194a364ba"
   },
   "outputs": [
    {
     "data": {
      "text/plain": [
       "Store           0\n",
       "Dept            0\n",
       "Date            0\n",
       "Weekly_Sales    0\n",
       "IsHoliday       0\n",
       "dtype: int64"
      ]
     },
     "execution_count": 6,
     "metadata": {},
     "output_type": "execute_result"
    }
   ],
   "source": [
    "data.isna().sum()"
   ]
  },
  {
   "cell_type": "code",
   "execution_count": 7,
   "metadata": {
    "execution": {
     "iopub.execute_input": "2023-01-02T18:09:07.036861Z",
     "iopub.status.busy": "2023-01-02T18:09:07.036486Z",
     "iopub.status.idle": "2023-01-02T18:09:07.044083Z",
     "shell.execute_reply": "2023-01-02T18:09:07.043091Z",
     "shell.execute_reply.started": "2023-01-02T18:09:07.036828Z"
    },
    "id": "2ZbhK_XYnim6",
    "outputId": "5feb179b-8483-4a4b-a01b-6dbcd9ce4bdb"
   },
   "outputs": [
    {
     "data": {
      "text/plain": [
       "(45, 3)"
      ]
     },
     "execution_count": 7,
     "metadata": {},
     "output_type": "execute_result"
    }
   ],
   "source": [
    "stores.shape"
   ]
  },
  {
   "cell_type": "code",
   "execution_count": 8,
   "metadata": {
    "execution": {
     "iopub.execute_input": "2023-01-02T18:09:07.046644Z",
     "iopub.status.busy": "2023-01-02T18:09:07.045674Z",
     "iopub.status.idle": "2023-01-02T18:09:07.058889Z",
     "shell.execute_reply": "2023-01-02T18:09:07.057534Z",
     "shell.execute_reply.started": "2023-01-02T18:09:07.046585Z"
    },
    "id": "HdzUEDHInqku",
    "outputId": "b27b20df-1e18-49fb-feb1-40c041ba4b77"
   },
   "outputs": [
    {
     "data": {
      "text/html": [
       "<div>\n",
       "<style scoped>\n",
       "    .dataframe tbody tr th:only-of-type {\n",
       "        vertical-align: middle;\n",
       "    }\n",
       "\n",
       "    .dataframe tbody tr th {\n",
       "        vertical-align: top;\n",
       "    }\n",
       "\n",
       "    .dataframe thead th {\n",
       "        text-align: right;\n",
       "    }\n",
       "</style>\n",
       "<table border=\"1\" class=\"dataframe\">\n",
       "  <thead>\n",
       "    <tr style=\"text-align: right;\">\n",
       "      <th></th>\n",
       "      <th>Store</th>\n",
       "      <th>Type</th>\n",
       "      <th>Size</th>\n",
       "    </tr>\n",
       "  </thead>\n",
       "  <tbody>\n",
       "    <tr>\n",
       "      <th>0</th>\n",
       "      <td>1</td>\n",
       "      <td>A</td>\n",
       "      <td>151315</td>\n",
       "    </tr>\n",
       "    <tr>\n",
       "      <th>1</th>\n",
       "      <td>2</td>\n",
       "      <td>A</td>\n",
       "      <td>202307</td>\n",
       "    </tr>\n",
       "    <tr>\n",
       "      <th>2</th>\n",
       "      <td>3</td>\n",
       "      <td>B</td>\n",
       "      <td>37392</td>\n",
       "    </tr>\n",
       "    <tr>\n",
       "      <th>3</th>\n",
       "      <td>4</td>\n",
       "      <td>A</td>\n",
       "      <td>205863</td>\n",
       "    </tr>\n",
       "    <tr>\n",
       "      <th>4</th>\n",
       "      <td>5</td>\n",
       "      <td>B</td>\n",
       "      <td>34875</td>\n",
       "    </tr>\n",
       "  </tbody>\n",
       "</table>\n",
       "</div>"
      ],
      "text/plain": [
       "   Store Type    Size\n",
       "0      1    A  151315\n",
       "1      2    A  202307\n",
       "2      3    B   37392\n",
       "3      4    A  205863\n",
       "4      5    B   34875"
      ]
     },
     "execution_count": 8,
     "metadata": {},
     "output_type": "execute_result"
    }
   ],
   "source": [
    "stores.head()"
   ]
  },
  {
   "cell_type": "code",
   "execution_count": 9,
   "metadata": {
    "execution": {
     "iopub.execute_input": "2023-01-02T18:09:07.060593Z",
     "iopub.status.busy": "2023-01-02T18:09:07.060213Z",
     "iopub.status.idle": "2023-01-02T18:09:07.075878Z",
     "shell.execute_reply": "2023-01-02T18:09:07.075028Z",
     "shell.execute_reply.started": "2023-01-02T18:09:07.060560Z"
    },
    "id": "irNqIYSwnuWY",
    "outputId": "6fb61931-d016-4412-f050-35b23a26090e"
   },
   "outputs": [
    {
     "name": "stdout",
     "output_type": "stream",
     "text": [
      "<class 'pandas.core.frame.DataFrame'>\n",
      "RangeIndex: 45 entries, 0 to 44\n",
      "Data columns (total 3 columns):\n",
      " #   Column  Non-Null Count  Dtype \n",
      "---  ------  --------------  ----- \n",
      " 0   Store   45 non-null     int64 \n",
      " 1   Type    45 non-null     object\n",
      " 2   Size    45 non-null     int64 \n",
      "dtypes: int64(2), object(1)\n",
      "memory usage: 1.2+ KB\n"
     ]
    }
   ],
   "source": [
    "stores.info()"
   ]
  },
  {
   "cell_type": "code",
   "execution_count": 10,
   "metadata": {
    "execution": {
     "iopub.execute_input": "2023-01-02T18:09:07.077597Z",
     "iopub.status.busy": "2023-01-02T18:09:07.077231Z",
     "iopub.status.idle": "2023-01-02T18:09:07.084802Z",
     "shell.execute_reply": "2023-01-02T18:09:07.083653Z",
     "shell.execute_reply.started": "2023-01-02T18:09:07.077564Z"
    },
    "id": "AujWTKXVnx5-",
    "outputId": "c36d7ed7-aebe-4b02-cfae-0befc071f752"
   },
   "outputs": [
    {
     "data": {
      "text/plain": [
       "(8190, 12)"
      ]
     },
     "execution_count": 10,
     "metadata": {},
     "output_type": "execute_result"
    }
   ],
   "source": [
    "features.shape"
   ]
  },
  {
   "cell_type": "code",
   "execution_count": 11,
   "metadata": {
    "execution": {
     "iopub.execute_input": "2023-01-02T18:09:07.087138Z",
     "iopub.status.busy": "2023-01-02T18:09:07.086405Z",
     "iopub.status.idle": "2023-01-02T18:09:07.105881Z",
     "shell.execute_reply": "2023-01-02T18:09:07.104497Z",
     "shell.execute_reply.started": "2023-01-02T18:09:07.087102Z"
    },
    "id": "WObSNsDQn2ye",
    "outputId": "c7dca046-9e6a-4313-db4f-6451261edbb8"
   },
   "outputs": [
    {
     "data": {
      "text/html": [
       "<div>\n",
       "<style scoped>\n",
       "    .dataframe tbody tr th:only-of-type {\n",
       "        vertical-align: middle;\n",
       "    }\n",
       "\n",
       "    .dataframe tbody tr th {\n",
       "        vertical-align: top;\n",
       "    }\n",
       "\n",
       "    .dataframe thead th {\n",
       "        text-align: right;\n",
       "    }\n",
       "</style>\n",
       "<table border=\"1\" class=\"dataframe\">\n",
       "  <thead>\n",
       "    <tr style=\"text-align: right;\">\n",
       "      <th></th>\n",
       "      <th>Store</th>\n",
       "      <th>Date</th>\n",
       "      <th>Temperature</th>\n",
       "      <th>Fuel_Price</th>\n",
       "      <th>MarkDown1</th>\n",
       "      <th>MarkDown2</th>\n",
       "      <th>MarkDown3</th>\n",
       "      <th>MarkDown4</th>\n",
       "      <th>MarkDown5</th>\n",
       "      <th>CPI</th>\n",
       "      <th>Unemployment</th>\n",
       "      <th>IsHoliday</th>\n",
       "    </tr>\n",
       "  </thead>\n",
       "  <tbody>\n",
       "    <tr>\n",
       "      <th>0</th>\n",
       "      <td>1</td>\n",
       "      <td>2010-02-05</td>\n",
       "      <td>42.31</td>\n",
       "      <td>2.572</td>\n",
       "      <td>NaN</td>\n",
       "      <td>NaN</td>\n",
       "      <td>NaN</td>\n",
       "      <td>NaN</td>\n",
       "      <td>NaN</td>\n",
       "      <td>211.096358</td>\n",
       "      <td>8.106</td>\n",
       "      <td>False</td>\n",
       "    </tr>\n",
       "    <tr>\n",
       "      <th>1</th>\n",
       "      <td>1</td>\n",
       "      <td>2010-02-12</td>\n",
       "      <td>38.51</td>\n",
       "      <td>2.548</td>\n",
       "      <td>NaN</td>\n",
       "      <td>NaN</td>\n",
       "      <td>NaN</td>\n",
       "      <td>NaN</td>\n",
       "      <td>NaN</td>\n",
       "      <td>211.242170</td>\n",
       "      <td>8.106</td>\n",
       "      <td>True</td>\n",
       "    </tr>\n",
       "    <tr>\n",
       "      <th>2</th>\n",
       "      <td>1</td>\n",
       "      <td>2010-02-19</td>\n",
       "      <td>39.93</td>\n",
       "      <td>2.514</td>\n",
       "      <td>NaN</td>\n",
       "      <td>NaN</td>\n",
       "      <td>NaN</td>\n",
       "      <td>NaN</td>\n",
       "      <td>NaN</td>\n",
       "      <td>211.289143</td>\n",
       "      <td>8.106</td>\n",
       "      <td>False</td>\n",
       "    </tr>\n",
       "    <tr>\n",
       "      <th>3</th>\n",
       "      <td>1</td>\n",
       "      <td>2010-02-26</td>\n",
       "      <td>46.63</td>\n",
       "      <td>2.561</td>\n",
       "      <td>NaN</td>\n",
       "      <td>NaN</td>\n",
       "      <td>NaN</td>\n",
       "      <td>NaN</td>\n",
       "      <td>NaN</td>\n",
       "      <td>211.319643</td>\n",
       "      <td>8.106</td>\n",
       "      <td>False</td>\n",
       "    </tr>\n",
       "    <tr>\n",
       "      <th>4</th>\n",
       "      <td>1</td>\n",
       "      <td>2010-03-05</td>\n",
       "      <td>46.50</td>\n",
       "      <td>2.625</td>\n",
       "      <td>NaN</td>\n",
       "      <td>NaN</td>\n",
       "      <td>NaN</td>\n",
       "      <td>NaN</td>\n",
       "      <td>NaN</td>\n",
       "      <td>211.350143</td>\n",
       "      <td>8.106</td>\n",
       "      <td>False</td>\n",
       "    </tr>\n",
       "  </tbody>\n",
       "</table>\n",
       "</div>"
      ],
      "text/plain": [
       "   Store        Date  Temperature  Fuel_Price  MarkDown1  MarkDown2  \\\n",
       "0      1  2010-02-05        42.31       2.572        NaN        NaN   \n",
       "1      1  2010-02-12        38.51       2.548        NaN        NaN   \n",
       "2      1  2010-02-19        39.93       2.514        NaN        NaN   \n",
       "3      1  2010-02-26        46.63       2.561        NaN        NaN   \n",
       "4      1  2010-03-05        46.50       2.625        NaN        NaN   \n",
       "\n",
       "   MarkDown3  MarkDown4  MarkDown5         CPI  Unemployment  IsHoliday  \n",
       "0        NaN        NaN        NaN  211.096358         8.106      False  \n",
       "1        NaN        NaN        NaN  211.242170         8.106       True  \n",
       "2        NaN        NaN        NaN  211.289143         8.106      False  \n",
       "3        NaN        NaN        NaN  211.319643         8.106      False  \n",
       "4        NaN        NaN        NaN  211.350143         8.106      False  "
      ]
     },
     "execution_count": 11,
     "metadata": {},
     "output_type": "execute_result"
    }
   ],
   "source": [
    "features.head()"
   ]
  },
  {
   "cell_type": "code",
   "execution_count": 12,
   "metadata": {
    "execution": {
     "iopub.execute_input": "2023-01-02T18:09:07.107930Z",
     "iopub.status.busy": "2023-01-02T18:09:07.107499Z",
     "iopub.status.idle": "2023-01-02T18:09:07.124117Z",
     "shell.execute_reply": "2023-01-02T18:09:07.123285Z",
     "shell.execute_reply.started": "2023-01-02T18:09:07.107873Z"
    },
    "id": "aF7bnywen6n_",
    "outputId": "c388221a-2943-4d95-c454-8284180f328b"
   },
   "outputs": [
    {
     "name": "stdout",
     "output_type": "stream",
     "text": [
      "<class 'pandas.core.frame.DataFrame'>\n",
      "RangeIndex: 8190 entries, 0 to 8189\n",
      "Data columns (total 12 columns):\n",
      " #   Column        Non-Null Count  Dtype  \n",
      "---  ------        --------------  -----  \n",
      " 0   Store         8190 non-null   int64  \n",
      " 1   Date          8190 non-null   object \n",
      " 2   Temperature   8190 non-null   float64\n",
      " 3   Fuel_Price    8190 non-null   float64\n",
      " 4   MarkDown1     4032 non-null   float64\n",
      " 5   MarkDown2     2921 non-null   float64\n",
      " 6   MarkDown3     3613 non-null   float64\n",
      " 7   MarkDown4     3464 non-null   float64\n",
      " 8   MarkDown5     4050 non-null   float64\n",
      " 9   CPI           7605 non-null   float64\n",
      " 10  Unemployment  7605 non-null   float64\n",
      " 11  IsHoliday     8190 non-null   bool   \n",
      "dtypes: bool(1), float64(9), int64(1), object(1)\n",
      "memory usage: 712.0+ KB\n"
     ]
    }
   ],
   "source": [
    "features.info()"
   ]
  },
  {
   "cell_type": "code",
   "execution_count": 13,
   "metadata": {
    "execution": {
     "iopub.execute_input": "2023-01-02T18:09:07.126184Z",
     "iopub.status.busy": "2023-01-02T18:09:07.125171Z",
     "iopub.status.idle": "2023-01-02T18:09:07.137172Z",
     "shell.execute_reply": "2023-01-02T18:09:07.135803Z",
     "shell.execute_reply.started": "2023-01-02T18:09:07.126149Z"
    },
    "id": "D_3-Blr1oCmX",
    "outputId": "689f14e4-507a-475b-cfc5-8854580889e5"
   },
   "outputs": [
    {
     "data": {
      "text/plain": [
       "Store              0\n",
       "Date               0\n",
       "Temperature        0\n",
       "Fuel_Price         0\n",
       "MarkDown1       4158\n",
       "MarkDown2       5269\n",
       "MarkDown3       4577\n",
       "MarkDown4       4726\n",
       "MarkDown5       4140\n",
       "CPI              585\n",
       "Unemployment     585\n",
       "IsHoliday          0\n",
       "dtype: int64"
      ]
     },
     "execution_count": 13,
     "metadata": {},
     "output_type": "execute_result"
    }
   ],
   "source": [
    "features.isna().sum()"
   ]
  },
  {
   "cell_type": "code",
   "execution_count": 14,
   "metadata": {
    "execution": {
     "iopub.execute_input": "2023-01-02T18:09:07.143031Z",
     "iopub.status.busy": "2023-01-02T18:09:07.142130Z",
     "iopub.status.idle": "2023-01-02T18:09:07.152078Z",
     "shell.execute_reply": "2023-01-02T18:09:07.150953Z",
     "shell.execute_reply.started": "2023-01-02T18:09:07.142989Z"
    },
    "id": "j1reP-gWoIMO"
   },
   "outputs": [],
   "source": [
    "# filling missing values\n",
    "features['CPI'].fillna(features['CPI'].median(),inplace=True)\n",
    "features['Unemployment'].fillna(features['Unemployment'].median(),inplace=True)"
   ]
  },
  {
   "cell_type": "code",
   "execution_count": 15,
   "metadata": {
    "execution": {
     "iopub.execute_input": "2023-01-02T18:09:07.154330Z",
     "iopub.status.busy": "2023-01-02T18:09:07.153886Z",
     "iopub.status.idle": "2023-01-02T18:09:07.167025Z",
     "shell.execute_reply": "2023-01-02T18:09:07.165650Z",
     "shell.execute_reply.started": "2023-01-02T18:09:07.154296Z"
    },
    "id": "grkj30n-o2O_",
    "outputId": "5e544bed-ab83-4aa8-eacd-38fb0e080930"
   },
   "outputs": [
    {
     "data": {
      "text/plain": [
       "array([2, 1], dtype=int64)"
      ]
     },
     "execution_count": 15,
     "metadata": {},
     "output_type": "execute_result"
    }
   ],
   "source": [
    "features['MarkDown1'].value_counts().unique()"
   ]
  },
  {
   "cell_type": "code",
   "execution_count": 16,
   "metadata": {
    "execution": {
     "iopub.execute_input": "2023-01-02T18:09:07.169029Z",
     "iopub.status.busy": "2023-01-02T18:09:07.168560Z",
     "iopub.status.idle": "2023-01-02T18:09:07.193242Z",
     "shell.execute_reply": "2023-01-02T18:09:07.191998Z",
     "shell.execute_reply.started": "2023-01-02T18:09:07.168991Z"
    },
    "id": "gFhqr8v0pcg7"
   },
   "outputs": [],
   "source": [
    "from pandas.core.ops import flex_arith_method_FRAME\n",
    "for i in range(1,6):\n",
    "  features[\"MarkDown\"+str(i)] = features[\"MarkDown\"+str(i)].apply(lambda x: 0 if x<0 else x )\n",
    "  features[\"MarkDown\"+str(i)].fillna(value=0,inplace=True)"
   ]
  },
  {
   "cell_type": "code",
   "execution_count": 17,
   "metadata": {
    "execution": {
     "iopub.execute_input": "2023-01-02T18:09:07.195159Z",
     "iopub.status.busy": "2023-01-02T18:09:07.194788Z",
     "iopub.status.idle": "2023-01-02T18:09:07.209860Z",
     "shell.execute_reply": "2023-01-02T18:09:07.208612Z",
     "shell.execute_reply.started": "2023-01-02T18:09:07.195125Z"
    },
    "id": "jvyKLYOHrRLt",
    "outputId": "d84e5855-364e-42a2-d4c3-dc9af1691c78"
   },
   "outputs": [
    {
     "name": "stdout",
     "output_type": "stream",
     "text": [
      "<class 'pandas.core.frame.DataFrame'>\n",
      "RangeIndex: 8190 entries, 0 to 8189\n",
      "Data columns (total 12 columns):\n",
      " #   Column        Non-Null Count  Dtype  \n",
      "---  ------        --------------  -----  \n",
      " 0   Store         8190 non-null   int64  \n",
      " 1   Date          8190 non-null   object \n",
      " 2   Temperature   8190 non-null   float64\n",
      " 3   Fuel_Price    8190 non-null   float64\n",
      " 4   MarkDown1     8190 non-null   float64\n",
      " 5   MarkDown2     8190 non-null   float64\n",
      " 6   MarkDown3     8190 non-null   float64\n",
      " 7   MarkDown4     8190 non-null   float64\n",
      " 8   MarkDown5     8190 non-null   float64\n",
      " 9   CPI           8190 non-null   float64\n",
      " 10  Unemployment  8190 non-null   float64\n",
      " 11  IsHoliday     8190 non-null   bool   \n",
      "dtypes: bool(1), float64(9), int64(1), object(1)\n",
      "memory usage: 712.0+ KB\n"
     ]
    }
   ],
   "source": [
    "features.info()"
   ]
  },
  {
   "cell_type": "code",
   "execution_count": 18,
   "metadata": {
    "execution": {
     "iopub.execute_input": "2023-01-02T18:09:07.212276Z",
     "iopub.status.busy": "2023-01-02T18:09:07.211541Z",
     "iopub.status.idle": "2023-01-02T18:09:07.233337Z",
     "shell.execute_reply": "2023-01-02T18:09:07.232115Z",
     "shell.execute_reply.started": "2023-01-02T18:09:07.212231Z"
    },
    "id": "ajeN8jTUrWHk",
    "outputId": "cdbf0e1f-6fb9-48c7-83c4-47588f92ef69"
   },
   "outputs": [
    {
     "data": {
      "text/html": [
       "<div>\n",
       "<style scoped>\n",
       "    .dataframe tbody tr th:only-of-type {\n",
       "        vertical-align: middle;\n",
       "    }\n",
       "\n",
       "    .dataframe tbody tr th {\n",
       "        vertical-align: top;\n",
       "    }\n",
       "\n",
       "    .dataframe thead th {\n",
       "        text-align: right;\n",
       "    }\n",
       "</style>\n",
       "<table border=\"1\" class=\"dataframe\">\n",
       "  <thead>\n",
       "    <tr style=\"text-align: right;\">\n",
       "      <th></th>\n",
       "      <th>Store</th>\n",
       "      <th>Date</th>\n",
       "      <th>Temperature</th>\n",
       "      <th>Fuel_Price</th>\n",
       "      <th>MarkDown1</th>\n",
       "      <th>MarkDown2</th>\n",
       "      <th>MarkDown3</th>\n",
       "      <th>MarkDown4</th>\n",
       "      <th>MarkDown5</th>\n",
       "      <th>CPI</th>\n",
       "      <th>Unemployment</th>\n",
       "      <th>IsHoliday</th>\n",
       "    </tr>\n",
       "  </thead>\n",
       "  <tbody>\n",
       "    <tr>\n",
       "      <th>0</th>\n",
       "      <td>1</td>\n",
       "      <td>2010-02-05</td>\n",
       "      <td>42.31</td>\n",
       "      <td>2.572</td>\n",
       "      <td>0.0</td>\n",
       "      <td>0.0</td>\n",
       "      <td>0.0</td>\n",
       "      <td>0.0</td>\n",
       "      <td>0.0</td>\n",
       "      <td>211.096358</td>\n",
       "      <td>8.106</td>\n",
       "      <td>False</td>\n",
       "    </tr>\n",
       "    <tr>\n",
       "      <th>1</th>\n",
       "      <td>1</td>\n",
       "      <td>2010-02-12</td>\n",
       "      <td>38.51</td>\n",
       "      <td>2.548</td>\n",
       "      <td>0.0</td>\n",
       "      <td>0.0</td>\n",
       "      <td>0.0</td>\n",
       "      <td>0.0</td>\n",
       "      <td>0.0</td>\n",
       "      <td>211.242170</td>\n",
       "      <td>8.106</td>\n",
       "      <td>True</td>\n",
       "    </tr>\n",
       "    <tr>\n",
       "      <th>2</th>\n",
       "      <td>1</td>\n",
       "      <td>2010-02-19</td>\n",
       "      <td>39.93</td>\n",
       "      <td>2.514</td>\n",
       "      <td>0.0</td>\n",
       "      <td>0.0</td>\n",
       "      <td>0.0</td>\n",
       "      <td>0.0</td>\n",
       "      <td>0.0</td>\n",
       "      <td>211.289143</td>\n",
       "      <td>8.106</td>\n",
       "      <td>False</td>\n",
       "    </tr>\n",
       "    <tr>\n",
       "      <th>3</th>\n",
       "      <td>1</td>\n",
       "      <td>2010-02-26</td>\n",
       "      <td>46.63</td>\n",
       "      <td>2.561</td>\n",
       "      <td>0.0</td>\n",
       "      <td>0.0</td>\n",
       "      <td>0.0</td>\n",
       "      <td>0.0</td>\n",
       "      <td>0.0</td>\n",
       "      <td>211.319643</td>\n",
       "      <td>8.106</td>\n",
       "      <td>False</td>\n",
       "    </tr>\n",
       "    <tr>\n",
       "      <th>4</th>\n",
       "      <td>1</td>\n",
       "      <td>2010-03-05</td>\n",
       "      <td>46.50</td>\n",
       "      <td>2.625</td>\n",
       "      <td>0.0</td>\n",
       "      <td>0.0</td>\n",
       "      <td>0.0</td>\n",
       "      <td>0.0</td>\n",
       "      <td>0.0</td>\n",
       "      <td>211.350143</td>\n",
       "      <td>8.106</td>\n",
       "      <td>False</td>\n",
       "    </tr>\n",
       "  </tbody>\n",
       "</table>\n",
       "</div>"
      ],
      "text/plain": [
       "   Store        Date  Temperature  Fuel_Price  MarkDown1  MarkDown2  \\\n",
       "0      1  2010-02-05        42.31       2.572        0.0        0.0   \n",
       "1      1  2010-02-12        38.51       2.548        0.0        0.0   \n",
       "2      1  2010-02-19        39.93       2.514        0.0        0.0   \n",
       "3      1  2010-02-26        46.63       2.561        0.0        0.0   \n",
       "4      1  2010-03-05        46.50       2.625        0.0        0.0   \n",
       "\n",
       "   MarkDown3  MarkDown4  MarkDown5         CPI  Unemployment  IsHoliday  \n",
       "0        0.0        0.0        0.0  211.096358         8.106      False  \n",
       "1        0.0        0.0        0.0  211.242170         8.106       True  \n",
       "2        0.0        0.0        0.0  211.289143         8.106      False  \n",
       "3        0.0        0.0        0.0  211.319643         8.106      False  \n",
       "4        0.0        0.0        0.0  211.350143         8.106      False  "
      ]
     },
     "execution_count": 18,
     "metadata": {},
     "output_type": "execute_result"
    }
   ],
   "source": [
    "features.head()"
   ]
  },
  {
   "cell_type": "code",
   "execution_count": 19,
   "metadata": {
    "execution": {
     "iopub.execute_input": "2023-01-02T18:09:07.235828Z",
     "iopub.status.busy": "2023-01-02T18:09:07.234855Z",
     "iopub.status.idle": "2023-01-02T18:09:07.341697Z",
     "shell.execute_reply": "2023-01-02T18:09:07.340641Z",
     "shell.execute_reply.started": "2023-01-02T18:09:07.235782Z"
    },
    "id": "90AfNX04rZtk"
   },
   "outputs": [],
   "source": [
    "data = pd.merge(data,stores,on='Store',how='left')"
   ]
  },
  {
   "cell_type": "code",
   "execution_count": 20,
   "metadata": {
    "execution": {
     "iopub.execute_input": "2023-01-02T18:09:07.343728Z",
     "iopub.status.busy": "2023-01-02T18:09:07.343245Z",
     "iopub.status.idle": "2023-01-02T18:09:07.511286Z",
     "shell.execute_reply": "2023-01-02T18:09:07.510203Z",
     "shell.execute_reply.started": "2023-01-02T18:09:07.343682Z"
    },
    "id": "jd7dQCSProKV",
    "outputId": "fc332d36-7c90-4d36-87a2-dcaacce761c3"
   },
   "outputs": [
    {
     "data": {
      "text/html": [
       "<div>\n",
       "<style scoped>\n",
       "    .dataframe tbody tr th:only-of-type {\n",
       "        vertical-align: middle;\n",
       "    }\n",
       "\n",
       "    .dataframe tbody tr th {\n",
       "        vertical-align: top;\n",
       "    }\n",
       "\n",
       "    .dataframe thead th {\n",
       "        text-align: right;\n",
       "    }\n",
       "</style>\n",
       "<table border=\"1\" class=\"dataframe\">\n",
       "  <thead>\n",
       "    <tr style=\"text-align: right;\">\n",
       "      <th></th>\n",
       "      <th>Store</th>\n",
       "      <th>Dept</th>\n",
       "      <th>Date</th>\n",
       "      <th>Weekly_Sales</th>\n",
       "      <th>IsHoliday_x</th>\n",
       "      <th>Type</th>\n",
       "      <th>Size</th>\n",
       "      <th>Temperature</th>\n",
       "      <th>Fuel_Price</th>\n",
       "      <th>MarkDown1</th>\n",
       "      <th>MarkDown2</th>\n",
       "      <th>MarkDown3</th>\n",
       "      <th>MarkDown4</th>\n",
       "      <th>MarkDown5</th>\n",
       "      <th>CPI</th>\n",
       "      <th>Unemployment</th>\n",
       "      <th>IsHoliday_y</th>\n",
       "    </tr>\n",
       "  </thead>\n",
       "  <tbody>\n",
       "    <tr>\n",
       "      <th>0</th>\n",
       "      <td>1</td>\n",
       "      <td>1</td>\n",
       "      <td>2010-02-05</td>\n",
       "      <td>24924.50</td>\n",
       "      <td>False</td>\n",
       "      <td>A</td>\n",
       "      <td>151315</td>\n",
       "      <td>42.31</td>\n",
       "      <td>2.572</td>\n",
       "      <td>0.0</td>\n",
       "      <td>0.0</td>\n",
       "      <td>0.0</td>\n",
       "      <td>0.0</td>\n",
       "      <td>0.0</td>\n",
       "      <td>211.096358</td>\n",
       "      <td>8.106</td>\n",
       "      <td>False</td>\n",
       "    </tr>\n",
       "    <tr>\n",
       "      <th>1</th>\n",
       "      <td>1</td>\n",
       "      <td>1</td>\n",
       "      <td>2010-02-12</td>\n",
       "      <td>46039.49</td>\n",
       "      <td>True</td>\n",
       "      <td>A</td>\n",
       "      <td>151315</td>\n",
       "      <td>38.51</td>\n",
       "      <td>2.548</td>\n",
       "      <td>0.0</td>\n",
       "      <td>0.0</td>\n",
       "      <td>0.0</td>\n",
       "      <td>0.0</td>\n",
       "      <td>0.0</td>\n",
       "      <td>211.242170</td>\n",
       "      <td>8.106</td>\n",
       "      <td>True</td>\n",
       "    </tr>\n",
       "    <tr>\n",
       "      <th>2</th>\n",
       "      <td>1</td>\n",
       "      <td>1</td>\n",
       "      <td>2010-02-19</td>\n",
       "      <td>41595.55</td>\n",
       "      <td>False</td>\n",
       "      <td>A</td>\n",
       "      <td>151315</td>\n",
       "      <td>39.93</td>\n",
       "      <td>2.514</td>\n",
       "      <td>0.0</td>\n",
       "      <td>0.0</td>\n",
       "      <td>0.0</td>\n",
       "      <td>0.0</td>\n",
       "      <td>0.0</td>\n",
       "      <td>211.289143</td>\n",
       "      <td>8.106</td>\n",
       "      <td>False</td>\n",
       "    </tr>\n",
       "    <tr>\n",
       "      <th>3</th>\n",
       "      <td>1</td>\n",
       "      <td>1</td>\n",
       "      <td>2010-02-26</td>\n",
       "      <td>19403.54</td>\n",
       "      <td>False</td>\n",
       "      <td>A</td>\n",
       "      <td>151315</td>\n",
       "      <td>46.63</td>\n",
       "      <td>2.561</td>\n",
       "      <td>0.0</td>\n",
       "      <td>0.0</td>\n",
       "      <td>0.0</td>\n",
       "      <td>0.0</td>\n",
       "      <td>0.0</td>\n",
       "      <td>211.319643</td>\n",
       "      <td>8.106</td>\n",
       "      <td>False</td>\n",
       "    </tr>\n",
       "    <tr>\n",
       "      <th>4</th>\n",
       "      <td>1</td>\n",
       "      <td>1</td>\n",
       "      <td>2010-03-05</td>\n",
       "      <td>21827.90</td>\n",
       "      <td>False</td>\n",
       "      <td>A</td>\n",
       "      <td>151315</td>\n",
       "      <td>46.50</td>\n",
       "      <td>2.625</td>\n",
       "      <td>0.0</td>\n",
       "      <td>0.0</td>\n",
       "      <td>0.0</td>\n",
       "      <td>0.0</td>\n",
       "      <td>0.0</td>\n",
       "      <td>211.350143</td>\n",
       "      <td>8.106</td>\n",
       "      <td>False</td>\n",
       "    </tr>\n",
       "  </tbody>\n",
       "</table>\n",
       "</div>"
      ],
      "text/plain": [
       "   Store  Dept        Date  Weekly_Sales  IsHoliday_x Type    Size  \\\n",
       "0      1     1  2010-02-05      24924.50        False    A  151315   \n",
       "1      1     1  2010-02-12      46039.49         True    A  151315   \n",
       "2      1     1  2010-02-19      41595.55        False    A  151315   \n",
       "3      1     1  2010-02-26      19403.54        False    A  151315   \n",
       "4      1     1  2010-03-05      21827.90        False    A  151315   \n",
       "\n",
       "   Temperature  Fuel_Price  MarkDown1  MarkDown2  MarkDown3  MarkDown4  \\\n",
       "0        42.31       2.572        0.0        0.0        0.0        0.0   \n",
       "1        38.51       2.548        0.0        0.0        0.0        0.0   \n",
       "2        39.93       2.514        0.0        0.0        0.0        0.0   \n",
       "3        46.63       2.561        0.0        0.0        0.0        0.0   \n",
       "4        46.50       2.625        0.0        0.0        0.0        0.0   \n",
       "\n",
       "   MarkDown5         CPI  Unemployment  IsHoliday_y  \n",
       "0        0.0  211.096358         8.106        False  \n",
       "1        0.0  211.242170         8.106         True  \n",
       "2        0.0  211.289143         8.106        False  \n",
       "3        0.0  211.319643         8.106        False  \n",
       "4        0.0  211.350143         8.106        False  "
      ]
     },
     "execution_count": 20,
     "metadata": {},
     "output_type": "execute_result"
    }
   ],
   "source": [
    "data = pd.merge(data,features,on=['Store','Date'],how='left')\n",
    "data.head()"
   ]
  },
  {
   "cell_type": "code",
   "execution_count": 21,
   "metadata": {
    "execution": {
     "iopub.execute_input": "2023-01-02T18:09:07.512985Z",
     "iopub.status.busy": "2023-01-02T18:09:07.512636Z",
     "iopub.status.idle": "2023-01-02T18:09:07.578195Z",
     "shell.execute_reply": "2023-01-02T18:09:07.576987Z",
     "shell.execute_reply.started": "2023-01-02T18:09:07.512954Z"
    },
    "id": "x1FQhUoisywb",
    "outputId": "e9aa9835-d006-418e-9209-1a49aa9ffea4"
   },
   "outputs": [
    {
     "name": "stdout",
     "output_type": "stream",
     "text": [
      "<class 'pandas.core.frame.DataFrame'>\n",
      "Int64Index: 421570 entries, 0 to 421569\n",
      "Data columns (total 17 columns):\n",
      " #   Column        Non-Null Count   Dtype  \n",
      "---  ------        --------------   -----  \n",
      " 0   Store         421570 non-null  int64  \n",
      " 1   Dept          421570 non-null  int64  \n",
      " 2   Date          421570 non-null  object \n",
      " 3   Weekly_Sales  421570 non-null  float64\n",
      " 4   IsHoliday_x   421570 non-null  bool   \n",
      " 5   Type          421570 non-null  object \n",
      " 6   Size          421570 non-null  int64  \n",
      " 7   Temperature   421570 non-null  float64\n",
      " 8   Fuel_Price    421570 non-null  float64\n",
      " 9   MarkDown1     421570 non-null  float64\n",
      " 10  MarkDown2     421570 non-null  float64\n",
      " 11  MarkDown3     421570 non-null  float64\n",
      " 12  MarkDown4     421570 non-null  float64\n",
      " 13  MarkDown5     421570 non-null  float64\n",
      " 14  CPI           421570 non-null  float64\n",
      " 15  Unemployment  421570 non-null  float64\n",
      " 16  IsHoliday_y   421570 non-null  bool   \n",
      "dtypes: bool(2), float64(10), int64(3), object(2)\n",
      "memory usage: 52.3+ MB\n"
     ]
    }
   ],
   "source": [
    "data.info()"
   ]
  },
  {
   "cell_type": "code",
   "execution_count": 22,
   "metadata": {
    "execution": {
     "iopub.execute_input": "2023-01-02T18:09:07.580571Z",
     "iopub.status.busy": "2023-01-02T18:09:07.580105Z",
     "iopub.status.idle": "2023-01-02T18:09:07.780398Z",
     "shell.execute_reply": "2023-01-02T18:09:07.779297Z",
     "shell.execute_reply.started": "2023-01-02T18:09:07.580515Z"
    },
    "id": "sGHze3g5sAU4",
    "outputId": "f8712681-2c00-424d-8431-0e93262c35ce"
   },
   "outputs": [
    {
     "data": {
      "text/html": [
       "<div>\n",
       "<style scoped>\n",
       "    .dataframe tbody tr th:only-of-type {\n",
       "        vertical-align: middle;\n",
       "    }\n",
       "\n",
       "    .dataframe tbody tr th {\n",
       "        vertical-align: top;\n",
       "    }\n",
       "\n",
       "    .dataframe thead th {\n",
       "        text-align: right;\n",
       "    }\n",
       "</style>\n",
       "<table border=\"1\" class=\"dataframe\">\n",
       "  <thead>\n",
       "    <tr style=\"text-align: right;\">\n",
       "      <th></th>\n",
       "      <th>Store</th>\n",
       "      <th>Dept</th>\n",
       "      <th>Date</th>\n",
       "      <th>Weekly_Sales</th>\n",
       "      <th>IsHoliday_x</th>\n",
       "      <th>Type</th>\n",
       "      <th>Size</th>\n",
       "      <th>Temperature</th>\n",
       "      <th>Fuel_Price</th>\n",
       "      <th>MarkDown1</th>\n",
       "      <th>MarkDown2</th>\n",
       "      <th>MarkDown3</th>\n",
       "      <th>MarkDown4</th>\n",
       "      <th>MarkDown5</th>\n",
       "      <th>CPI</th>\n",
       "      <th>Unemployment</th>\n",
       "      <th>IsHoliday_y</th>\n",
       "    </tr>\n",
       "    <tr>\n",
       "      <th>Date</th>\n",
       "      <th></th>\n",
       "      <th></th>\n",
       "      <th></th>\n",
       "      <th></th>\n",
       "      <th></th>\n",
       "      <th></th>\n",
       "      <th></th>\n",
       "      <th></th>\n",
       "      <th></th>\n",
       "      <th></th>\n",
       "      <th></th>\n",
       "      <th></th>\n",
       "      <th></th>\n",
       "      <th></th>\n",
       "      <th></th>\n",
       "      <th></th>\n",
       "      <th></th>\n",
       "    </tr>\n",
       "  </thead>\n",
       "  <tbody>\n",
       "    <tr>\n",
       "      <th>2010-02-05</th>\n",
       "      <td>1</td>\n",
       "      <td>1</td>\n",
       "      <td>2010-02-05</td>\n",
       "      <td>24924.50</td>\n",
       "      <td>False</td>\n",
       "      <td>A</td>\n",
       "      <td>151315</td>\n",
       "      <td>42.31</td>\n",
       "      <td>2.572</td>\n",
       "      <td>0.0</td>\n",
       "      <td>0.0</td>\n",
       "      <td>0.0</td>\n",
       "      <td>0.0</td>\n",
       "      <td>0.0</td>\n",
       "      <td>211.096358</td>\n",
       "      <td>8.106</td>\n",
       "      <td>False</td>\n",
       "    </tr>\n",
       "    <tr>\n",
       "      <th>2010-02-05</th>\n",
       "      <td>29</td>\n",
       "      <td>5</td>\n",
       "      <td>2010-02-05</td>\n",
       "      <td>15552.08</td>\n",
       "      <td>False</td>\n",
       "      <td>B</td>\n",
       "      <td>93638</td>\n",
       "      <td>24.36</td>\n",
       "      <td>2.788</td>\n",
       "      <td>0.0</td>\n",
       "      <td>0.0</td>\n",
       "      <td>0.0</td>\n",
       "      <td>0.0</td>\n",
       "      <td>0.0</td>\n",
       "      <td>131.527903</td>\n",
       "      <td>10.064</td>\n",
       "      <td>False</td>\n",
       "    </tr>\n",
       "    <tr>\n",
       "      <th>2010-02-05</th>\n",
       "      <td>29</td>\n",
       "      <td>6</td>\n",
       "      <td>2010-02-05</td>\n",
       "      <td>3200.22</td>\n",
       "      <td>False</td>\n",
       "      <td>B</td>\n",
       "      <td>93638</td>\n",
       "      <td>24.36</td>\n",
       "      <td>2.788</td>\n",
       "      <td>0.0</td>\n",
       "      <td>0.0</td>\n",
       "      <td>0.0</td>\n",
       "      <td>0.0</td>\n",
       "      <td>0.0</td>\n",
       "      <td>131.527903</td>\n",
       "      <td>10.064</td>\n",
       "      <td>False</td>\n",
       "    </tr>\n",
       "    <tr>\n",
       "      <th>2010-02-05</th>\n",
       "      <td>29</td>\n",
       "      <td>7</td>\n",
       "      <td>2010-02-05</td>\n",
       "      <td>10820.05</td>\n",
       "      <td>False</td>\n",
       "      <td>B</td>\n",
       "      <td>93638</td>\n",
       "      <td>24.36</td>\n",
       "      <td>2.788</td>\n",
       "      <td>0.0</td>\n",
       "      <td>0.0</td>\n",
       "      <td>0.0</td>\n",
       "      <td>0.0</td>\n",
       "      <td>0.0</td>\n",
       "      <td>131.527903</td>\n",
       "      <td>10.064</td>\n",
       "      <td>False</td>\n",
       "    </tr>\n",
       "    <tr>\n",
       "      <th>2010-02-05</th>\n",
       "      <td>29</td>\n",
       "      <td>8</td>\n",
       "      <td>2010-02-05</td>\n",
       "      <td>20055.64</td>\n",
       "      <td>False</td>\n",
       "      <td>B</td>\n",
       "      <td>93638</td>\n",
       "      <td>24.36</td>\n",
       "      <td>2.788</td>\n",
       "      <td>0.0</td>\n",
       "      <td>0.0</td>\n",
       "      <td>0.0</td>\n",
       "      <td>0.0</td>\n",
       "      <td>0.0</td>\n",
       "      <td>131.527903</td>\n",
       "      <td>10.064</td>\n",
       "      <td>False</td>\n",
       "    </tr>\n",
       "  </tbody>\n",
       "</table>\n",
       "</div>"
      ],
      "text/plain": [
       "            Store  Dept       Date  Weekly_Sales  IsHoliday_x Type    Size  \\\n",
       "Date                                                                         \n",
       "2010-02-05      1     1 2010-02-05      24924.50        False    A  151315   \n",
       "2010-02-05     29     5 2010-02-05      15552.08        False    B   93638   \n",
       "2010-02-05     29     6 2010-02-05       3200.22        False    B   93638   \n",
       "2010-02-05     29     7 2010-02-05      10820.05        False    B   93638   \n",
       "2010-02-05     29     8 2010-02-05      20055.64        False    B   93638   \n",
       "\n",
       "            Temperature  Fuel_Price  MarkDown1  MarkDown2  MarkDown3  \\\n",
       "Date                                                                   \n",
       "2010-02-05        42.31       2.572        0.0        0.0        0.0   \n",
       "2010-02-05        24.36       2.788        0.0        0.0        0.0   \n",
       "2010-02-05        24.36       2.788        0.0        0.0        0.0   \n",
       "2010-02-05        24.36       2.788        0.0        0.0        0.0   \n",
       "2010-02-05        24.36       2.788        0.0        0.0        0.0   \n",
       "\n",
       "            MarkDown4  MarkDown5         CPI  Unemployment  IsHoliday_y  \n",
       "Date                                                                     \n",
       "2010-02-05        0.0        0.0  211.096358         8.106        False  \n",
       "2010-02-05        0.0        0.0  131.527903        10.064        False  \n",
       "2010-02-05        0.0        0.0  131.527903        10.064        False  \n",
       "2010-02-05        0.0        0.0  131.527903        10.064        False  \n",
       "2010-02-05        0.0        0.0  131.527903        10.064        False  "
      ]
     },
     "execution_count": 22,
     "metadata": {},
     "output_type": "execute_result"
    }
   ],
   "source": [
    "data['Date'] = pd.to_datetime(data['Date'],errors='coerce')\n",
    "data.sort_values(by=['Date'],inplace=True)\n",
    "data.set_index(data.Date, inplace=True)\n",
    "data.head()"
   ]
  },
  {
   "cell_type": "code",
   "execution_count": 23,
   "metadata": {
    "execution": {
     "iopub.execute_input": "2023-01-02T18:09:07.783015Z",
     "iopub.status.busy": "2023-01-02T18:09:07.782492Z",
     "iopub.status.idle": "2023-01-02T18:09:07.795072Z",
     "shell.execute_reply": "2023-01-02T18:09:07.793865Z",
     "shell.execute_reply.started": "2023-01-02T18:09:07.782965Z"
    },
    "id": "YOeGa1fputf2",
    "outputId": "e9e843f1-1b8f-4ba3-d27f-364796919440"
   },
   "outputs": [
    {
     "data": {
      "text/plain": [
       "True"
      ]
     },
     "execution_count": 23,
     "metadata": {},
     "output_type": "execute_result"
    }
   ],
   "source": [
    "#check whether the column IsHoliday_x and IsHoliday_y are same or not\n",
    "data['IsHoliday_x'].isin(data['IsHoliday_y']).all()"
   ]
  },
  {
   "cell_type": "code",
   "execution_count": 24,
   "metadata": {
    "execution": {
     "iopub.execute_input": "2023-01-02T18:09:07.797639Z",
     "iopub.status.busy": "2023-01-02T18:09:07.796836Z",
     "iopub.status.idle": "2023-01-02T18:09:07.922973Z",
     "shell.execute_reply": "2023-01-02T18:09:07.921992Z",
     "shell.execute_reply.started": "2023-01-02T18:09:07.797592Z"
    },
    "id": "NlVo-4_Quzgx",
    "outputId": "e19c77d3-a504-45f7-a1f0-f450b7d419fb"
   },
   "outputs": [
    {
     "name": "stdout",
     "output_type": "stream",
     "text": [
      "<class 'pandas.core.frame.DataFrame'>\n",
      "DatetimeIndex: 421570 entries, 2010-02-05 to 2012-10-26\n",
      "Data columns (total 16 columns):\n",
      " #   Column        Non-Null Count   Dtype         \n",
      "---  ------        --------------   -----         \n",
      " 0   Store         421570 non-null  int64         \n",
      " 1   Dept          421570 non-null  int64         \n",
      " 2   Date          421570 non-null  datetime64[ns]\n",
      " 3   Weekly_Sales  421570 non-null  float64       \n",
      " 4   Type          421570 non-null  object        \n",
      " 5   Size          421570 non-null  int64         \n",
      " 6   Temperature   421570 non-null  float64       \n",
      " 7   Fuel_Price    421570 non-null  float64       \n",
      " 8   MarkDown1     421570 non-null  float64       \n",
      " 9   MarkDown2     421570 non-null  float64       \n",
      " 10  MarkDown3     421570 non-null  float64       \n",
      " 11  MarkDown4     421570 non-null  float64       \n",
      " 12  MarkDown5     421570 non-null  float64       \n",
      " 13  CPI           421570 non-null  float64       \n",
      " 14  Unemployment  421570 non-null  float64       \n",
      " 15  IsHoliday     421570 non-null  bool          \n",
      "dtypes: bool(1), datetime64[ns](1), float64(10), int64(3), object(1)\n",
      "memory usage: 51.9+ MB\n"
     ]
    }
   ],
   "source": [
    "#Since this two columns are same so drop any one column and make another column as IsHoliday\n",
    "data.drop(columns='IsHoliday_x',inplace=True)\n",
    "data.rename(columns={\"IsHoliday_y\" : \"IsHoliday\"}, inplace=True)\n",
    "data.info()"
   ]
  },
  {
   "cell_type": "code",
   "execution_count": 25,
   "metadata": {
    "execution": {
     "iopub.execute_input": "2023-01-02T18:09:07.924799Z",
     "iopub.status.busy": "2023-01-02T18:09:07.924457Z",
     "iopub.status.idle": "2023-01-02T18:09:07.949392Z",
     "shell.execute_reply": "2023-01-02T18:09:07.948179Z",
     "shell.execute_reply.started": "2023-01-02T18:09:07.924769Z"
    },
    "id": "oFl7U7DBvvKd",
    "outputId": "7c0a1607-ec0e-48aa-f8ce-9acbfb3502ef"
   },
   "outputs": [
    {
     "data": {
      "text/html": [
       "<div>\n",
       "<style scoped>\n",
       "    .dataframe tbody tr th:only-of-type {\n",
       "        vertical-align: middle;\n",
       "    }\n",
       "\n",
       "    .dataframe tbody tr th {\n",
       "        vertical-align: top;\n",
       "    }\n",
       "\n",
       "    .dataframe thead th {\n",
       "        text-align: right;\n",
       "    }\n",
       "</style>\n",
       "<table border=\"1\" class=\"dataframe\">\n",
       "  <thead>\n",
       "    <tr style=\"text-align: right;\">\n",
       "      <th></th>\n",
       "      <th>Store</th>\n",
       "      <th>Dept</th>\n",
       "      <th>Date</th>\n",
       "      <th>Weekly_Sales</th>\n",
       "      <th>Type</th>\n",
       "      <th>Size</th>\n",
       "      <th>Temperature</th>\n",
       "      <th>Fuel_Price</th>\n",
       "      <th>MarkDown1</th>\n",
       "      <th>MarkDown2</th>\n",
       "      <th>MarkDown3</th>\n",
       "      <th>MarkDown4</th>\n",
       "      <th>MarkDown5</th>\n",
       "      <th>CPI</th>\n",
       "      <th>Unemployment</th>\n",
       "      <th>IsHoliday</th>\n",
       "    </tr>\n",
       "    <tr>\n",
       "      <th>Date</th>\n",
       "      <th></th>\n",
       "      <th></th>\n",
       "      <th></th>\n",
       "      <th></th>\n",
       "      <th></th>\n",
       "      <th></th>\n",
       "      <th></th>\n",
       "      <th></th>\n",
       "      <th></th>\n",
       "      <th></th>\n",
       "      <th></th>\n",
       "      <th></th>\n",
       "      <th></th>\n",
       "      <th></th>\n",
       "      <th></th>\n",
       "      <th></th>\n",
       "    </tr>\n",
       "  </thead>\n",
       "  <tbody>\n",
       "    <tr>\n",
       "      <th>2010-02-05</th>\n",
       "      <td>1</td>\n",
       "      <td>1</td>\n",
       "      <td>2010-02-05</td>\n",
       "      <td>24924.50</td>\n",
       "      <td>A</td>\n",
       "      <td>151315</td>\n",
       "      <td>42.31</td>\n",
       "      <td>2.572</td>\n",
       "      <td>0.0</td>\n",
       "      <td>0.0</td>\n",
       "      <td>0.0</td>\n",
       "      <td>0.0</td>\n",
       "      <td>0.0</td>\n",
       "      <td>211.096358</td>\n",
       "      <td>8.106</td>\n",
       "      <td>False</td>\n",
       "    </tr>\n",
       "    <tr>\n",
       "      <th>2010-02-05</th>\n",
       "      <td>29</td>\n",
       "      <td>5</td>\n",
       "      <td>2010-02-05</td>\n",
       "      <td>15552.08</td>\n",
       "      <td>B</td>\n",
       "      <td>93638</td>\n",
       "      <td>24.36</td>\n",
       "      <td>2.788</td>\n",
       "      <td>0.0</td>\n",
       "      <td>0.0</td>\n",
       "      <td>0.0</td>\n",
       "      <td>0.0</td>\n",
       "      <td>0.0</td>\n",
       "      <td>131.527903</td>\n",
       "      <td>10.064</td>\n",
       "      <td>False</td>\n",
       "    </tr>\n",
       "    <tr>\n",
       "      <th>2010-02-05</th>\n",
       "      <td>29</td>\n",
       "      <td>6</td>\n",
       "      <td>2010-02-05</td>\n",
       "      <td>3200.22</td>\n",
       "      <td>B</td>\n",
       "      <td>93638</td>\n",
       "      <td>24.36</td>\n",
       "      <td>2.788</td>\n",
       "      <td>0.0</td>\n",
       "      <td>0.0</td>\n",
       "      <td>0.0</td>\n",
       "      <td>0.0</td>\n",
       "      <td>0.0</td>\n",
       "      <td>131.527903</td>\n",
       "      <td>10.064</td>\n",
       "      <td>False</td>\n",
       "    </tr>\n",
       "    <tr>\n",
       "      <th>2010-02-05</th>\n",
       "      <td>29</td>\n",
       "      <td>7</td>\n",
       "      <td>2010-02-05</td>\n",
       "      <td>10820.05</td>\n",
       "      <td>B</td>\n",
       "      <td>93638</td>\n",
       "      <td>24.36</td>\n",
       "      <td>2.788</td>\n",
       "      <td>0.0</td>\n",
       "      <td>0.0</td>\n",
       "      <td>0.0</td>\n",
       "      <td>0.0</td>\n",
       "      <td>0.0</td>\n",
       "      <td>131.527903</td>\n",
       "      <td>10.064</td>\n",
       "      <td>False</td>\n",
       "    </tr>\n",
       "    <tr>\n",
       "      <th>2010-02-05</th>\n",
       "      <td>29</td>\n",
       "      <td>8</td>\n",
       "      <td>2010-02-05</td>\n",
       "      <td>20055.64</td>\n",
       "      <td>B</td>\n",
       "      <td>93638</td>\n",
       "      <td>24.36</td>\n",
       "      <td>2.788</td>\n",
       "      <td>0.0</td>\n",
       "      <td>0.0</td>\n",
       "      <td>0.0</td>\n",
       "      <td>0.0</td>\n",
       "      <td>0.0</td>\n",
       "      <td>131.527903</td>\n",
       "      <td>10.064</td>\n",
       "      <td>False</td>\n",
       "    </tr>\n",
       "  </tbody>\n",
       "</table>\n",
       "</div>"
      ],
      "text/plain": [
       "            Store  Dept       Date  Weekly_Sales Type    Size  Temperature  \\\n",
       "Date                                                                         \n",
       "2010-02-05      1     1 2010-02-05      24924.50    A  151315        42.31   \n",
       "2010-02-05     29     5 2010-02-05      15552.08    B   93638        24.36   \n",
       "2010-02-05     29     6 2010-02-05       3200.22    B   93638        24.36   \n",
       "2010-02-05     29     7 2010-02-05      10820.05    B   93638        24.36   \n",
       "2010-02-05     29     8 2010-02-05      20055.64    B   93638        24.36   \n",
       "\n",
       "            Fuel_Price  MarkDown1  MarkDown2  MarkDown3  MarkDown4  MarkDown5  \\\n",
       "Date                                                                            \n",
       "2010-02-05       2.572        0.0        0.0        0.0        0.0        0.0   \n",
       "2010-02-05       2.788        0.0        0.0        0.0        0.0        0.0   \n",
       "2010-02-05       2.788        0.0        0.0        0.0        0.0        0.0   \n",
       "2010-02-05       2.788        0.0        0.0        0.0        0.0        0.0   \n",
       "2010-02-05       2.788        0.0        0.0        0.0        0.0        0.0   \n",
       "\n",
       "                   CPI  Unemployment  IsHoliday  \n",
       "Date                                             \n",
       "2010-02-05  211.096358         8.106      False  \n",
       "2010-02-05  131.527903        10.064      False  \n",
       "2010-02-05  131.527903        10.064      False  \n",
       "2010-02-05  131.527903        10.064      False  \n",
       "2010-02-05  131.527903        10.064      False  "
      ]
     },
     "execution_count": 25,
     "metadata": {},
     "output_type": "execute_result"
    }
   ],
   "source": [
    "data.head()"
   ]
  },
  {
   "cell_type": "code",
   "execution_count": 26,
   "metadata": {
    "execution": {
     "iopub.execute_input": "2023-01-02T18:09:07.951801Z",
     "iopub.status.busy": "2023-01-02T18:09:07.951109Z",
     "iopub.status.idle": "2023-01-02T18:09:08.177324Z",
     "shell.execute_reply": "2023-01-02T18:09:08.176164Z",
     "shell.execute_reply.started": "2023-01-02T18:09:07.951753Z"
    },
    "id": "GouCpNY7vzjP",
    "outputId": "4d506f1c-9d63-4638-ccc4-dae6023440fb"
   },
   "outputs": [],
   "source": [
    "data['Year'] = data['Date'].dt.year\n",
    "data['Month'] = data['Date'].dt.month\n",
    "data['Week'] = data['Date'].dt.week"
   ]
  },
  {
   "cell_type": "code",
   "execution_count": 27,
   "metadata": {
    "execution": {
     "iopub.execute_input": "2023-01-02T18:09:08.179708Z",
     "iopub.status.busy": "2023-01-02T18:09:08.178963Z",
     "iopub.status.idle": "2023-01-02T18:09:08.207093Z",
     "shell.execute_reply": "2023-01-02T18:09:08.205856Z",
     "shell.execute_reply.started": "2023-01-02T18:09:08.179670Z"
    },
    "id": "frBpwoFowO5a",
    "outputId": "7133c85a-759b-4362-947c-42e5533cc487"
   },
   "outputs": [
    {
     "data": {
      "text/html": [
       "<div>\n",
       "<style scoped>\n",
       "    .dataframe tbody tr th:only-of-type {\n",
       "        vertical-align: middle;\n",
       "    }\n",
       "\n",
       "    .dataframe tbody tr th {\n",
       "        vertical-align: top;\n",
       "    }\n",
       "\n",
       "    .dataframe thead th {\n",
       "        text-align: right;\n",
       "    }\n",
       "</style>\n",
       "<table border=\"1\" class=\"dataframe\">\n",
       "  <thead>\n",
       "    <tr style=\"text-align: right;\">\n",
       "      <th></th>\n",
       "      <th>Store</th>\n",
       "      <th>Dept</th>\n",
       "      <th>Date</th>\n",
       "      <th>Weekly_Sales</th>\n",
       "      <th>Type</th>\n",
       "      <th>Size</th>\n",
       "      <th>Temperature</th>\n",
       "      <th>Fuel_Price</th>\n",
       "      <th>MarkDown1</th>\n",
       "      <th>MarkDown2</th>\n",
       "      <th>MarkDown3</th>\n",
       "      <th>MarkDown4</th>\n",
       "      <th>MarkDown5</th>\n",
       "      <th>CPI</th>\n",
       "      <th>Unemployment</th>\n",
       "      <th>IsHoliday</th>\n",
       "      <th>Year</th>\n",
       "      <th>Month</th>\n",
       "      <th>Week</th>\n",
       "    </tr>\n",
       "    <tr>\n",
       "      <th>Date</th>\n",
       "      <th></th>\n",
       "      <th></th>\n",
       "      <th></th>\n",
       "      <th></th>\n",
       "      <th></th>\n",
       "      <th></th>\n",
       "      <th></th>\n",
       "      <th></th>\n",
       "      <th></th>\n",
       "      <th></th>\n",
       "      <th></th>\n",
       "      <th></th>\n",
       "      <th></th>\n",
       "      <th></th>\n",
       "      <th></th>\n",
       "      <th></th>\n",
       "      <th></th>\n",
       "      <th></th>\n",
       "      <th></th>\n",
       "    </tr>\n",
       "  </thead>\n",
       "  <tbody>\n",
       "    <tr>\n",
       "      <th>2010-02-05</th>\n",
       "      <td>1</td>\n",
       "      <td>1</td>\n",
       "      <td>2010-02-05</td>\n",
       "      <td>24924.50</td>\n",
       "      <td>A</td>\n",
       "      <td>151315</td>\n",
       "      <td>42.31</td>\n",
       "      <td>2.572</td>\n",
       "      <td>0.0</td>\n",
       "      <td>0.0</td>\n",
       "      <td>0.0</td>\n",
       "      <td>0.0</td>\n",
       "      <td>0.0</td>\n",
       "      <td>211.096358</td>\n",
       "      <td>8.106</td>\n",
       "      <td>False</td>\n",
       "      <td>2010</td>\n",
       "      <td>2</td>\n",
       "      <td>5</td>\n",
       "    </tr>\n",
       "    <tr>\n",
       "      <th>2010-02-05</th>\n",
       "      <td>29</td>\n",
       "      <td>5</td>\n",
       "      <td>2010-02-05</td>\n",
       "      <td>15552.08</td>\n",
       "      <td>B</td>\n",
       "      <td>93638</td>\n",
       "      <td>24.36</td>\n",
       "      <td>2.788</td>\n",
       "      <td>0.0</td>\n",
       "      <td>0.0</td>\n",
       "      <td>0.0</td>\n",
       "      <td>0.0</td>\n",
       "      <td>0.0</td>\n",
       "      <td>131.527903</td>\n",
       "      <td>10.064</td>\n",
       "      <td>False</td>\n",
       "      <td>2010</td>\n",
       "      <td>2</td>\n",
       "      <td>5</td>\n",
       "    </tr>\n",
       "    <tr>\n",
       "      <th>2010-02-05</th>\n",
       "      <td>29</td>\n",
       "      <td>6</td>\n",
       "      <td>2010-02-05</td>\n",
       "      <td>3200.22</td>\n",
       "      <td>B</td>\n",
       "      <td>93638</td>\n",
       "      <td>24.36</td>\n",
       "      <td>2.788</td>\n",
       "      <td>0.0</td>\n",
       "      <td>0.0</td>\n",
       "      <td>0.0</td>\n",
       "      <td>0.0</td>\n",
       "      <td>0.0</td>\n",
       "      <td>131.527903</td>\n",
       "      <td>10.064</td>\n",
       "      <td>False</td>\n",
       "      <td>2010</td>\n",
       "      <td>2</td>\n",
       "      <td>5</td>\n",
       "    </tr>\n",
       "    <tr>\n",
       "      <th>2010-02-05</th>\n",
       "      <td>29</td>\n",
       "      <td>7</td>\n",
       "      <td>2010-02-05</td>\n",
       "      <td>10820.05</td>\n",
       "      <td>B</td>\n",
       "      <td>93638</td>\n",
       "      <td>24.36</td>\n",
       "      <td>2.788</td>\n",
       "      <td>0.0</td>\n",
       "      <td>0.0</td>\n",
       "      <td>0.0</td>\n",
       "      <td>0.0</td>\n",
       "      <td>0.0</td>\n",
       "      <td>131.527903</td>\n",
       "      <td>10.064</td>\n",
       "      <td>False</td>\n",
       "      <td>2010</td>\n",
       "      <td>2</td>\n",
       "      <td>5</td>\n",
       "    </tr>\n",
       "    <tr>\n",
       "      <th>2010-02-05</th>\n",
       "      <td>29</td>\n",
       "      <td>8</td>\n",
       "      <td>2010-02-05</td>\n",
       "      <td>20055.64</td>\n",
       "      <td>B</td>\n",
       "      <td>93638</td>\n",
       "      <td>24.36</td>\n",
       "      <td>2.788</td>\n",
       "      <td>0.0</td>\n",
       "      <td>0.0</td>\n",
       "      <td>0.0</td>\n",
       "      <td>0.0</td>\n",
       "      <td>0.0</td>\n",
       "      <td>131.527903</td>\n",
       "      <td>10.064</td>\n",
       "      <td>False</td>\n",
       "      <td>2010</td>\n",
       "      <td>2</td>\n",
       "      <td>5</td>\n",
       "    </tr>\n",
       "  </tbody>\n",
       "</table>\n",
       "</div>"
      ],
      "text/plain": [
       "            Store  Dept       Date  Weekly_Sales Type    Size  Temperature  \\\n",
       "Date                                                                         \n",
       "2010-02-05      1     1 2010-02-05      24924.50    A  151315        42.31   \n",
       "2010-02-05     29     5 2010-02-05      15552.08    B   93638        24.36   \n",
       "2010-02-05     29     6 2010-02-05       3200.22    B   93638        24.36   \n",
       "2010-02-05     29     7 2010-02-05      10820.05    B   93638        24.36   \n",
       "2010-02-05     29     8 2010-02-05      20055.64    B   93638        24.36   \n",
       "\n",
       "            Fuel_Price  MarkDown1  MarkDown2  MarkDown3  MarkDown4  MarkDown5  \\\n",
       "Date                                                                            \n",
       "2010-02-05       2.572        0.0        0.0        0.0        0.0        0.0   \n",
       "2010-02-05       2.788        0.0        0.0        0.0        0.0        0.0   \n",
       "2010-02-05       2.788        0.0        0.0        0.0        0.0        0.0   \n",
       "2010-02-05       2.788        0.0        0.0        0.0        0.0        0.0   \n",
       "2010-02-05       2.788        0.0        0.0        0.0        0.0        0.0   \n",
       "\n",
       "                   CPI  Unemployment  IsHoliday  Year  Month  Week  \n",
       "Date                                                                \n",
       "2010-02-05  211.096358         8.106      False  2010      2     5  \n",
       "2010-02-05  131.527903        10.064      False  2010      2     5  \n",
       "2010-02-05  131.527903        10.064      False  2010      2     5  \n",
       "2010-02-05  131.527903        10.064      False  2010      2     5  \n",
       "2010-02-05  131.527903        10.064      False  2010      2     5  "
      ]
     },
     "execution_count": 27,
     "metadata": {},
     "output_type": "execute_result"
    }
   ],
   "source": [
    "data.head()"
   ]
  },
  {
   "cell_type": "code",
   "execution_count": 28,
   "metadata": {
    "execution": {
     "iopub.execute_input": "2023-01-02T18:09:08.211585Z",
     "iopub.status.busy": "2023-01-02T18:09:08.210966Z",
     "iopub.status.idle": "2023-01-02T18:09:08.308131Z",
     "shell.execute_reply": "2023-01-02T18:09:08.306865Z",
     "shell.execute_reply.started": "2023-01-02T18:09:08.211529Z"
    },
    "id": "nBGFnzs190XO",
    "outputId": "3743b968-6f39-4114-cc67-f67b0ee51a4d"
   },
   "outputs": [
    {
     "data": {
      "text/html": [
       "<div>\n",
       "<style scoped>\n",
       "    .dataframe tbody tr th:only-of-type {\n",
       "        vertical-align: middle;\n",
       "    }\n",
       "\n",
       "    .dataframe tbody tr th {\n",
       "        vertical-align: top;\n",
       "    }\n",
       "\n",
       "    .dataframe thead th {\n",
       "        text-align: right;\n",
       "    }\n",
       "</style>\n",
       "<table border=\"1\" class=\"dataframe\">\n",
       "  <thead>\n",
       "    <tr style=\"text-align: right;\">\n",
       "      <th></th>\n",
       "      <th>Store</th>\n",
       "      <th>Dept</th>\n",
       "      <th>max</th>\n",
       "      <th>min</th>\n",
       "      <th>mean</th>\n",
       "      <th>median</th>\n",
       "      <th>std</th>\n",
       "    </tr>\n",
       "  </thead>\n",
       "  <tbody>\n",
       "    <tr>\n",
       "      <th>0</th>\n",
       "      <td>1</td>\n",
       "      <td>1</td>\n",
       "      <td>57592.12</td>\n",
       "      <td>14537.37</td>\n",
       "      <td>22513.322937</td>\n",
       "      <td>18535.48</td>\n",
       "      <td>9854.349032</td>\n",
       "    </tr>\n",
       "    <tr>\n",
       "      <th>1</th>\n",
       "      <td>1</td>\n",
       "      <td>2</td>\n",
       "      <td>65615.36</td>\n",
       "      <td>35819.83</td>\n",
       "      <td>46102.090420</td>\n",
       "      <td>45561.85</td>\n",
       "      <td>3440.673222</td>\n",
       "    </tr>\n",
       "    <tr>\n",
       "      <th>2</th>\n",
       "      <td>1</td>\n",
       "      <td>3</td>\n",
       "      <td>51159.17</td>\n",
       "      <td>6165.73</td>\n",
       "      <td>13150.478042</td>\n",
       "      <td>10366.85</td>\n",
       "      <td>8708.978853</td>\n",
       "    </tr>\n",
       "    <tr>\n",
       "      <th>3</th>\n",
       "      <td>1</td>\n",
       "      <td>4</td>\n",
       "      <td>47893.23</td>\n",
       "      <td>32497.43</td>\n",
       "      <td>36964.154476</td>\n",
       "      <td>36579.96</td>\n",
       "      <td>2930.698313</td>\n",
       "    </tr>\n",
       "    <tr>\n",
       "      <th>4</th>\n",
       "      <td>1</td>\n",
       "      <td>5</td>\n",
       "      <td>85676.09</td>\n",
       "      <td>11570.27</td>\n",
       "      <td>24257.941119</td>\n",
       "      <td>21183.42</td>\n",
       "      <td>11330.286495</td>\n",
       "    </tr>\n",
       "  </tbody>\n",
       "</table>\n",
       "</div>"
      ],
      "text/plain": [
       "   Store  Dept       max       min          mean    median           std\n",
       "0      1     1  57592.12  14537.37  22513.322937  18535.48   9854.349032\n",
       "1      1     2  65615.36  35819.83  46102.090420  45561.85   3440.673222\n",
       "2      1     3  51159.17   6165.73  13150.478042  10366.85   8708.978853\n",
       "3      1     4  47893.23  32497.43  36964.154476  36579.96   2930.698313\n",
       "4      1     5  85676.09  11570.27  24257.941119  21183.42  11330.286495"
      ]
     },
     "execution_count": 28,
     "metadata": {},
     "output_type": "execute_result"
    }
   ],
   "source": [
    "#Outlier Detection and Abnormalities\n",
    "agg_data = data.groupby(['Store', 'Dept']).Weekly_Sales.agg(['max', 'min', 'mean', 'median', 'std']).reset_index()\n",
    "agg_data.head()\n"
   ]
  },
  {
   "cell_type": "code",
   "execution_count": 29,
   "metadata": {
    "execution": {
     "iopub.execute_input": "2023-01-02T18:09:08.309932Z",
     "iopub.status.busy": "2023-01-02T18:09:08.309439Z",
     "iopub.status.idle": "2023-01-02T18:09:08.321199Z",
     "shell.execute_reply": "2023-01-02T18:09:08.319960Z",
     "shell.execute_reply.started": "2023-01-02T18:09:08.309865Z"
    },
    "id": "H3A4n0ye_QuE",
    "outputId": "d104ba3c-a8e3-4a86-c0d2-a06dcb85e5bf"
   },
   "outputs": [
    {
     "data": {
      "text/plain": [
       "Store      0\n",
       "Dept       0\n",
       "max        0\n",
       "min        0\n",
       "mean       0\n",
       "median     0\n",
       "std       37\n",
       "dtype: int64"
      ]
     },
     "execution_count": 29,
     "metadata": {},
     "output_type": "execute_result"
    }
   ],
   "source": [
    "agg_data.isnull().sum()"
   ]
  },
  {
   "cell_type": "code",
   "execution_count": 30,
   "metadata": {
    "execution": {
     "iopub.execute_input": "2023-01-02T18:09:08.323775Z",
     "iopub.status.busy": "2023-01-02T18:09:08.323221Z",
     "iopub.status.idle": "2023-01-02T18:09:08.550503Z",
     "shell.execute_reply": "2023-01-02T18:09:08.549160Z",
     "shell.execute_reply.started": "2023-01-02T18:09:08.323714Z"
    },
    "id": "riMk9CXS_gtt",
    "outputId": "1be13c46-1dbd-4b3c-d04c-3004fdf0ba2e"
   },
   "outputs": [
    {
     "data": {
      "text/html": [
       "<div>\n",
       "<style scoped>\n",
       "    .dataframe tbody tr th:only-of-type {\n",
       "        vertical-align: middle;\n",
       "    }\n",
       "\n",
       "    .dataframe tbody tr th {\n",
       "        vertical-align: top;\n",
       "    }\n",
       "\n",
       "    .dataframe thead th {\n",
       "        text-align: right;\n",
       "    }\n",
       "</style>\n",
       "<table border=\"1\" class=\"dataframe\">\n",
       "  <thead>\n",
       "    <tr style=\"text-align: right;\">\n",
       "      <th></th>\n",
       "      <th>Store</th>\n",
       "      <th>Dept</th>\n",
       "      <th>Date</th>\n",
       "      <th>Weekly_Sales</th>\n",
       "      <th>Type</th>\n",
       "      <th>Size</th>\n",
       "      <th>Temperature</th>\n",
       "      <th>Fuel_Price</th>\n",
       "      <th>MarkDown1</th>\n",
       "      <th>MarkDown2</th>\n",
       "      <th>...</th>\n",
       "      <th>Unemployment</th>\n",
       "      <th>IsHoliday</th>\n",
       "      <th>Year</th>\n",
       "      <th>Month</th>\n",
       "      <th>Week</th>\n",
       "      <th>max</th>\n",
       "      <th>min</th>\n",
       "      <th>mean</th>\n",
       "      <th>median</th>\n",
       "      <th>std</th>\n",
       "    </tr>\n",
       "  </thead>\n",
       "  <tbody>\n",
       "    <tr>\n",
       "      <th>0</th>\n",
       "      <td>1</td>\n",
       "      <td>1</td>\n",
       "      <td>2010-02-05</td>\n",
       "      <td>24924.50</td>\n",
       "      <td>A</td>\n",
       "      <td>151315</td>\n",
       "      <td>42.31</td>\n",
       "      <td>2.572</td>\n",
       "      <td>0.0</td>\n",
       "      <td>0.0</td>\n",
       "      <td>...</td>\n",
       "      <td>8.106</td>\n",
       "      <td>False</td>\n",
       "      <td>2010</td>\n",
       "      <td>2</td>\n",
       "      <td>5</td>\n",
       "      <td>57592.12</td>\n",
       "      <td>14537.37</td>\n",
       "      <td>22513.322937</td>\n",
       "      <td>18535.48</td>\n",
       "      <td>9854.349032</td>\n",
       "    </tr>\n",
       "    <tr>\n",
       "      <th>1</th>\n",
       "      <td>29</td>\n",
       "      <td>5</td>\n",
       "      <td>2010-02-05</td>\n",
       "      <td>15552.08</td>\n",
       "      <td>B</td>\n",
       "      <td>93638</td>\n",
       "      <td>24.36</td>\n",
       "      <td>2.788</td>\n",
       "      <td>0.0</td>\n",
       "      <td>0.0</td>\n",
       "      <td>...</td>\n",
       "      <td>10.064</td>\n",
       "      <td>False</td>\n",
       "      <td>2010</td>\n",
       "      <td>2</td>\n",
       "      <td>5</td>\n",
       "      <td>69467.35</td>\n",
       "      <td>6642.10</td>\n",
       "      <td>12931.821259</td>\n",
       "      <td>10898.36</td>\n",
       "      <td>8868.631880</td>\n",
       "    </tr>\n",
       "  </tbody>\n",
       "</table>\n",
       "<p>2 rows × 24 columns</p>\n",
       "</div>"
      ],
      "text/plain": [
       "   Store  Dept       Date  Weekly_Sales Type    Size  Temperature  Fuel_Price  \\\n",
       "0      1     1 2010-02-05      24924.50    A  151315        42.31       2.572   \n",
       "1     29     5 2010-02-05      15552.08    B   93638        24.36       2.788   \n",
       "\n",
       "   MarkDown1  MarkDown2  ...  Unemployment  IsHoliday  Year  Month  Week  \\\n",
       "0        0.0        0.0  ...         8.106      False  2010      2     5   \n",
       "1        0.0        0.0  ...        10.064      False  2010      2     5   \n",
       "\n",
       "        max       min          mean    median          std  \n",
       "0  57592.12  14537.37  22513.322937  18535.48  9854.349032  \n",
       "1  69467.35   6642.10  12931.821259  10898.36  8868.631880  \n",
       "\n",
       "[2 rows x 24 columns]"
      ]
     },
     "execution_count": 30,
     "metadata": {},
     "output_type": "execute_result"
    }
   ],
   "source": [
    "store_data = pd.merge(left=data,right=agg_data,on=['Store', 'Dept'],how ='left')\n",
    "store_data.head(2)"
   ]
  },
  {
   "cell_type": "code",
   "execution_count": 31,
   "metadata": {
    "execution": {
     "iopub.execute_input": "2023-01-02T18:09:08.554768Z",
     "iopub.status.busy": "2023-01-02T18:09:08.553901Z",
     "iopub.status.idle": "2023-01-02T18:09:08.737702Z",
     "shell.execute_reply": "2023-01-02T18:09:08.736465Z",
     "shell.execute_reply.started": "2023-01-02T18:09:08.554732Z"
    },
    "id": "mxpTZD2v_2ij"
   },
   "outputs": [],
   "source": [
    "store_data.dropna(inplace=True)"
   ]
  },
  {
   "cell_type": "code",
   "execution_count": 32,
   "metadata": {
    "execution": {
     "iopub.execute_input": "2023-01-02T18:09:08.740355Z",
     "iopub.status.busy": "2023-01-02T18:09:08.739253Z",
     "iopub.status.idle": "2023-01-02T18:09:08.778200Z",
     "shell.execute_reply": "2023-01-02T18:09:08.776998Z",
     "shell.execute_reply.started": "2023-01-02T18:09:08.740310Z"
    },
    "id": "xV9-BiBr_7Ly"
   },
   "outputs": [],
   "source": [
    "data = store_data.copy()"
   ]
  },
  {
   "cell_type": "code",
   "execution_count": 33,
   "metadata": {
    "execution": {
     "iopub.execute_input": "2023-01-02T18:09:08.780247Z",
     "iopub.status.busy": "2023-01-02T18:09:08.779748Z",
     "iopub.status.idle": "2023-01-02T18:09:08.933363Z",
     "shell.execute_reply": "2023-01-02T18:09:08.932109Z",
     "shell.execute_reply.started": "2023-01-02T18:09:08.780198Z"
    },
    "id": "_f15wBBy_-ph",
    "outputId": "7e323915-7cfe-4be8-f808-521485d2dacd"
   },
   "outputs": [
    {
     "data": {
      "text/html": [
       "<div>\n",
       "<style scoped>\n",
       "    .dataframe tbody tr th:only-of-type {\n",
       "        vertical-align: middle;\n",
       "    }\n",
       "\n",
       "    .dataframe tbody tr th {\n",
       "        vertical-align: top;\n",
       "    }\n",
       "\n",
       "    .dataframe thead th {\n",
       "        text-align: right;\n",
       "    }\n",
       "</style>\n",
       "<table border=\"1\" class=\"dataframe\">\n",
       "  <thead>\n",
       "    <tr style=\"text-align: right;\">\n",
       "      <th></th>\n",
       "      <th>Store</th>\n",
       "      <th>Dept</th>\n",
       "      <th>Date</th>\n",
       "      <th>Weekly_Sales</th>\n",
       "      <th>Type</th>\n",
       "      <th>Size</th>\n",
       "      <th>Temperature</th>\n",
       "      <th>Fuel_Price</th>\n",
       "      <th>MarkDown1</th>\n",
       "      <th>MarkDown2</th>\n",
       "      <th>...</th>\n",
       "      <th>Unemployment</th>\n",
       "      <th>IsHoliday</th>\n",
       "      <th>Year</th>\n",
       "      <th>Month</th>\n",
       "      <th>Week</th>\n",
       "      <th>max</th>\n",
       "      <th>min</th>\n",
       "      <th>mean</th>\n",
       "      <th>median</th>\n",
       "      <th>std</th>\n",
       "    </tr>\n",
       "    <tr>\n",
       "      <th>Date</th>\n",
       "      <th></th>\n",
       "      <th></th>\n",
       "      <th></th>\n",
       "      <th></th>\n",
       "      <th></th>\n",
       "      <th></th>\n",
       "      <th></th>\n",
       "      <th></th>\n",
       "      <th></th>\n",
       "      <th></th>\n",
       "      <th></th>\n",
       "      <th></th>\n",
       "      <th></th>\n",
       "      <th></th>\n",
       "      <th></th>\n",
       "      <th></th>\n",
       "      <th></th>\n",
       "      <th></th>\n",
       "      <th></th>\n",
       "      <th></th>\n",
       "      <th></th>\n",
       "    </tr>\n",
       "  </thead>\n",
       "  <tbody>\n",
       "    <tr>\n",
       "      <th>2010-02-05</th>\n",
       "      <td>1</td>\n",
       "      <td>1</td>\n",
       "      <td>2010-02-05</td>\n",
       "      <td>24924.50</td>\n",
       "      <td>A</td>\n",
       "      <td>151315</td>\n",
       "      <td>42.31</td>\n",
       "      <td>2.572</td>\n",
       "      <td>0.0</td>\n",
       "      <td>0.0</td>\n",
       "      <td>...</td>\n",
       "      <td>8.106</td>\n",
       "      <td>False</td>\n",
       "      <td>2010</td>\n",
       "      <td>2</td>\n",
       "      <td>5</td>\n",
       "      <td>57592.12</td>\n",
       "      <td>14537.37</td>\n",
       "      <td>22513.322937</td>\n",
       "      <td>18535.48</td>\n",
       "      <td>9854.349032</td>\n",
       "    </tr>\n",
       "    <tr>\n",
       "      <th>2010-02-05</th>\n",
       "      <td>9</td>\n",
       "      <td>97</td>\n",
       "      <td>2010-02-05</td>\n",
       "      <td>668.48</td>\n",
       "      <td>B</td>\n",
       "      <td>125833</td>\n",
       "      <td>38.01</td>\n",
       "      <td>2.572</td>\n",
       "      <td>0.0</td>\n",
       "      <td>0.0</td>\n",
       "      <td>...</td>\n",
       "      <td>6.415</td>\n",
       "      <td>False</td>\n",
       "      <td>2010</td>\n",
       "      <td>2</td>\n",
       "      <td>5</td>\n",
       "      <td>766.93</td>\n",
       "      <td>-9.92</td>\n",
       "      <td>372.655556</td>\n",
       "      <td>371.05</td>\n",
       "      <td>290.954675</td>\n",
       "    </tr>\n",
       "    <tr>\n",
       "      <th>2010-02-05</th>\n",
       "      <td>9</td>\n",
       "      <td>85</td>\n",
       "      <td>2010-02-05</td>\n",
       "      <td>693.87</td>\n",
       "      <td>B</td>\n",
       "      <td>125833</td>\n",
       "      <td>38.01</td>\n",
       "      <td>2.572</td>\n",
       "      <td>0.0</td>\n",
       "      <td>0.0</td>\n",
       "      <td>...</td>\n",
       "      <td>6.415</td>\n",
       "      <td>False</td>\n",
       "      <td>2010</td>\n",
       "      <td>2</td>\n",
       "      <td>5</td>\n",
       "      <td>2512.14</td>\n",
       "      <td>110.56</td>\n",
       "      <td>876.629441</td>\n",
       "      <td>824.04</td>\n",
       "      <td>307.436056</td>\n",
       "    </tr>\n",
       "    <tr>\n",
       "      <th>2010-02-05</th>\n",
       "      <td>8</td>\n",
       "      <td>80</td>\n",
       "      <td>2010-02-05</td>\n",
       "      <td>8654.60</td>\n",
       "      <td>A</td>\n",
       "      <td>155078</td>\n",
       "      <td>34.14</td>\n",
       "      <td>2.572</td>\n",
       "      <td>0.0</td>\n",
       "      <td>0.0</td>\n",
       "      <td>...</td>\n",
       "      <td>6.299</td>\n",
       "      <td>False</td>\n",
       "      <td>2010</td>\n",
       "      <td>2</td>\n",
       "      <td>5</td>\n",
       "      <td>11990.43</td>\n",
       "      <td>7414.43</td>\n",
       "      <td>9188.915105</td>\n",
       "      <td>9161.97</td>\n",
       "      <td>756.223236</td>\n",
       "    </tr>\n",
       "    <tr>\n",
       "      <th>2010-02-05</th>\n",
       "      <td>9</td>\n",
       "      <td>55</td>\n",
       "      <td>2010-02-05</td>\n",
       "      <td>11123.56</td>\n",
       "      <td>B</td>\n",
       "      <td>125833</td>\n",
       "      <td>38.01</td>\n",
       "      <td>2.572</td>\n",
       "      <td>0.0</td>\n",
       "      <td>0.0</td>\n",
       "      <td>...</td>\n",
       "      <td>6.415</td>\n",
       "      <td>False</td>\n",
       "      <td>2010</td>\n",
       "      <td>2</td>\n",
       "      <td>5</td>\n",
       "      <td>29166.26</td>\n",
       "      <td>4791.74</td>\n",
       "      <td>8607.050490</td>\n",
       "      <td>7571.60</td>\n",
       "      <td>3874.176095</td>\n",
       "    </tr>\n",
       "  </tbody>\n",
       "</table>\n",
       "<p>5 rows × 24 columns</p>\n",
       "</div>"
      ],
      "text/plain": [
       "            Store  Dept       Date  Weekly_Sales Type    Size  Temperature  \\\n",
       "Date                                                                         \n",
       "2010-02-05      1     1 2010-02-05      24924.50    A  151315        42.31   \n",
       "2010-02-05      9    97 2010-02-05        668.48    B  125833        38.01   \n",
       "2010-02-05      9    85 2010-02-05        693.87    B  125833        38.01   \n",
       "2010-02-05      8    80 2010-02-05       8654.60    A  155078        34.14   \n",
       "2010-02-05      9    55 2010-02-05      11123.56    B  125833        38.01   \n",
       "\n",
       "            Fuel_Price  MarkDown1  MarkDown2  ...  Unemployment  IsHoliday  \\\n",
       "Date                                          ...                            \n",
       "2010-02-05       2.572        0.0        0.0  ...         8.106      False   \n",
       "2010-02-05       2.572        0.0        0.0  ...         6.415      False   \n",
       "2010-02-05       2.572        0.0        0.0  ...         6.415      False   \n",
       "2010-02-05       2.572        0.0        0.0  ...         6.299      False   \n",
       "2010-02-05       2.572        0.0        0.0  ...         6.415      False   \n",
       "\n",
       "            Year  Month  Week       max       min          mean    median  \\\n",
       "Date                                                                        \n",
       "2010-02-05  2010      2     5  57592.12  14537.37  22513.322937  18535.48   \n",
       "2010-02-05  2010      2     5    766.93     -9.92    372.655556    371.05   \n",
       "2010-02-05  2010      2     5   2512.14    110.56    876.629441    824.04   \n",
       "2010-02-05  2010      2     5  11990.43   7414.43   9188.915105   9161.97   \n",
       "2010-02-05  2010      2     5  29166.26   4791.74   8607.050490   7571.60   \n",
       "\n",
       "                    std  \n",
       "Date                     \n",
       "2010-02-05  9854.349032  \n",
       "2010-02-05   290.954675  \n",
       "2010-02-05   307.436056  \n",
       "2010-02-05   756.223236  \n",
       "2010-02-05  3874.176095  \n",
       "\n",
       "[5 rows x 24 columns]"
      ]
     },
     "execution_count": 33,
     "metadata": {},
     "output_type": "execute_result"
    }
   ],
   "source": [
    "data['Date'] = pd.to_datetime(data['Date'],errors='coerce')\n",
    "data.sort_values(by=['Date'],inplace=True)\n",
    "data.set_index(data.Date, inplace=True)\n",
    "data.head()"
   ]
  },
  {
   "cell_type": "code",
   "execution_count": 34,
   "metadata": {
    "execution": {
     "iopub.execute_input": "2023-01-02T18:09:08.935888Z",
     "iopub.status.busy": "2023-01-02T18:09:08.935316Z",
     "iopub.status.idle": "2023-01-02T18:09:09.047371Z",
     "shell.execute_reply": "2023-01-02T18:09:09.046303Z",
     "shell.execute_reply.started": "2023-01-02T18:09:08.935839Z"
    },
    "id": "kd4Lgo1MAWn2",
    "outputId": "e2d43b46-b965-4482-c004-d1f225724198"
   },
   "outputs": [
    {
     "data": {
      "text/html": [
       "<div>\n",
       "<style scoped>\n",
       "    .dataframe tbody tr th:only-of-type {\n",
       "        vertical-align: middle;\n",
       "    }\n",
       "\n",
       "    .dataframe tbody tr th {\n",
       "        vertical-align: top;\n",
       "    }\n",
       "\n",
       "    .dataframe thead th {\n",
       "        text-align: right;\n",
       "    }\n",
       "</style>\n",
       "<table border=\"1\" class=\"dataframe\">\n",
       "  <thead>\n",
       "    <tr style=\"text-align: right;\">\n",
       "      <th></th>\n",
       "      <th>Store</th>\n",
       "      <th>Dept</th>\n",
       "      <th>Date</th>\n",
       "      <th>Weekly_Sales</th>\n",
       "      <th>Type</th>\n",
       "      <th>Size</th>\n",
       "      <th>Temperature</th>\n",
       "      <th>Fuel_Price</th>\n",
       "      <th>CPI</th>\n",
       "      <th>Unemployment</th>\n",
       "      <th>IsHoliday</th>\n",
       "      <th>Year</th>\n",
       "      <th>Month</th>\n",
       "      <th>Week</th>\n",
       "      <th>max</th>\n",
       "      <th>min</th>\n",
       "      <th>mean</th>\n",
       "      <th>median</th>\n",
       "      <th>std</th>\n",
       "      <th>Total_MarkDown</th>\n",
       "    </tr>\n",
       "    <tr>\n",
       "      <th>Date</th>\n",
       "      <th></th>\n",
       "      <th></th>\n",
       "      <th></th>\n",
       "      <th></th>\n",
       "      <th></th>\n",
       "      <th></th>\n",
       "      <th></th>\n",
       "      <th></th>\n",
       "      <th></th>\n",
       "      <th></th>\n",
       "      <th></th>\n",
       "      <th></th>\n",
       "      <th></th>\n",
       "      <th></th>\n",
       "      <th></th>\n",
       "      <th></th>\n",
       "      <th></th>\n",
       "      <th></th>\n",
       "      <th></th>\n",
       "      <th></th>\n",
       "    </tr>\n",
       "  </thead>\n",
       "  <tbody>\n",
       "    <tr>\n",
       "      <th>2010-02-05</th>\n",
       "      <td>1</td>\n",
       "      <td>1</td>\n",
       "      <td>2010-02-05</td>\n",
       "      <td>24924.50</td>\n",
       "      <td>A</td>\n",
       "      <td>151315</td>\n",
       "      <td>42.31</td>\n",
       "      <td>2.572</td>\n",
       "      <td>211.096358</td>\n",
       "      <td>8.106</td>\n",
       "      <td>False</td>\n",
       "      <td>2010</td>\n",
       "      <td>2</td>\n",
       "      <td>5</td>\n",
       "      <td>57592.12</td>\n",
       "      <td>14537.37</td>\n",
       "      <td>22513.322937</td>\n",
       "      <td>18535.48</td>\n",
       "      <td>9854.349032</td>\n",
       "      <td>0.0</td>\n",
       "    </tr>\n",
       "    <tr>\n",
       "      <th>2010-02-05</th>\n",
       "      <td>9</td>\n",
       "      <td>97</td>\n",
       "      <td>2010-02-05</td>\n",
       "      <td>668.48</td>\n",
       "      <td>B</td>\n",
       "      <td>125833</td>\n",
       "      <td>38.01</td>\n",
       "      <td>2.572</td>\n",
       "      <td>214.655459</td>\n",
       "      <td>6.415</td>\n",
       "      <td>False</td>\n",
       "      <td>2010</td>\n",
       "      <td>2</td>\n",
       "      <td>5</td>\n",
       "      <td>766.93</td>\n",
       "      <td>-9.92</td>\n",
       "      <td>372.655556</td>\n",
       "      <td>371.05</td>\n",
       "      <td>290.954675</td>\n",
       "      <td>0.0</td>\n",
       "    </tr>\n",
       "    <tr>\n",
       "      <th>2010-02-05</th>\n",
       "      <td>9</td>\n",
       "      <td>85</td>\n",
       "      <td>2010-02-05</td>\n",
       "      <td>693.87</td>\n",
       "      <td>B</td>\n",
       "      <td>125833</td>\n",
       "      <td>38.01</td>\n",
       "      <td>2.572</td>\n",
       "      <td>214.655459</td>\n",
       "      <td>6.415</td>\n",
       "      <td>False</td>\n",
       "      <td>2010</td>\n",
       "      <td>2</td>\n",
       "      <td>5</td>\n",
       "      <td>2512.14</td>\n",
       "      <td>110.56</td>\n",
       "      <td>876.629441</td>\n",
       "      <td>824.04</td>\n",
       "      <td>307.436056</td>\n",
       "      <td>0.0</td>\n",
       "    </tr>\n",
       "    <tr>\n",
       "      <th>2010-02-05</th>\n",
       "      <td>8</td>\n",
       "      <td>80</td>\n",
       "      <td>2010-02-05</td>\n",
       "      <td>8654.60</td>\n",
       "      <td>A</td>\n",
       "      <td>155078</td>\n",
       "      <td>34.14</td>\n",
       "      <td>2.572</td>\n",
       "      <td>214.471451</td>\n",
       "      <td>6.299</td>\n",
       "      <td>False</td>\n",
       "      <td>2010</td>\n",
       "      <td>2</td>\n",
       "      <td>5</td>\n",
       "      <td>11990.43</td>\n",
       "      <td>7414.43</td>\n",
       "      <td>9188.915105</td>\n",
       "      <td>9161.97</td>\n",
       "      <td>756.223236</td>\n",
       "      <td>0.0</td>\n",
       "    </tr>\n",
       "    <tr>\n",
       "      <th>2010-02-05</th>\n",
       "      <td>9</td>\n",
       "      <td>55</td>\n",
       "      <td>2010-02-05</td>\n",
       "      <td>11123.56</td>\n",
       "      <td>B</td>\n",
       "      <td>125833</td>\n",
       "      <td>38.01</td>\n",
       "      <td>2.572</td>\n",
       "      <td>214.655459</td>\n",
       "      <td>6.415</td>\n",
       "      <td>False</td>\n",
       "      <td>2010</td>\n",
       "      <td>2</td>\n",
       "      <td>5</td>\n",
       "      <td>29166.26</td>\n",
       "      <td>4791.74</td>\n",
       "      <td>8607.050490</td>\n",
       "      <td>7571.60</td>\n",
       "      <td>3874.176095</td>\n",
       "      <td>0.0</td>\n",
       "    </tr>\n",
       "  </tbody>\n",
       "</table>\n",
       "</div>"
      ],
      "text/plain": [
       "            Store  Dept       Date  Weekly_Sales Type    Size  Temperature  \\\n",
       "Date                                                                         \n",
       "2010-02-05      1     1 2010-02-05      24924.50    A  151315        42.31   \n",
       "2010-02-05      9    97 2010-02-05        668.48    B  125833        38.01   \n",
       "2010-02-05      9    85 2010-02-05        693.87    B  125833        38.01   \n",
       "2010-02-05      8    80 2010-02-05       8654.60    A  155078        34.14   \n",
       "2010-02-05      9    55 2010-02-05      11123.56    B  125833        38.01   \n",
       "\n",
       "            Fuel_Price         CPI  Unemployment  IsHoliday  Year  Month  \\\n",
       "Date                                                                       \n",
       "2010-02-05       2.572  211.096358         8.106      False  2010      2   \n",
       "2010-02-05       2.572  214.655459         6.415      False  2010      2   \n",
       "2010-02-05       2.572  214.655459         6.415      False  2010      2   \n",
       "2010-02-05       2.572  214.471451         6.299      False  2010      2   \n",
       "2010-02-05       2.572  214.655459         6.415      False  2010      2   \n",
       "\n",
       "            Week       max       min          mean    median          std  \\\n",
       "Date                                                                        \n",
       "2010-02-05     5  57592.12  14537.37  22513.322937  18535.48  9854.349032   \n",
       "2010-02-05     5    766.93     -9.92    372.655556    371.05   290.954675   \n",
       "2010-02-05     5   2512.14    110.56    876.629441    824.04   307.436056   \n",
       "2010-02-05     5  11990.43   7414.43   9188.915105   9161.97   756.223236   \n",
       "2010-02-05     5  29166.26   4791.74   8607.050490   7571.60  3874.176095   \n",
       "\n",
       "            Total_MarkDown  \n",
       "Date                        \n",
       "2010-02-05             0.0  \n",
       "2010-02-05             0.0  \n",
       "2010-02-05             0.0  \n",
       "2010-02-05             0.0  \n",
       "2010-02-05             0.0  "
      ]
     },
     "execution_count": 34,
     "metadata": {},
     "output_type": "execute_result"
    }
   ],
   "source": [
    "data['Total_MarkDown'] = data['MarkDown1']+data['MarkDown2']+data['MarkDown3']+data['MarkDown4']+data['MarkDown5']\n",
    "data.drop(['MarkDown1','MarkDown2','MarkDown3','MarkDown4','MarkDown5'], axis = 1,inplace=True)\n",
    "data.head()"
   ]
  },
  {
   "cell_type": "code",
   "execution_count": 35,
   "metadata": {
    "execution": {
     "iopub.execute_input": "2023-01-02T18:09:09.049458Z",
     "iopub.status.busy": "2023-01-02T18:09:09.048975Z",
     "iopub.status.idle": "2023-01-02T18:09:09.056407Z",
     "shell.execute_reply": "2023-01-02T18:09:09.055312Z",
     "shell.execute_reply.started": "2023-01-02T18:09:09.049423Z"
    },
    "id": "YeSK8zb_G6so",
    "outputId": "f14e9b0e-5a1c-44f7-ab64-3ddf31ca2b0c"
   },
   "outputs": [
    {
     "data": {
      "text/plain": [
       "(421533, 20)"
      ]
     },
     "execution_count": 35,
     "metadata": {},
     "output_type": "execute_result"
    }
   ],
   "source": [
    "data.shape"
   ]
  },
  {
   "cell_type": "code",
   "execution_count": 36,
   "metadata": {
    "execution": {
     "iopub.execute_input": "2023-01-02T18:09:09.058360Z",
     "iopub.status.busy": "2023-01-02T18:09:09.057884Z",
     "iopub.status.idle": "2023-01-02T18:09:09.086355Z",
     "shell.execute_reply": "2023-01-02T18:09:09.085246Z",
     "shell.execute_reply.started": "2023-01-02T18:09:09.058318Z"
    },
    "id": "Roh4hg77Gnu-"
   },
   "outputs": [],
   "source": [
    "numeric_col = ['Weekly_Sales','Size','Temperature','Fuel_Price','CPI','Unemployment','Total_MarkDown']\n",
    "data_numeric = data[numeric_col].copy()"
   ]
  },
  {
   "cell_type": "code",
   "execution_count": 37,
   "metadata": {
    "execution": {
     "iopub.execute_input": "2023-01-02T18:09:09.088285Z",
     "iopub.status.busy": "2023-01-02T18:09:09.087790Z",
     "iopub.status.idle": "2023-01-02T18:09:09.107518Z",
     "shell.execute_reply": "2023-01-02T18:09:09.106014Z",
     "shell.execute_reply.started": "2023-01-02T18:09:09.088238Z"
    },
    "id": "Mr0ndx-uGu7X",
    "outputId": "2168e09e-71ec-4267-aa0a-8a0de1e3e065"
   },
   "outputs": [
    {
     "data": {
      "text/html": [
       "<div>\n",
       "<style scoped>\n",
       "    .dataframe tbody tr th:only-of-type {\n",
       "        vertical-align: middle;\n",
       "    }\n",
       "\n",
       "    .dataframe tbody tr th {\n",
       "        vertical-align: top;\n",
       "    }\n",
       "\n",
       "    .dataframe thead th {\n",
       "        text-align: right;\n",
       "    }\n",
       "</style>\n",
       "<table border=\"1\" class=\"dataframe\">\n",
       "  <thead>\n",
       "    <tr style=\"text-align: right;\">\n",
       "      <th></th>\n",
       "      <th>Weekly_Sales</th>\n",
       "      <th>Size</th>\n",
       "      <th>Temperature</th>\n",
       "      <th>Fuel_Price</th>\n",
       "      <th>CPI</th>\n",
       "      <th>Unemployment</th>\n",
       "      <th>Total_MarkDown</th>\n",
       "    </tr>\n",
       "    <tr>\n",
       "      <th>Date</th>\n",
       "      <th></th>\n",
       "      <th></th>\n",
       "      <th></th>\n",
       "      <th></th>\n",
       "      <th></th>\n",
       "      <th></th>\n",
       "      <th></th>\n",
       "    </tr>\n",
       "  </thead>\n",
       "  <tbody>\n",
       "    <tr>\n",
       "      <th>2010-02-05</th>\n",
       "      <td>24924.50</td>\n",
       "      <td>151315</td>\n",
       "      <td>42.31</td>\n",
       "      <td>2.572</td>\n",
       "      <td>211.096358</td>\n",
       "      <td>8.106</td>\n",
       "      <td>0.0</td>\n",
       "    </tr>\n",
       "    <tr>\n",
       "      <th>2010-02-05</th>\n",
       "      <td>668.48</td>\n",
       "      <td>125833</td>\n",
       "      <td>38.01</td>\n",
       "      <td>2.572</td>\n",
       "      <td>214.655459</td>\n",
       "      <td>6.415</td>\n",
       "      <td>0.0</td>\n",
       "    </tr>\n",
       "    <tr>\n",
       "      <th>2010-02-05</th>\n",
       "      <td>693.87</td>\n",
       "      <td>125833</td>\n",
       "      <td>38.01</td>\n",
       "      <td>2.572</td>\n",
       "      <td>214.655459</td>\n",
       "      <td>6.415</td>\n",
       "      <td>0.0</td>\n",
       "    </tr>\n",
       "    <tr>\n",
       "      <th>2010-02-05</th>\n",
       "      <td>8654.60</td>\n",
       "      <td>155078</td>\n",
       "      <td>34.14</td>\n",
       "      <td>2.572</td>\n",
       "      <td>214.471451</td>\n",
       "      <td>6.299</td>\n",
       "      <td>0.0</td>\n",
       "    </tr>\n",
       "    <tr>\n",
       "      <th>2010-02-05</th>\n",
       "      <td>11123.56</td>\n",
       "      <td>125833</td>\n",
       "      <td>38.01</td>\n",
       "      <td>2.572</td>\n",
       "      <td>214.655459</td>\n",
       "      <td>6.415</td>\n",
       "      <td>0.0</td>\n",
       "    </tr>\n",
       "  </tbody>\n",
       "</table>\n",
       "</div>"
      ],
      "text/plain": [
       "            Weekly_Sales    Size  Temperature  Fuel_Price         CPI  \\\n",
       "Date                                                                    \n",
       "2010-02-05      24924.50  151315        42.31       2.572  211.096358   \n",
       "2010-02-05        668.48  125833        38.01       2.572  214.655459   \n",
       "2010-02-05        693.87  125833        38.01       2.572  214.655459   \n",
       "2010-02-05       8654.60  155078        34.14       2.572  214.471451   \n",
       "2010-02-05      11123.56  125833        38.01       2.572  214.655459   \n",
       "\n",
       "            Unemployment  Total_MarkDown  \n",
       "Date                                      \n",
       "2010-02-05         8.106             0.0  \n",
       "2010-02-05         6.415             0.0  \n",
       "2010-02-05         6.415             0.0  \n",
       "2010-02-05         6.299             0.0  \n",
       "2010-02-05         6.415             0.0  "
      ]
     },
     "execution_count": 37,
     "metadata": {},
     "output_type": "execute_result"
    }
   ],
   "source": [
    "data_numeric.head()"
   ]
  },
  {
   "cell_type": "code",
   "execution_count": 38,
   "metadata": {
    "execution": {
     "iopub.execute_input": "2023-01-02T18:09:09.109279Z",
     "iopub.status.busy": "2023-01-02T18:09:09.108921Z",
     "iopub.status.idle": "2023-01-02T18:09:09.248646Z",
     "shell.execute_reply": "2023-01-02T18:09:09.247522Z",
     "shell.execute_reply.started": "2023-01-02T18:09:09.109246Z"
    },
    "id": "slpb527kG1gL",
    "outputId": "d4e1c52b-1180-4f4b-e50a-fda95e543aa4"
   },
   "outputs": [
    {
     "data": {
      "text/plain": [
       "(375438, 20)"
      ]
     },
     "execution_count": 38,
     "metadata": {},
     "output_type": "execute_result"
    }
   ],
   "source": [
    "data = data[(np.abs(stats.zscore(data_numeric)) < 2.5).all(axis = 1)]\n",
    "data.shape"
   ]
  },
  {
   "cell_type": "code",
   "execution_count": 39,
   "metadata": {
    "execution": {
     "iopub.execute_input": "2023-01-02T18:09:09.250672Z",
     "iopub.status.busy": "2023-01-02T18:09:09.250192Z",
     "iopub.status.idle": "2023-01-02T18:09:09.305895Z",
     "shell.execute_reply": "2023-01-02T18:09:09.304684Z",
     "shell.execute_reply.started": "2023-01-02T18:09:09.250628Z"
    },
    "id": "zPdw3XLiHbo1",
    "outputId": "3f4a0dee-8199-496b-bbcb-1c092d7d8f80"
   },
   "outputs": [
    {
     "data": {
      "text/plain": [
       "(374247, 20)"
      ]
     },
     "execution_count": 39,
     "metadata": {},
     "output_type": "execute_result"
    }
   ],
   "source": [
    "data=data[data['Weekly_Sales']>=0]\n",
    "data.shape"
   ]
  },
  {
   "cell_type": "code",
   "execution_count": 40,
   "metadata": {
    "execution": {
     "iopub.execute_input": "2023-01-02T18:09:09.308430Z",
     "iopub.status.busy": "2023-01-02T18:09:09.307645Z",
     "iopub.status.idle": "2023-01-02T18:09:09.338191Z",
     "shell.execute_reply": "2023-01-02T18:09:09.336998Z",
     "shell.execute_reply.started": "2023-01-02T18:09:09.308382Z"
    },
    "id": "k27yF432J076",
    "outputId": "b23ef513-5595-485c-8339-b758cf95c308"
   },
   "outputs": [
    {
     "data": {
      "text/html": [
       "<div>\n",
       "<style scoped>\n",
       "    .dataframe tbody tr th:only-of-type {\n",
       "        vertical-align: middle;\n",
       "    }\n",
       "\n",
       "    .dataframe tbody tr th {\n",
       "        vertical-align: top;\n",
       "    }\n",
       "\n",
       "    .dataframe thead th {\n",
       "        text-align: right;\n",
       "    }\n",
       "</style>\n",
       "<table border=\"1\" class=\"dataframe\">\n",
       "  <thead>\n",
       "    <tr style=\"text-align: right;\">\n",
       "      <th></th>\n",
       "      <th>Store</th>\n",
       "      <th>Dept</th>\n",
       "      <th>Date</th>\n",
       "      <th>Weekly_Sales</th>\n",
       "      <th>Type</th>\n",
       "      <th>Size</th>\n",
       "      <th>Temperature</th>\n",
       "      <th>Fuel_Price</th>\n",
       "      <th>CPI</th>\n",
       "      <th>Unemployment</th>\n",
       "      <th>IsHoliday</th>\n",
       "      <th>Year</th>\n",
       "      <th>Month</th>\n",
       "      <th>Week</th>\n",
       "      <th>max</th>\n",
       "      <th>min</th>\n",
       "      <th>mean</th>\n",
       "      <th>median</th>\n",
       "      <th>std</th>\n",
       "      <th>Total_MarkDown</th>\n",
       "    </tr>\n",
       "    <tr>\n",
       "      <th>Date</th>\n",
       "      <th></th>\n",
       "      <th></th>\n",
       "      <th></th>\n",
       "      <th></th>\n",
       "      <th></th>\n",
       "      <th></th>\n",
       "      <th></th>\n",
       "      <th></th>\n",
       "      <th></th>\n",
       "      <th></th>\n",
       "      <th></th>\n",
       "      <th></th>\n",
       "      <th></th>\n",
       "      <th></th>\n",
       "      <th></th>\n",
       "      <th></th>\n",
       "      <th></th>\n",
       "      <th></th>\n",
       "      <th></th>\n",
       "      <th></th>\n",
       "    </tr>\n",
       "  </thead>\n",
       "  <tbody>\n",
       "    <tr>\n",
       "      <th>2010-02-05</th>\n",
       "      <td>1</td>\n",
       "      <td>1</td>\n",
       "      <td>2010-02-05</td>\n",
       "      <td>24924.50</td>\n",
       "      <td>A</td>\n",
       "      <td>151315</td>\n",
       "      <td>42.31</td>\n",
       "      <td>2.572</td>\n",
       "      <td>211.096358</td>\n",
       "      <td>8.106</td>\n",
       "      <td>0</td>\n",
       "      <td>2010</td>\n",
       "      <td>2</td>\n",
       "      <td>5</td>\n",
       "      <td>57592.12</td>\n",
       "      <td>14537.37</td>\n",
       "      <td>22513.322937</td>\n",
       "      <td>18535.48</td>\n",
       "      <td>9854.349032</td>\n",
       "      <td>0.0</td>\n",
       "    </tr>\n",
       "    <tr>\n",
       "      <th>2010-02-05</th>\n",
       "      <td>9</td>\n",
       "      <td>97</td>\n",
       "      <td>2010-02-05</td>\n",
       "      <td>668.48</td>\n",
       "      <td>B</td>\n",
       "      <td>125833</td>\n",
       "      <td>38.01</td>\n",
       "      <td>2.572</td>\n",
       "      <td>214.655459</td>\n",
       "      <td>6.415</td>\n",
       "      <td>0</td>\n",
       "      <td>2010</td>\n",
       "      <td>2</td>\n",
       "      <td>5</td>\n",
       "      <td>766.93</td>\n",
       "      <td>-9.92</td>\n",
       "      <td>372.655556</td>\n",
       "      <td>371.05</td>\n",
       "      <td>290.954675</td>\n",
       "      <td>0.0</td>\n",
       "    </tr>\n",
       "    <tr>\n",
       "      <th>2010-02-05</th>\n",
       "      <td>9</td>\n",
       "      <td>85</td>\n",
       "      <td>2010-02-05</td>\n",
       "      <td>693.87</td>\n",
       "      <td>B</td>\n",
       "      <td>125833</td>\n",
       "      <td>38.01</td>\n",
       "      <td>2.572</td>\n",
       "      <td>214.655459</td>\n",
       "      <td>6.415</td>\n",
       "      <td>0</td>\n",
       "      <td>2010</td>\n",
       "      <td>2</td>\n",
       "      <td>5</td>\n",
       "      <td>2512.14</td>\n",
       "      <td>110.56</td>\n",
       "      <td>876.629441</td>\n",
       "      <td>824.04</td>\n",
       "      <td>307.436056</td>\n",
       "      <td>0.0</td>\n",
       "    </tr>\n",
       "    <tr>\n",
       "      <th>2010-02-05</th>\n",
       "      <td>8</td>\n",
       "      <td>80</td>\n",
       "      <td>2010-02-05</td>\n",
       "      <td>8654.60</td>\n",
       "      <td>A</td>\n",
       "      <td>155078</td>\n",
       "      <td>34.14</td>\n",
       "      <td>2.572</td>\n",
       "      <td>214.471451</td>\n",
       "      <td>6.299</td>\n",
       "      <td>0</td>\n",
       "      <td>2010</td>\n",
       "      <td>2</td>\n",
       "      <td>5</td>\n",
       "      <td>11990.43</td>\n",
       "      <td>7414.43</td>\n",
       "      <td>9188.915105</td>\n",
       "      <td>9161.97</td>\n",
       "      <td>756.223236</td>\n",
       "      <td>0.0</td>\n",
       "    </tr>\n",
       "    <tr>\n",
       "      <th>2010-02-05</th>\n",
       "      <td>9</td>\n",
       "      <td>55</td>\n",
       "      <td>2010-02-05</td>\n",
       "      <td>11123.56</td>\n",
       "      <td>B</td>\n",
       "      <td>125833</td>\n",
       "      <td>38.01</td>\n",
       "      <td>2.572</td>\n",
       "      <td>214.655459</td>\n",
       "      <td>6.415</td>\n",
       "      <td>0</td>\n",
       "      <td>2010</td>\n",
       "      <td>2</td>\n",
       "      <td>5</td>\n",
       "      <td>29166.26</td>\n",
       "      <td>4791.74</td>\n",
       "      <td>8607.050490</td>\n",
       "      <td>7571.60</td>\n",
       "      <td>3874.176095</td>\n",
       "      <td>0.0</td>\n",
       "    </tr>\n",
       "  </tbody>\n",
       "</table>\n",
       "</div>"
      ],
      "text/plain": [
       "            Store  Dept       Date  Weekly_Sales Type    Size  Temperature  \\\n",
       "Date                                                                         \n",
       "2010-02-05      1     1 2010-02-05      24924.50    A  151315        42.31   \n",
       "2010-02-05      9    97 2010-02-05        668.48    B  125833        38.01   \n",
       "2010-02-05      9    85 2010-02-05        693.87    B  125833        38.01   \n",
       "2010-02-05      8    80 2010-02-05       8654.60    A  155078        34.14   \n",
       "2010-02-05      9    55 2010-02-05      11123.56    B  125833        38.01   \n",
       "\n",
       "            Fuel_Price         CPI  Unemployment  IsHoliday  Year  Month  \\\n",
       "Date                                                                       \n",
       "2010-02-05       2.572  211.096358         8.106          0  2010      2   \n",
       "2010-02-05       2.572  214.655459         6.415          0  2010      2   \n",
       "2010-02-05       2.572  214.655459         6.415          0  2010      2   \n",
       "2010-02-05       2.572  214.471451         6.299          0  2010      2   \n",
       "2010-02-05       2.572  214.655459         6.415          0  2010      2   \n",
       "\n",
       "            Week       max       min          mean    median          std  \\\n",
       "Date                                                                        \n",
       "2010-02-05     5  57592.12  14537.37  22513.322937  18535.48  9854.349032   \n",
       "2010-02-05     5    766.93     -9.92    372.655556    371.05   290.954675   \n",
       "2010-02-05     5   2512.14    110.56    876.629441    824.04   307.436056   \n",
       "2010-02-05     5  11990.43   7414.43   9188.915105   9161.97   756.223236   \n",
       "2010-02-05     5  29166.26   4791.74   8607.050490   7571.60  3874.176095   \n",
       "\n",
       "            Total_MarkDown  \n",
       "Date                        \n",
       "2010-02-05             0.0  \n",
       "2010-02-05             0.0  \n",
       "2010-02-05             0.0  \n",
       "2010-02-05             0.0  \n",
       "2010-02-05             0.0  "
      ]
     },
     "execution_count": 40,
     "metadata": {},
     "output_type": "execute_result"
    }
   ],
   "source": [
    "data['IsHoliday'] = data['IsHoliday'].astype('int')\n",
    "data.head()"
   ]
  },
  {
   "cell_type": "code",
   "execution_count": 41,
   "metadata": {
    "execution": {
     "iopub.execute_input": "2023-01-02T18:09:09.349395Z",
     "iopub.status.busy": "2023-01-02T18:09:09.348691Z",
     "iopub.status.idle": "2023-01-02T18:09:14.247632Z",
     "shell.execute_reply": "2023-01-02T18:09:14.246309Z",
     "shell.execute_reply.started": "2023-01-02T18:09:09.349352Z"
    },
    "id": "_hHeiZdTJ7O1",
    "outputId": "9a5dba31-2634-4ea5-9dfd-871f19af0142"
   },
   "outputs": [
    {
     "data": {
      "image/png": "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\n",
      "text/plain": [
       "<Figure size 1400x800 with 1 Axes>"
      ]
     },
     "metadata": {},
     "output_type": "display_data"
    }
   ],
   "source": [
    "#Average Monthly Sales\n",
    "plt.figure(figsize=(14,8))\n",
    "sns.barplot(x='Month',y='Weekly_Sales',data=data)\n",
    "plt.ylabel('Sales',fontsize=14)\n",
    "plt.xlabel('Months',fontsize=14)\n",
    "plt.title('Average Monthly Sales',fontsize=16)\n",
    "#plt.savefig('avg_monthly_sales.png')\n",
    "plt.grid()"
   ]
  },
  {
   "cell_type": "code",
   "execution_count": 42,
   "metadata": {
    "execution": {
     "iopub.execute_input": "2023-01-02T18:09:14.249506Z",
     "iopub.status.busy": "2023-01-02T18:09:14.249128Z",
     "iopub.status.idle": "2023-01-02T18:09:14.313374Z",
     "shell.execute_reply": "2023-01-02T18:09:14.312460Z",
     "shell.execute_reply.started": "2023-01-02T18:09:14.249471Z"
    },
    "id": "BvFBskOIwJkj",
    "outputId": "c29d4b41-58ab-4419-8dc4-078e22ff2505"
   },
   "outputs": [
    {
     "data": {
      "text/html": [
       "<div>\n",
       "<style scoped>\n",
       "    .dataframe tbody tr th:only-of-type {\n",
       "        vertical-align: middle;\n",
       "    }\n",
       "\n",
       "    .dataframe tbody tr th {\n",
       "        vertical-align: top;\n",
       "    }\n",
       "\n",
       "    .dataframe thead th {\n",
       "        text-align: right;\n",
       "    }\n",
       "</style>\n",
       "<table border=\"1\" class=\"dataframe\">\n",
       "  <thead>\n",
       "    <tr style=\"text-align: right;\">\n",
       "      <th>Month</th>\n",
       "      <th>1</th>\n",
       "      <th>2</th>\n",
       "      <th>3</th>\n",
       "      <th>4</th>\n",
       "      <th>5</th>\n",
       "      <th>6</th>\n",
       "      <th>7</th>\n",
       "      <th>8</th>\n",
       "      <th>9</th>\n",
       "      <th>10</th>\n",
       "      <th>11</th>\n",
       "      <th>12</th>\n",
       "    </tr>\n",
       "    <tr>\n",
       "      <th>Year</th>\n",
       "      <th></th>\n",
       "      <th></th>\n",
       "      <th></th>\n",
       "      <th></th>\n",
       "      <th></th>\n",
       "      <th></th>\n",
       "      <th></th>\n",
       "      <th></th>\n",
       "      <th></th>\n",
       "      <th></th>\n",
       "      <th></th>\n",
       "      <th></th>\n",
       "    </tr>\n",
       "  </thead>\n",
       "  <tbody>\n",
       "    <tr>\n",
       "      <th>2010</th>\n",
       "      <td>NaN</td>\n",
       "      <td>1.365986e+08</td>\n",
       "      <td>1.369976e+08</td>\n",
       "      <td>1.753251e+08</td>\n",
       "      <td>1.422677e+08</td>\n",
       "      <td>1.455770e+08</td>\n",
       "      <td>1.776954e+08</td>\n",
       "      <td>1.426176e+08</td>\n",
       "      <td>1.344151e+08</td>\n",
       "      <td>1.687452e+08</td>\n",
       "      <td>1.440445e+08</td>\n",
       "      <td>1.927286e+08</td>\n",
       "    </tr>\n",
       "    <tr>\n",
       "      <th>2011</th>\n",
       "      <td>1.170809e+08</td>\n",
       "      <td>1.320987e+08</td>\n",
       "      <td>1.341586e+08</td>\n",
       "      <td>1.710181e+08</td>\n",
       "      <td>1.382097e+08</td>\n",
       "      <td>1.441182e+08</td>\n",
       "      <td>1.762046e+08</td>\n",
       "      <td>1.398143e+08</td>\n",
       "      <td>1.668033e+08</td>\n",
       "      <td>1.375280e+08</td>\n",
       "      <td>1.034907e+08</td>\n",
       "      <td>1.597524e+08</td>\n",
       "    </tr>\n",
       "    <tr>\n",
       "      <th>2012</th>\n",
       "      <td>1.172222e+08</td>\n",
       "      <td>8.915290e+07</td>\n",
       "      <td>1.734250e+08</td>\n",
       "      <td>1.479222e+08</td>\n",
       "      <td>1.512280e+08</td>\n",
       "      <td>1.902330e+08</td>\n",
       "      <td>1.458221e+08</td>\n",
       "      <td>1.636039e+08</td>\n",
       "      <td>1.432228e+08</td>\n",
       "      <td>1.480537e+08</td>\n",
       "      <td>NaN</td>\n",
       "      <td>NaN</td>\n",
       "    </tr>\n",
       "  </tbody>\n",
       "</table>\n",
       "</div>"
      ],
      "text/plain": [
       "Month            1             2             3             4             5   \\\n",
       "Year                                                                          \n",
       "2010            NaN  1.365986e+08  1.369976e+08  1.753251e+08  1.422677e+08   \n",
       "2011   1.170809e+08  1.320987e+08  1.341586e+08  1.710181e+08  1.382097e+08   \n",
       "2012   1.172222e+08  8.915290e+07  1.734250e+08  1.479222e+08  1.512280e+08   \n",
       "\n",
       "Month            6             7             8             9             10  \\\n",
       "Year                                                                          \n",
       "2010   1.455770e+08  1.776954e+08  1.426176e+08  1.344151e+08  1.687452e+08   \n",
       "2011   1.441182e+08  1.762046e+08  1.398143e+08  1.668033e+08  1.375280e+08   \n",
       "2012   1.902330e+08  1.458221e+08  1.636039e+08  1.432228e+08  1.480537e+08   \n",
       "\n",
       "Month            11            12  \n",
       "Year                               \n",
       "2010   1.440445e+08  1.927286e+08  \n",
       "2011   1.034907e+08  1.597524e+08  \n",
       "2012            NaN           NaN  "
      ]
     },
     "execution_count": 42,
     "metadata": {},
     "output_type": "execute_result"
    }
   ],
   "source": [
    "# Monthly Sales for Each Year\n",
    "data_monthly = pd.crosstab(data[\"Year\"], data[\"Month\"], values=data[\"Weekly_Sales\"],aggfunc='sum')\n",
    "data_monthly"
   ]
  },
  {
   "cell_type": "code",
   "execution_count": 43,
   "metadata": {
    "execution": {
     "iopub.execute_input": "2023-01-02T18:09:14.315381Z",
     "iopub.status.busy": "2023-01-02T18:09:14.314521Z",
     "iopub.status.idle": "2023-01-02T18:09:16.400240Z",
     "shell.execute_reply": "2023-01-02T18:09:16.398805Z",
     "shell.execute_reply.started": "2023-01-02T18:09:14.315344Z"
    },
    "id": "wxlKpCNLwx68",
    "outputId": "a15e56ff-35a7-4bf2-a2fe-0990751b9ddd"
   },
   "outputs": [
    {
     "data": {
      "image/png": "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\n",
      "text/plain": [
       "<Figure size 1600x800 with 12 Axes>"
      ]
     },
     "metadata": {},
     "output_type": "display_data"
    }
   ],
   "source": [
    "fig, axes = plt.subplots(3,4,figsize=(16,8))\n",
    "plt.suptitle('Monthly Sales for each Year', fontsize=18)\n",
    "k=1\n",
    "for i in range(3):\n",
    "    for j in range(4):\n",
    "      sns.lineplot(ax=axes[i,j],data=data_monthly[k])\n",
    "      plt.subplots_adjust(wspace=0.4,hspace=0.32)\n",
    "      plt.ylabel(k,fontsize=12)\n",
    "      plt.xlabel('Years',fontsize=12)\n",
    "      k+=1\n",
    "\n",
    "#plt.savefig('monthly_sales_every_year.png')\n",
    "plt.show()"
   ]
  },
  {
   "cell_type": "code",
   "execution_count": 44,
   "metadata": {
    "execution": {
     "iopub.execute_input": "2023-01-02T18:09:16.402668Z",
     "iopub.status.busy": "2023-01-02T18:09:16.402121Z",
     "iopub.status.idle": "2023-01-02T18:09:22.463212Z",
     "shell.execute_reply": "2023-01-02T18:09:22.461813Z",
     "shell.execute_reply.started": "2023-01-02T18:09:16.402616Z"
    },
    "id": "0gTUEPskw1Q6",
    "outputId": "22414fda-903c-439a-ab81-a1b2ed041781"
   },
   "outputs": [
    {
     "data": {
      "image/png": "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\n",
      "text/plain": [
       "<Figure size 2000x800 with 1 Axes>"
      ]
     },
     "metadata": {},
     "output_type": "display_data"
    }
   ],
   "source": [
    "#Average Weekly Sales Store wise\n",
    "plt.figure(figsize=(20,8))\n",
    "sns.barplot(x='Store',y='Weekly_Sales',data=data)\n",
    "plt.grid()\n",
    "plt.title('Average Sales per Store', fontsize=18)\n",
    "plt.ylabel('Sales', fontsize=16)\n",
    "plt.xlabel('Store', fontsize=16)\n",
    "#plt.savefig('avg_sales_store.png')\n",
    "plt.show()"
   ]
  },
  {
   "cell_type": "code",
   "execution_count": 45,
   "metadata": {
    "execution": {
     "iopub.execute_input": "2023-01-02T18:09:22.465628Z",
     "iopub.status.busy": "2023-01-02T18:09:22.465090Z",
     "iopub.status.idle": "2023-01-02T18:09:29.886473Z",
     "shell.execute_reply": "2023-01-02T18:09:29.885628Z",
     "shell.execute_reply.started": "2023-01-02T18:09:22.465574Z"
    },
    "id": "IkmYcGu-xBOP",
    "outputId": "a11dce50-c24b-4170-9946-e64b05784727"
   },
   "outputs": [
    {
     "data": {
      "image/png": "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\n",
      "text/plain": [
       "<Figure size 2000x800 with 1 Axes>"
      ]
     },
     "metadata": {},
     "output_type": "display_data"
    }
   ],
   "source": [
    "# Average sales per department\n",
    "plt.figure(figsize=(20,8))\n",
    "sns.barplot(x='Dept',y='Weekly_Sales',data=data)\n",
    "plt.grid()\n",
    "plt.title('Average Sales per Department', fontsize=18)\n",
    "plt.ylabel('Sales', fontsize=16)\n",
    "plt.xlabel('Department', fontsize=16)\n",
    "#plt.savefig('avg_sales_dept.png')\n",
    "plt.show()"
   ]
  },
  {
   "cell_type": "code",
   "execution_count": 46,
   "metadata": {
    "execution": {
     "iopub.execute_input": "2023-01-02T18:09:29.888650Z",
     "iopub.status.busy": "2023-01-02T18:09:29.887586Z",
     "iopub.status.idle": "2023-01-02T18:09:31.850255Z",
     "shell.execute_reply": "2023-01-02T18:09:31.849001Z",
     "shell.execute_reply.started": "2023-01-02T18:09:29.888613Z"
    },
    "id": "faxJd2-XxLsk",
    "outputId": "a954a47e-0eed-44a1-b90c-9106d95497bc"
   },
   "outputs": [
    {
     "data": {
      "image/png": "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\n",
      "text/plain": [
       "<Figure size 1000x800 with 1 Axes>"
      ]
     },
     "metadata": {},
     "output_type": "display_data"
    }
   ],
   "source": [
    "# Effect of Temperature on Sales\n",
    "plt.figure(figsize=(10,8))\n",
    "sns.distplot(data['Temperature'])\n",
    "plt.title('Effect of Temperature',fontsize=15)\n",
    "plt.xlabel('Temperature',fontsize=14)\n",
    "plt.ylabel('Density',fontsize=14)\n",
    "#plt.savefig('effect_of_temp.png')\n",
    "plt.show()"
   ]
  },
  {
   "cell_type": "code",
   "execution_count": 47,
   "metadata": {
    "execution": {
     "iopub.execute_input": "2023-01-02T18:09:31.852741Z",
     "iopub.status.busy": "2023-01-02T18:09:31.852237Z",
     "iopub.status.idle": "2023-01-02T18:09:32.196709Z",
     "shell.execute_reply": "2023-01-02T18:09:32.195352Z",
     "shell.execute_reply.started": "2023-01-02T18:09:31.852688Z"
    },
    "id": "Q6vjv6-4xcP9",
    "outputId": "b2c530cd-c681-4437-e7a7-51fc7110ab8b"
   },
   "outputs": [
    {
     "data": {
      "image/png": "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\n",
      "text/plain": [
       "<Figure size 800x800 with 1 Axes>"
      ]
     },
     "metadata": {},
     "output_type": "display_data"
    }
   ],
   "source": [
    "# Holiday Distribution\n",
    "plt.figure(figsize=(8,8))\n",
    "plt.pie(data['IsHoliday'].value_counts(),labels=['No Holiday','Holiday'],autopct='%0.2f%%')\n",
    "plt.title(\"Pie chart distribution\",fontsize=14)\n",
    "plt.legend()\n",
    "#plt.savefig('holiday_distribution.png')\n",
    "plt.show() "
   ]
  },
  {
   "cell_type": "code",
   "execution_count": 48,
   "metadata": {
    "execution": {
     "iopub.execute_input": "2023-01-02T18:09:32.199631Z",
     "iopub.status.busy": "2023-01-02T18:09:32.199096Z",
     "iopub.status.idle": "2023-01-02T18:09:33.450846Z",
     "shell.execute_reply": "2023-01-02T18:09:33.449567Z",
     "shell.execute_reply.started": "2023-01-02T18:09:32.199580Z"
    },
    "id": "A8I5DBElxm3O",
    "outputId": "b23979f1-d28e-4e43-e0ca-61d93abd3a99"
   },
   "outputs": [
    {
     "data": {
      "image/png": "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\n",
      "text/plain": [
       "<Figure size 640x480 with 4 Axes>"
      ]
     },
     "metadata": {},
     "output_type": "display_data"
    }
   ],
   "source": [
    "# Time Series Decompose\n",
    "sm.tsa.seasonal_decompose(data['Weekly_Sales'].resample('MS').mean(), model='additive').plot()\n",
    "#plt.savefig('seasonal_decompose.png')\n",
    "plt.show()"
   ]
  },
  {
   "cell_type": "markdown",
   "metadata": {
    "id": "oso-TO8Fy50K"
   },
   "source": [
    "### One Hot Encoding"
   ]
  },
  {
   "cell_type": "code",
   "execution_count": 49,
   "metadata": {
    "execution": {
     "iopub.execute_input": "2023-01-02T18:09:33.453510Z",
     "iopub.status.busy": "2023-01-02T18:09:33.452809Z",
     "iopub.status.idle": "2023-01-02T18:09:33.461521Z",
     "shell.execute_reply": "2023-01-02T18:09:33.460251Z",
     "shell.execute_reply.started": "2023-01-02T18:09:33.453470Z"
    },
    "id": "8GmIwQX6xv1i",
    "outputId": "fa81110b-1eb6-47b5-bc7e-30adee5a4864"
   },
   "outputs": [
    {
     "data": {
      "text/plain": [
       "Store                      int64\n",
       "Dept                       int64\n",
       "Date              datetime64[ns]\n",
       "Weekly_Sales             float64\n",
       "Type                      object\n",
       "Size                       int64\n",
       "Temperature              float64\n",
       "Fuel_Price               float64\n",
       "CPI                      float64\n",
       "Unemployment             float64\n",
       "IsHoliday                  int32\n",
       "Year                       int64\n",
       "Month                      int64\n",
       "Week                       int64\n",
       "max                      float64\n",
       "min                      float64\n",
       "mean                     float64\n",
       "median                   float64\n",
       "std                      float64\n",
       "Total_MarkDown           float64\n",
       "dtype: object"
      ]
     },
     "execution_count": 49,
     "metadata": {},
     "output_type": "execute_result"
    }
   ],
   "source": [
    "data.dtypes"
   ]
  },
  {
   "cell_type": "markdown",
   "metadata": {
    "id": "OVrTmo9izHqR"
   },
   "source": [
    "Here, Store,Dept and Type columns are categorical columns."
   ]
  },
  {
   "cell_type": "code",
   "execution_count": 50,
   "metadata": {
    "execution": {
     "iopub.execute_input": "2023-01-02T18:09:33.464301Z",
     "iopub.status.busy": "2023-01-02T18:09:33.463508Z",
     "iopub.status.idle": "2023-01-02T18:09:33.512447Z",
     "shell.execute_reply": "2023-01-02T18:09:33.511191Z",
     "shell.execute_reply.started": "2023-01-02T18:09:33.464255Z"
    },
    "id": "bTq3kYg4zCny",
    "outputId": "52d6ccb2-1243-42cd-fd90-3ec81bec27e9"
   },
   "outputs": [
    {
     "data": {
      "text/html": [
       "<div>\n",
       "<style scoped>\n",
       "    .dataframe tbody tr th:only-of-type {\n",
       "        vertical-align: middle;\n",
       "    }\n",
       "\n",
       "    .dataframe tbody tr th {\n",
       "        vertical-align: top;\n",
       "    }\n",
       "\n",
       "    .dataframe thead th {\n",
       "        text-align: right;\n",
       "    }\n",
       "</style>\n",
       "<table border=\"1\" class=\"dataframe\">\n",
       "  <thead>\n",
       "    <tr style=\"text-align: right;\">\n",
       "      <th></th>\n",
       "      <th>Store</th>\n",
       "      <th>Dept</th>\n",
       "      <th>Type</th>\n",
       "    </tr>\n",
       "    <tr>\n",
       "      <th>Date</th>\n",
       "      <th></th>\n",
       "      <th></th>\n",
       "      <th></th>\n",
       "    </tr>\n",
       "  </thead>\n",
       "  <tbody>\n",
       "    <tr>\n",
       "      <th>2010-02-05</th>\n",
       "      <td>1</td>\n",
       "      <td>1</td>\n",
       "      <td>A</td>\n",
       "    </tr>\n",
       "    <tr>\n",
       "      <th>2010-02-05</th>\n",
       "      <td>9</td>\n",
       "      <td>97</td>\n",
       "      <td>B</td>\n",
       "    </tr>\n",
       "    <tr>\n",
       "      <th>2010-02-05</th>\n",
       "      <td>9</td>\n",
       "      <td>85</td>\n",
       "      <td>B</td>\n",
       "    </tr>\n",
       "    <tr>\n",
       "      <th>2010-02-05</th>\n",
       "      <td>8</td>\n",
       "      <td>80</td>\n",
       "      <td>A</td>\n",
       "    </tr>\n",
       "    <tr>\n",
       "      <th>2010-02-05</th>\n",
       "      <td>9</td>\n",
       "      <td>55</td>\n",
       "      <td>B</td>\n",
       "    </tr>\n",
       "  </tbody>\n",
       "</table>\n",
       "</div>"
      ],
      "text/plain": [
       "            Store  Dept Type\n",
       "Date                        \n",
       "2010-02-05      1     1    A\n",
       "2010-02-05      9    97    B\n",
       "2010-02-05      9    85    B\n",
       "2010-02-05      8    80    A\n",
       "2010-02-05      9    55    B"
      ]
     },
     "execution_count": 50,
     "metadata": {},
     "output_type": "execute_result"
    }
   ],
   "source": [
    "cat_col = ['Store','Dept','Type']\n",
    "data_cat = data[cat_col].copy()\n",
    "data_cat.head()"
   ]
  },
  {
   "cell_type": "code",
   "execution_count": 51,
   "metadata": {
    "execution": {
     "iopub.execute_input": "2023-01-02T18:09:33.514329Z",
     "iopub.status.busy": "2023-01-02T18:09:33.513996Z",
     "iopub.status.idle": "2023-01-02T18:09:33.862766Z",
     "shell.execute_reply": "2023-01-02T18:09:33.861531Z",
     "shell.execute_reply.started": "2023-01-02T18:09:33.514298Z"
    },
    "id": "cqNlr6ZqzYzg",
    "outputId": "6393ea2f-2630-4db1-f1ae-3afacf93331f"
   },
   "outputs": [
    {
     "data": {
      "text/html": [
       "<div>\n",
       "<style scoped>\n",
       "    .dataframe tbody tr th:only-of-type {\n",
       "        vertical-align: middle;\n",
       "    }\n",
       "\n",
       "    .dataframe tbody tr th {\n",
       "        vertical-align: top;\n",
       "    }\n",
       "\n",
       "    .dataframe thead th {\n",
       "        text-align: right;\n",
       "    }\n",
       "</style>\n",
       "<table border=\"1\" class=\"dataframe\">\n",
       "  <thead>\n",
       "    <tr style=\"text-align: right;\">\n",
       "      <th></th>\n",
       "      <th>Store_1</th>\n",
       "      <th>Store_2</th>\n",
       "      <th>Store_3</th>\n",
       "      <th>Store_4</th>\n",
       "      <th>Store_5</th>\n",
       "      <th>Store_6</th>\n",
       "      <th>Store_7</th>\n",
       "      <th>Store_8</th>\n",
       "      <th>Store_9</th>\n",
       "      <th>Store_10</th>\n",
       "      <th>...</th>\n",
       "      <th>Dept_93</th>\n",
       "      <th>Dept_94</th>\n",
       "      <th>Dept_95</th>\n",
       "      <th>Dept_96</th>\n",
       "      <th>Dept_97</th>\n",
       "      <th>Dept_98</th>\n",
       "      <th>Dept_99</th>\n",
       "      <th>Type_A</th>\n",
       "      <th>Type_B</th>\n",
       "      <th>Type_C</th>\n",
       "    </tr>\n",
       "    <tr>\n",
       "      <th>Date</th>\n",
       "      <th></th>\n",
       "      <th></th>\n",
       "      <th></th>\n",
       "      <th></th>\n",
       "      <th></th>\n",
       "      <th></th>\n",
       "      <th></th>\n",
       "      <th></th>\n",
       "      <th></th>\n",
       "      <th></th>\n",
       "      <th></th>\n",
       "      <th></th>\n",
       "      <th></th>\n",
       "      <th></th>\n",
       "      <th></th>\n",
       "      <th></th>\n",
       "      <th></th>\n",
       "      <th></th>\n",
       "      <th></th>\n",
       "      <th></th>\n",
       "      <th></th>\n",
       "    </tr>\n",
       "  </thead>\n",
       "  <tbody>\n",
       "    <tr>\n",
       "      <th>2010-02-05</th>\n",
       "      <td>1</td>\n",
       "      <td>0</td>\n",
       "      <td>0</td>\n",
       "      <td>0</td>\n",
       "      <td>0</td>\n",
       "      <td>0</td>\n",
       "      <td>0</td>\n",
       "      <td>0</td>\n",
       "      <td>0</td>\n",
       "      <td>0</td>\n",
       "      <td>...</td>\n",
       "      <td>0</td>\n",
       "      <td>0</td>\n",
       "      <td>0</td>\n",
       "      <td>0</td>\n",
       "      <td>0</td>\n",
       "      <td>0</td>\n",
       "      <td>0</td>\n",
       "      <td>1</td>\n",
       "      <td>0</td>\n",
       "      <td>0</td>\n",
       "    </tr>\n",
       "    <tr>\n",
       "      <th>2010-02-05</th>\n",
       "      <td>0</td>\n",
       "      <td>0</td>\n",
       "      <td>0</td>\n",
       "      <td>0</td>\n",
       "      <td>0</td>\n",
       "      <td>0</td>\n",
       "      <td>0</td>\n",
       "      <td>0</td>\n",
       "      <td>1</td>\n",
       "      <td>0</td>\n",
       "      <td>...</td>\n",
       "      <td>0</td>\n",
       "      <td>0</td>\n",
       "      <td>0</td>\n",
       "      <td>0</td>\n",
       "      <td>1</td>\n",
       "      <td>0</td>\n",
       "      <td>0</td>\n",
       "      <td>0</td>\n",
       "      <td>1</td>\n",
       "      <td>0</td>\n",
       "    </tr>\n",
       "    <tr>\n",
       "      <th>2010-02-05</th>\n",
       "      <td>0</td>\n",
       "      <td>0</td>\n",
       "      <td>0</td>\n",
       "      <td>0</td>\n",
       "      <td>0</td>\n",
       "      <td>0</td>\n",
       "      <td>0</td>\n",
       "      <td>0</td>\n",
       "      <td>1</td>\n",
       "      <td>0</td>\n",
       "      <td>...</td>\n",
       "      <td>0</td>\n",
       "      <td>0</td>\n",
       "      <td>0</td>\n",
       "      <td>0</td>\n",
       "      <td>0</td>\n",
       "      <td>0</td>\n",
       "      <td>0</td>\n",
       "      <td>0</td>\n",
       "      <td>1</td>\n",
       "      <td>0</td>\n",
       "    </tr>\n",
       "    <tr>\n",
       "      <th>2010-02-05</th>\n",
       "      <td>0</td>\n",
       "      <td>0</td>\n",
       "      <td>0</td>\n",
       "      <td>0</td>\n",
       "      <td>0</td>\n",
       "      <td>0</td>\n",
       "      <td>0</td>\n",
       "      <td>1</td>\n",
       "      <td>0</td>\n",
       "      <td>0</td>\n",
       "      <td>...</td>\n",
       "      <td>0</td>\n",
       "      <td>0</td>\n",
       "      <td>0</td>\n",
       "      <td>0</td>\n",
       "      <td>0</td>\n",
       "      <td>0</td>\n",
       "      <td>0</td>\n",
       "      <td>1</td>\n",
       "      <td>0</td>\n",
       "      <td>0</td>\n",
       "    </tr>\n",
       "    <tr>\n",
       "      <th>2010-02-05</th>\n",
       "      <td>0</td>\n",
       "      <td>0</td>\n",
       "      <td>0</td>\n",
       "      <td>0</td>\n",
       "      <td>0</td>\n",
       "      <td>0</td>\n",
       "      <td>0</td>\n",
       "      <td>0</td>\n",
       "      <td>1</td>\n",
       "      <td>0</td>\n",
       "      <td>...</td>\n",
       "      <td>0</td>\n",
       "      <td>0</td>\n",
       "      <td>0</td>\n",
       "      <td>0</td>\n",
       "      <td>0</td>\n",
       "      <td>0</td>\n",
       "      <td>0</td>\n",
       "      <td>0</td>\n",
       "      <td>1</td>\n",
       "      <td>0</td>\n",
       "    </tr>\n",
       "  </tbody>\n",
       "</table>\n",
       "<p>5 rows × 129 columns</p>\n",
       "</div>"
      ],
      "text/plain": [
       "            Store_1  Store_2  Store_3  Store_4  Store_5  Store_6  Store_7  \\\n",
       "Date                                                                        \n",
       "2010-02-05        1        0        0        0        0        0        0   \n",
       "2010-02-05        0        0        0        0        0        0        0   \n",
       "2010-02-05        0        0        0        0        0        0        0   \n",
       "2010-02-05        0        0        0        0        0        0        0   \n",
       "2010-02-05        0        0        0        0        0        0        0   \n",
       "\n",
       "            Store_8  Store_9  Store_10  ...  Dept_93  Dept_94  Dept_95  \\\n",
       "Date                                    ...                              \n",
       "2010-02-05        0        0         0  ...        0        0        0   \n",
       "2010-02-05        0        1         0  ...        0        0        0   \n",
       "2010-02-05        0        1         0  ...        0        0        0   \n",
       "2010-02-05        1        0         0  ...        0        0        0   \n",
       "2010-02-05        0        1         0  ...        0        0        0   \n",
       "\n",
       "            Dept_96  Dept_97  Dept_98  Dept_99  Type_A  Type_B  Type_C  \n",
       "Date                                                                    \n",
       "2010-02-05        0        0        0        0       1       0       0  \n",
       "2010-02-05        0        1        0        0       0       1       0  \n",
       "2010-02-05        0        0        0        0       0       1       0  \n",
       "2010-02-05        0        0        0        0       1       0       0  \n",
       "2010-02-05        0        0        0        0       0       1       0  \n",
       "\n",
       "[5 rows x 129 columns]"
      ]
     },
     "execution_count": 51,
     "metadata": {},
     "output_type": "execute_result"
    }
   ],
   "source": [
    "data_cat = pd.get_dummies(data_cat,columns=cat_col)\n",
    "data_cat.head()"
   ]
  },
  {
   "cell_type": "code",
   "execution_count": 52,
   "metadata": {
    "execution": {
     "iopub.execute_input": "2023-01-02T18:09:33.865809Z",
     "iopub.status.busy": "2023-01-02T18:09:33.864599Z",
     "iopub.status.idle": "2023-01-02T18:09:33.874065Z",
     "shell.execute_reply": "2023-01-02T18:09:33.872813Z",
     "shell.execute_reply.started": "2023-01-02T18:09:33.865746Z"
    },
    "id": "ptbLU84YznRA",
    "outputId": "1cf2a06f-2eba-4556-9d06-5332bd0db825"
   },
   "outputs": [
    {
     "data": {
      "text/plain": [
       "(374247, 20)"
      ]
     },
     "execution_count": 52,
     "metadata": {},
     "output_type": "execute_result"
    }
   ],
   "source": [
    "data.shape"
   ]
  },
  {
   "cell_type": "code",
   "execution_count": 53,
   "metadata": {
    "execution": {
     "iopub.execute_input": "2023-01-02T18:09:33.876145Z",
     "iopub.status.busy": "2023-01-02T18:09:33.875573Z",
     "iopub.status.idle": "2023-01-02T18:09:33.935516Z",
     "shell.execute_reply": "2023-01-02T18:09:33.934309Z",
     "shell.execute_reply.started": "2023-01-02T18:09:33.876110Z"
    },
    "id": "NN6O1irHzsky"
   },
   "outputs": [],
   "source": [
    "data = pd.concat([data, data_cat],axis=1)"
   ]
  },
  {
   "cell_type": "code",
   "execution_count": 54,
   "metadata": {
    "execution": {
     "iopub.execute_input": "2023-01-02T18:09:33.937429Z",
     "iopub.status.busy": "2023-01-02T18:09:33.937027Z",
     "iopub.status.idle": "2023-01-02T18:09:33.946096Z",
     "shell.execute_reply": "2023-01-02T18:09:33.944621Z",
     "shell.execute_reply.started": "2023-01-02T18:09:33.937377Z"
    },
    "id": "j2C9rAEAzwRA",
    "outputId": "a6a3642b-0fac-46c6-bdd1-32bd200bd5fd"
   },
   "outputs": [
    {
     "data": {
      "text/plain": [
       "(374247, 149)"
      ]
     },
     "execution_count": 54,
     "metadata": {},
     "output_type": "execute_result"
    }
   ],
   "source": [
    "data.shape"
   ]
  },
  {
   "cell_type": "code",
   "execution_count": 55,
   "metadata": {
    "execution": {
     "iopub.execute_input": "2023-01-02T18:09:33.948111Z",
     "iopub.status.busy": "2023-01-02T18:09:33.947711Z",
     "iopub.status.idle": "2023-01-02T18:09:34.100717Z",
     "shell.execute_reply": "2023-01-02T18:09:34.099561Z",
     "shell.execute_reply.started": "2023-01-02T18:09:33.948077Z"
    },
    "id": "mhP3etIzzyen"
   },
   "outputs": [],
   "source": [
    "data.drop(columns=cat_col,inplace=True)"
   ]
  },
  {
   "cell_type": "code",
   "execution_count": 56,
   "metadata": {
    "execution": {
     "iopub.execute_input": "2023-01-02T18:09:34.102827Z",
     "iopub.status.busy": "2023-01-02T18:09:34.102361Z",
     "iopub.status.idle": "2023-01-02T18:09:34.225166Z",
     "shell.execute_reply": "2023-01-02T18:09:34.223923Z",
     "shell.execute_reply.started": "2023-01-02T18:09:34.102781Z"
    },
    "id": "8TiwmSm3z1CR"
   },
   "outputs": [],
   "source": [
    "data.drop(columns=['Date'],inplace=True)"
   ]
  },
  {
   "cell_type": "code",
   "execution_count": 57,
   "metadata": {
    "execution": {
     "iopub.execute_input": "2023-01-02T18:09:34.227160Z",
     "iopub.status.busy": "2023-01-02T18:09:34.226384Z",
     "iopub.status.idle": "2023-01-02T18:09:34.233862Z",
     "shell.execute_reply": "2023-01-02T18:09:34.232715Z",
     "shell.execute_reply.started": "2023-01-02T18:09:34.227121Z"
    },
    "id": "d_LpnWuPz4Il",
    "outputId": "14219da9-7836-4100-8f73-0a6f98c5af93"
   },
   "outputs": [
    {
     "data": {
      "text/plain": [
       "(374247, 145)"
      ]
     },
     "execution_count": 57,
     "metadata": {},
     "output_type": "execute_result"
    }
   ],
   "source": [
    "data.shape"
   ]
  },
  {
   "cell_type": "markdown",
   "metadata": {
    "id": "SUPH0n5u0P29"
   },
   "source": [
    "#### Data Normalization"
   ]
  },
  {
   "cell_type": "code",
   "execution_count": 58,
   "metadata": {
    "execution": {
     "iopub.execute_input": "2023-01-02T18:09:34.236298Z",
     "iopub.status.busy": "2023-01-02T18:09:34.235676Z",
     "iopub.status.idle": "2023-01-02T18:09:34.245234Z",
     "shell.execute_reply": "2023-01-02T18:09:34.243807Z",
     "shell.execute_reply.started": "2023-01-02T18:09:34.236248Z"
    },
    "id": "gZ5OEMDH0JiB"
   },
   "outputs": [],
   "source": [
    "num_col = ['Weekly_Sales','Size','Temperature','Fuel_Price','CPI','Unemployment','Total_MarkDown','max','min','mean','median','std']"
   ]
  },
  {
   "cell_type": "code",
   "execution_count": 59,
   "metadata": {
    "execution": {
     "iopub.execute_input": "2023-01-02T18:09:34.247783Z",
     "iopub.status.busy": "2023-01-02T18:09:34.246798Z",
     "iopub.status.idle": "2023-01-02T18:09:34.258387Z",
     "shell.execute_reply": "2023-01-02T18:09:34.256926Z",
     "shell.execute_reply.started": "2023-01-02T18:09:34.247743Z"
    },
    "id": "-0B__6940T_d"
   },
   "outputs": [],
   "source": [
    "minmax_scale = MinMaxScaler(feature_range=(0, 1))\n",
    "def normalization(df,col):\n",
    "  for i in col:\n",
    "    arr = df[i]\n",
    "    arr = np.array(arr)\n",
    "    df[i] = minmax_scale.fit_transform(arr.reshape(len(arr),1))\n",
    "  return df"
   ]
  },
  {
   "cell_type": "code",
   "execution_count": 60,
   "metadata": {
    "execution": {
     "iopub.execute_input": "2023-01-02T18:09:34.260681Z",
     "iopub.status.busy": "2023-01-02T18:09:34.260303Z",
     "iopub.status.idle": "2023-01-02T18:09:34.290383Z",
     "shell.execute_reply": "2023-01-02T18:09:34.289090Z",
     "shell.execute_reply.started": "2023-01-02T18:09:34.260650Z"
    },
    "id": "vikDLoxK0WYd",
    "outputId": "33abdc17-ffc0-497f-a074-d53761207736"
   },
   "outputs": [
    {
     "data": {
      "text/html": [
       "<div>\n",
       "<style scoped>\n",
       "    .dataframe tbody tr th:only-of-type {\n",
       "        vertical-align: middle;\n",
       "    }\n",
       "\n",
       "    .dataframe tbody tr th {\n",
       "        vertical-align: top;\n",
       "    }\n",
       "\n",
       "    .dataframe thead th {\n",
       "        text-align: right;\n",
       "    }\n",
       "</style>\n",
       "<table border=\"1\" class=\"dataframe\">\n",
       "  <thead>\n",
       "    <tr style=\"text-align: right;\">\n",
       "      <th></th>\n",
       "      <th>Weekly_Sales</th>\n",
       "      <th>Size</th>\n",
       "      <th>Temperature</th>\n",
       "      <th>Fuel_Price</th>\n",
       "      <th>CPI</th>\n",
       "      <th>Unemployment</th>\n",
       "      <th>IsHoliday</th>\n",
       "      <th>Year</th>\n",
       "      <th>Month</th>\n",
       "      <th>Week</th>\n",
       "      <th>...</th>\n",
       "      <th>Dept_93</th>\n",
       "      <th>Dept_94</th>\n",
       "      <th>Dept_95</th>\n",
       "      <th>Dept_96</th>\n",
       "      <th>Dept_97</th>\n",
       "      <th>Dept_98</th>\n",
       "      <th>Dept_99</th>\n",
       "      <th>Type_A</th>\n",
       "      <th>Type_B</th>\n",
       "      <th>Type_C</th>\n",
       "    </tr>\n",
       "    <tr>\n",
       "      <th>Date</th>\n",
       "      <th></th>\n",
       "      <th></th>\n",
       "      <th></th>\n",
       "      <th></th>\n",
       "      <th></th>\n",
       "      <th></th>\n",
       "      <th></th>\n",
       "      <th></th>\n",
       "      <th></th>\n",
       "      <th></th>\n",
       "      <th></th>\n",
       "      <th></th>\n",
       "      <th></th>\n",
       "      <th></th>\n",
       "      <th></th>\n",
       "      <th></th>\n",
       "      <th></th>\n",
       "      <th></th>\n",
       "      <th></th>\n",
       "      <th></th>\n",
       "      <th></th>\n",
       "    </tr>\n",
       "  </thead>\n",
       "  <tbody>\n",
       "    <tr>\n",
       "      <th>2010-02-05</th>\n",
       "      <td>24924.50</td>\n",
       "      <td>151315</td>\n",
       "      <td>42.31</td>\n",
       "      <td>2.572</td>\n",
       "      <td>211.096358</td>\n",
       "      <td>8.106</td>\n",
       "      <td>0</td>\n",
       "      <td>2010</td>\n",
       "      <td>2</td>\n",
       "      <td>5</td>\n",
       "      <td>...</td>\n",
       "      <td>0</td>\n",
       "      <td>0</td>\n",
       "      <td>0</td>\n",
       "      <td>0</td>\n",
       "      <td>0</td>\n",
       "      <td>0</td>\n",
       "      <td>0</td>\n",
       "      <td>1</td>\n",
       "      <td>0</td>\n",
       "      <td>0</td>\n",
       "    </tr>\n",
       "    <tr>\n",
       "      <th>2010-02-05</th>\n",
       "      <td>668.48</td>\n",
       "      <td>125833</td>\n",
       "      <td>38.01</td>\n",
       "      <td>2.572</td>\n",
       "      <td>214.655459</td>\n",
       "      <td>6.415</td>\n",
       "      <td>0</td>\n",
       "      <td>2010</td>\n",
       "      <td>2</td>\n",
       "      <td>5</td>\n",
       "      <td>...</td>\n",
       "      <td>0</td>\n",
       "      <td>0</td>\n",
       "      <td>0</td>\n",
       "      <td>0</td>\n",
       "      <td>1</td>\n",
       "      <td>0</td>\n",
       "      <td>0</td>\n",
       "      <td>0</td>\n",
       "      <td>1</td>\n",
       "      <td>0</td>\n",
       "    </tr>\n",
       "    <tr>\n",
       "      <th>2010-02-05</th>\n",
       "      <td>693.87</td>\n",
       "      <td>125833</td>\n",
       "      <td>38.01</td>\n",
       "      <td>2.572</td>\n",
       "      <td>214.655459</td>\n",
       "      <td>6.415</td>\n",
       "      <td>0</td>\n",
       "      <td>2010</td>\n",
       "      <td>2</td>\n",
       "      <td>5</td>\n",
       "      <td>...</td>\n",
       "      <td>0</td>\n",
       "      <td>0</td>\n",
       "      <td>0</td>\n",
       "      <td>0</td>\n",
       "      <td>0</td>\n",
       "      <td>0</td>\n",
       "      <td>0</td>\n",
       "      <td>0</td>\n",
       "      <td>1</td>\n",
       "      <td>0</td>\n",
       "    </tr>\n",
       "    <tr>\n",
       "      <th>2010-02-05</th>\n",
       "      <td>8654.60</td>\n",
       "      <td>155078</td>\n",
       "      <td>34.14</td>\n",
       "      <td>2.572</td>\n",
       "      <td>214.471451</td>\n",
       "      <td>6.299</td>\n",
       "      <td>0</td>\n",
       "      <td>2010</td>\n",
       "      <td>2</td>\n",
       "      <td>5</td>\n",
       "      <td>...</td>\n",
       "      <td>0</td>\n",
       "      <td>0</td>\n",
       "      <td>0</td>\n",
       "      <td>0</td>\n",
       "      <td>0</td>\n",
       "      <td>0</td>\n",
       "      <td>0</td>\n",
       "      <td>1</td>\n",
       "      <td>0</td>\n",
       "      <td>0</td>\n",
       "    </tr>\n",
       "    <tr>\n",
       "      <th>2010-02-05</th>\n",
       "      <td>11123.56</td>\n",
       "      <td>125833</td>\n",
       "      <td>38.01</td>\n",
       "      <td>2.572</td>\n",
       "      <td>214.655459</td>\n",
       "      <td>6.415</td>\n",
       "      <td>0</td>\n",
       "      <td>2010</td>\n",
       "      <td>2</td>\n",
       "      <td>5</td>\n",
       "      <td>...</td>\n",
       "      <td>0</td>\n",
       "      <td>0</td>\n",
       "      <td>0</td>\n",
       "      <td>0</td>\n",
       "      <td>0</td>\n",
       "      <td>0</td>\n",
       "      <td>0</td>\n",
       "      <td>0</td>\n",
       "      <td>1</td>\n",
       "      <td>0</td>\n",
       "    </tr>\n",
       "  </tbody>\n",
       "</table>\n",
       "<p>5 rows × 145 columns</p>\n",
       "</div>"
      ],
      "text/plain": [
       "            Weekly_Sales    Size  Temperature  Fuel_Price         CPI  \\\n",
       "Date                                                                    \n",
       "2010-02-05      24924.50  151315        42.31       2.572  211.096358   \n",
       "2010-02-05        668.48  125833        38.01       2.572  214.655459   \n",
       "2010-02-05        693.87  125833        38.01       2.572  214.655459   \n",
       "2010-02-05       8654.60  155078        34.14       2.572  214.471451   \n",
       "2010-02-05      11123.56  125833        38.01       2.572  214.655459   \n",
       "\n",
       "            Unemployment  IsHoliday  Year  Month  Week  ...  Dept_93  Dept_94  \\\n",
       "Date                                                    ...                     \n",
       "2010-02-05         8.106          0  2010      2     5  ...        0        0   \n",
       "2010-02-05         6.415          0  2010      2     5  ...        0        0   \n",
       "2010-02-05         6.415          0  2010      2     5  ...        0        0   \n",
       "2010-02-05         6.299          0  2010      2     5  ...        0        0   \n",
       "2010-02-05         6.415          0  2010      2     5  ...        0        0   \n",
       "\n",
       "            Dept_95  Dept_96  Dept_97  Dept_98  Dept_99  Type_A  Type_B  \\\n",
       "Date                                                                      \n",
       "2010-02-05        0        0        0        0        0       1       0   \n",
       "2010-02-05        0        0        1        0        0       0       1   \n",
       "2010-02-05        0        0        0        0        0       0       1   \n",
       "2010-02-05        0        0        0        0        0       1       0   \n",
       "2010-02-05        0        0        0        0        0       0       1   \n",
       "\n",
       "            Type_C  \n",
       "Date                \n",
       "2010-02-05       0  \n",
       "2010-02-05       0  \n",
       "2010-02-05       0  \n",
       "2010-02-05       0  \n",
       "2010-02-05       0  \n",
       "\n",
       "[5 rows x 145 columns]"
      ]
     },
     "execution_count": 60,
     "metadata": {},
     "output_type": "execute_result"
    }
   ],
   "source": [
    "data.head()"
   ]
  },
  {
   "cell_type": "code",
   "execution_count": 61,
   "metadata": {
    "execution": {
     "iopub.execute_input": "2023-01-02T18:09:34.292256Z",
     "iopub.status.busy": "2023-01-02T18:09:34.291778Z",
     "iopub.status.idle": "2023-01-02T18:09:34.395609Z",
     "shell.execute_reply": "2023-01-02T18:09:34.394429Z",
     "shell.execute_reply.started": "2023-01-02T18:09:34.292216Z"
    },
    "id": "5I3GtwXW0btJ",
    "outputId": "1545476b-7118-4c27-b321-14e9b366dbb4"
   },
   "outputs": [
    {
     "data": {
      "text/html": [
       "<div>\n",
       "<style scoped>\n",
       "    .dataframe tbody tr th:only-of-type {\n",
       "        vertical-align: middle;\n",
       "    }\n",
       "\n",
       "    .dataframe tbody tr th {\n",
       "        vertical-align: top;\n",
       "    }\n",
       "\n",
       "    .dataframe thead th {\n",
       "        text-align: right;\n",
       "    }\n",
       "</style>\n",
       "<table border=\"1\" class=\"dataframe\">\n",
       "  <thead>\n",
       "    <tr style=\"text-align: right;\">\n",
       "      <th></th>\n",
       "      <th>Weekly_Sales</th>\n",
       "      <th>Size</th>\n",
       "      <th>Temperature</th>\n",
       "      <th>Fuel_Price</th>\n",
       "      <th>CPI</th>\n",
       "      <th>Unemployment</th>\n",
       "      <th>IsHoliday</th>\n",
       "      <th>Year</th>\n",
       "      <th>Month</th>\n",
       "      <th>Week</th>\n",
       "      <th>...</th>\n",
       "      <th>Dept_93</th>\n",
       "      <th>Dept_94</th>\n",
       "      <th>Dept_95</th>\n",
       "      <th>Dept_96</th>\n",
       "      <th>Dept_97</th>\n",
       "      <th>Dept_98</th>\n",
       "      <th>Dept_99</th>\n",
       "      <th>Type_A</th>\n",
       "      <th>Type_B</th>\n",
       "      <th>Type_C</th>\n",
       "    </tr>\n",
       "    <tr>\n",
       "      <th>Date</th>\n",
       "      <th></th>\n",
       "      <th></th>\n",
       "      <th></th>\n",
       "      <th></th>\n",
       "      <th></th>\n",
       "      <th></th>\n",
       "      <th></th>\n",
       "      <th></th>\n",
       "      <th></th>\n",
       "      <th></th>\n",
       "      <th></th>\n",
       "      <th></th>\n",
       "      <th></th>\n",
       "      <th></th>\n",
       "      <th></th>\n",
       "      <th></th>\n",
       "      <th></th>\n",
       "      <th></th>\n",
       "      <th></th>\n",
       "      <th></th>\n",
       "      <th></th>\n",
       "    </tr>\n",
       "  </thead>\n",
       "  <tbody>\n",
       "    <tr>\n",
       "      <th>2010-02-05</th>\n",
       "      <td>0.342576</td>\n",
       "      <td>0.630267</td>\n",
       "      <td>0.328495</td>\n",
       "      <td>0.0501</td>\n",
       "      <td>0.840500</td>\n",
       "      <td>0.508787</td>\n",
       "      <td>0</td>\n",
       "      <td>2010</td>\n",
       "      <td>2</td>\n",
       "      <td>5</td>\n",
       "      <td>...</td>\n",
       "      <td>0</td>\n",
       "      <td>0</td>\n",
       "      <td>0</td>\n",
       "      <td>0</td>\n",
       "      <td>0</td>\n",
       "      <td>0</td>\n",
       "      <td>0</td>\n",
       "      <td>1</td>\n",
       "      <td>0</td>\n",
       "      <td>0</td>\n",
       "    </tr>\n",
       "    <tr>\n",
       "      <th>2010-02-05</th>\n",
       "      <td>0.009188</td>\n",
       "      <td>0.492338</td>\n",
       "      <td>0.278565</td>\n",
       "      <td>0.0501</td>\n",
       "      <td>0.875680</td>\n",
       "      <td>0.305248</td>\n",
       "      <td>0</td>\n",
       "      <td>2010</td>\n",
       "      <td>2</td>\n",
       "      <td>5</td>\n",
       "      <td>...</td>\n",
       "      <td>0</td>\n",
       "      <td>0</td>\n",
       "      <td>0</td>\n",
       "      <td>0</td>\n",
       "      <td>1</td>\n",
       "      <td>0</td>\n",
       "      <td>0</td>\n",
       "      <td>0</td>\n",
       "      <td>1</td>\n",
       "      <td>0</td>\n",
       "    </tr>\n",
       "    <tr>\n",
       "      <th>2010-02-05</th>\n",
       "      <td>0.009537</td>\n",
       "      <td>0.492338</td>\n",
       "      <td>0.278565</td>\n",
       "      <td>0.0501</td>\n",
       "      <td>0.875680</td>\n",
       "      <td>0.305248</td>\n",
       "      <td>0</td>\n",
       "      <td>2010</td>\n",
       "      <td>2</td>\n",
       "      <td>5</td>\n",
       "      <td>...</td>\n",
       "      <td>0</td>\n",
       "      <td>0</td>\n",
       "      <td>0</td>\n",
       "      <td>0</td>\n",
       "      <td>0</td>\n",
       "      <td>0</td>\n",
       "      <td>0</td>\n",
       "      <td>0</td>\n",
       "      <td>1</td>\n",
       "      <td>0</td>\n",
       "    </tr>\n",
       "    <tr>\n",
       "      <th>2010-02-05</th>\n",
       "      <td>0.118953</td>\n",
       "      <td>0.650636</td>\n",
       "      <td>0.233627</td>\n",
       "      <td>0.0501</td>\n",
       "      <td>0.873861</td>\n",
       "      <td>0.291286</td>\n",
       "      <td>0</td>\n",
       "      <td>2010</td>\n",
       "      <td>2</td>\n",
       "      <td>5</td>\n",
       "      <td>...</td>\n",
       "      <td>0</td>\n",
       "      <td>0</td>\n",
       "      <td>0</td>\n",
       "      <td>0</td>\n",
       "      <td>0</td>\n",
       "      <td>0</td>\n",
       "      <td>0</td>\n",
       "      <td>1</td>\n",
       "      <td>0</td>\n",
       "      <td>0</td>\n",
       "    </tr>\n",
       "    <tr>\n",
       "      <th>2010-02-05</th>\n",
       "      <td>0.152888</td>\n",
       "      <td>0.492338</td>\n",
       "      <td>0.278565</td>\n",
       "      <td>0.0501</td>\n",
       "      <td>0.875680</td>\n",
       "      <td>0.305248</td>\n",
       "      <td>0</td>\n",
       "      <td>2010</td>\n",
       "      <td>2</td>\n",
       "      <td>5</td>\n",
       "      <td>...</td>\n",
       "      <td>0</td>\n",
       "      <td>0</td>\n",
       "      <td>0</td>\n",
       "      <td>0</td>\n",
       "      <td>0</td>\n",
       "      <td>0</td>\n",
       "      <td>0</td>\n",
       "      <td>0</td>\n",
       "      <td>1</td>\n",
       "      <td>0</td>\n",
       "    </tr>\n",
       "  </tbody>\n",
       "</table>\n",
       "<p>5 rows × 145 columns</p>\n",
       "</div>"
      ],
      "text/plain": [
       "            Weekly_Sales      Size  Temperature  Fuel_Price       CPI  \\\n",
       "Date                                                                    \n",
       "2010-02-05      0.342576  0.630267     0.328495      0.0501  0.840500   \n",
       "2010-02-05      0.009188  0.492338     0.278565      0.0501  0.875680   \n",
       "2010-02-05      0.009537  0.492338     0.278565      0.0501  0.875680   \n",
       "2010-02-05      0.118953  0.650636     0.233627      0.0501  0.873861   \n",
       "2010-02-05      0.152888  0.492338     0.278565      0.0501  0.875680   \n",
       "\n",
       "            Unemployment  IsHoliday  Year  Month  Week  ...  Dept_93  Dept_94  \\\n",
       "Date                                                    ...                     \n",
       "2010-02-05      0.508787          0  2010      2     5  ...        0        0   \n",
       "2010-02-05      0.305248          0  2010      2     5  ...        0        0   \n",
       "2010-02-05      0.305248          0  2010      2     5  ...        0        0   \n",
       "2010-02-05      0.291286          0  2010      2     5  ...        0        0   \n",
       "2010-02-05      0.305248          0  2010      2     5  ...        0        0   \n",
       "\n",
       "            Dept_95  Dept_96  Dept_97  Dept_98  Dept_99  Type_A  Type_B  \\\n",
       "Date                                                                      \n",
       "2010-02-05        0        0        0        0        0       1       0   \n",
       "2010-02-05        0        0        1        0        0       0       1   \n",
       "2010-02-05        0        0        0        0        0       0       1   \n",
       "2010-02-05        0        0        0        0        0       1       0   \n",
       "2010-02-05        0        0        0        0        0       0       1   \n",
       "\n",
       "            Type_C  \n",
       "Date                \n",
       "2010-02-05       0  \n",
       "2010-02-05       0  \n",
       "2010-02-05       0  \n",
       "2010-02-05       0  \n",
       "2010-02-05       0  \n",
       "\n",
       "[5 rows x 145 columns]"
      ]
     },
     "execution_count": 61,
     "metadata": {},
     "output_type": "execute_result"
    }
   ],
   "source": [
    "data = normalization(data.copy(),num_col)\n",
    "data.head()"
   ]
  },
  {
   "cell_type": "markdown",
   "metadata": {
    "id": "FnTud8vW0oyf"
   },
   "source": [
    "**Finding Correlation between features**"
   ]
  },
  {
   "cell_type": "code",
   "execution_count": 62,
   "metadata": {
    "execution": {
     "iopub.execute_input": "2023-01-02T18:09:34.397562Z",
     "iopub.status.busy": "2023-01-02T18:09:34.396939Z",
     "iopub.status.idle": "2023-01-02T18:09:35.987593Z",
     "shell.execute_reply": "2023-01-02T18:09:35.986381Z",
     "shell.execute_reply.started": "2023-01-02T18:09:34.397365Z"
    },
    "id": "wjPPIuwD0h9J",
    "outputId": "6b083a5d-469d-4910-f925-c610169d0044"
   },
   "outputs": [
    {
     "data": {
      "image/png": "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\n",
      "text/plain": [
       "<Figure size 1500x800 with 2 Axes>"
      ]
     },
     "metadata": {},
     "output_type": "display_data"
    }
   ],
   "source": [
    "plt.figure(figsize=(15,8))\n",
    "corr = data[num_col].corr()\n",
    "sns.heatmap(corr,vmax=1.0,annot=True)\n",
    "plt.title('Correlation Matrix',fontsize=16)\n",
    "#plt.savefig('correlation_matrix.png')\n",
    "plt.show()"
   ]
  },
  {
   "cell_type": "markdown",
   "metadata": {
    "id": "nVT7HciX06pv"
   },
   "source": [
    "### Feature Elimination"
   ]
  },
  {
   "cell_type": "code",
   "execution_count": 63,
   "metadata": {
    "execution": {
     "iopub.execute_input": "2023-01-02T18:09:35.989652Z",
     "iopub.status.busy": "2023-01-02T18:09:35.989168Z",
     "iopub.status.idle": "2023-01-02T18:09:36.001205Z",
     "shell.execute_reply": "2023-01-02T18:09:35.999820Z",
     "shell.execute_reply.started": "2023-01-02T18:09:35.989606Z"
    },
    "id": "WvLQRvRH00A9",
    "outputId": "c27954d0-bb39-4413-b81d-50c11ecde88e"
   },
   "outputs": [
    {
     "data": {
      "text/plain": [
       "Index(['CPI', 'Dept_1', 'Dept_10', 'Dept_11', 'Dept_12', 'Dept_13', 'Dept_14',\n",
       "       'Dept_16', 'Dept_17', 'Dept_18',\n",
       "       ...\n",
       "       'Type_B', 'Type_C', 'Unemployment', 'Week', 'Year', 'max', 'mean',\n",
       "       'median', 'min', 'std'],\n",
       "      dtype='object', length=144)"
      ]
     },
     "execution_count": 63,
     "metadata": {},
     "output_type": "execute_result"
    }
   ],
   "source": [
    "feature_col = data.columns.difference(['Weekly_Sales'])\n",
    "feature_col"
   ]
  },
  {
   "cell_type": "code",
   "execution_count": 64,
   "metadata": {
    "execution": {
     "iopub.execute_input": "2023-01-02T18:09:36.003367Z",
     "iopub.status.busy": "2023-01-02T18:09:36.002934Z",
     "iopub.status.idle": "2023-01-02T18:12:49.967156Z",
     "shell.execute_reply": "2023-01-02T18:12:49.966036Z",
     "shell.execute_reply.started": "2023-01-02T18:09:36.003332Z"
    },
    "id": "LxyMj8_f3GmU",
    "outputId": "23e7508e-5471-431b-e2cd-b678964bda04"
   },
   "outputs": [
    {
     "data": {
      "text/plain": [
       "RandomForestRegressor(n_estimators=23, oob_score=True)"
      ]
     },
     "execution_count": 64,
     "metadata": {},
     "output_type": "execute_result"
    }
   ],
   "source": [
    "radm_clf = RandomForestRegressor(oob_score=True,n_estimators=23)\n",
    "radm_clf.fit(data[feature_col], data['Weekly_Sales'])"
   ]
  },
  {
   "cell_type": "code",
   "execution_count": 65,
   "metadata": {
    "execution": {
     "iopub.execute_input": "2023-01-02T18:12:49.969268Z",
     "iopub.status.busy": "2023-01-02T18:12:49.968929Z",
     "iopub.status.idle": "2023-01-02T18:13:26.884009Z",
     "shell.execute_reply": "2023-01-02T18:13:26.882889Z",
     "shell.execute_reply.started": "2023-01-02T18:12:49.969236Z"
    },
    "id": "nhi7yDeM1V8V",
    "outputId": "fd988fa6-3765-417a-e071-af13526dcfd3"
   },
   "outputs": [
    {
     "data": {
      "text/html": [
       "<div>\n",
       "<style scoped>\n",
       "    .dataframe tbody tr th:only-of-type {\n",
       "        vertical-align: middle;\n",
       "    }\n",
       "\n",
       "    .dataframe tbody tr th {\n",
       "        vertical-align: top;\n",
       "    }\n",
       "\n",
       "    .dataframe thead th {\n",
       "        text-align: right;\n",
       "    }\n",
       "</style>\n",
       "<table border=\"1\" class=\"dataframe\">\n",
       "  <thead>\n",
       "    <tr style=\"text-align: right;\">\n",
       "      <th></th>\n",
       "      <th>rank</th>\n",
       "      <th>feature</th>\n",
       "      <th>importance</th>\n",
       "    </tr>\n",
       "  </thead>\n",
       "  <tbody>\n",
       "    <tr>\n",
       "      <th>0</th>\n",
       "      <td>1</td>\n",
       "      <td>mean</td>\n",
       "      <td>5.747041e-01</td>\n",
       "    </tr>\n",
       "    <tr>\n",
       "      <th>1</th>\n",
       "      <td>2</td>\n",
       "      <td>median</td>\n",
       "      <td>3.534690e-01</td>\n",
       "    </tr>\n",
       "    <tr>\n",
       "      <th>2</th>\n",
       "      <td>3</td>\n",
       "      <td>Week</td>\n",
       "      <td>1.972867e-02</td>\n",
       "    </tr>\n",
       "    <tr>\n",
       "      <th>3</th>\n",
       "      <td>4</td>\n",
       "      <td>Temperature</td>\n",
       "      <td>8.727669e-03</td>\n",
       "    </tr>\n",
       "    <tr>\n",
       "      <th>4</th>\n",
       "      <td>5</td>\n",
       "      <td>max</td>\n",
       "      <td>5.930897e-03</td>\n",
       "    </tr>\n",
       "    <tr>\n",
       "      <th>...</th>\n",
       "      <td>...</td>\n",
       "      <td>...</td>\n",
       "      <td>...</td>\n",
       "    </tr>\n",
       "    <tr>\n",
       "      <th>139</th>\n",
       "      <td>140</td>\n",
       "      <td>Dept_51</td>\n",
       "      <td>3.031664e-10</td>\n",
       "    </tr>\n",
       "    <tr>\n",
       "      <th>140</th>\n",
       "      <td>141</td>\n",
       "      <td>Dept_45</td>\n",
       "      <td>2.092715e-10</td>\n",
       "    </tr>\n",
       "    <tr>\n",
       "      <th>141</th>\n",
       "      <td>142</td>\n",
       "      <td>Dept_78</td>\n",
       "      <td>4.100678e-12</td>\n",
       "    </tr>\n",
       "    <tr>\n",
       "      <th>142</th>\n",
       "      <td>143</td>\n",
       "      <td>Dept_43</td>\n",
       "      <td>1.179243e-15</td>\n",
       "    </tr>\n",
       "    <tr>\n",
       "      <th>143</th>\n",
       "      <td>144</td>\n",
       "      <td>Dept_39</td>\n",
       "      <td>2.150075e-16</td>\n",
       "    </tr>\n",
       "  </tbody>\n",
       "</table>\n",
       "<p>144 rows × 3 columns</p>\n",
       "</div>"
      ],
      "text/plain": [
       "     rank      feature    importance\n",
       "0       1         mean  5.747041e-01\n",
       "1       2       median  3.534690e-01\n",
       "2       3         Week  1.972867e-02\n",
       "3       4  Temperature  8.727669e-03\n",
       "4       5          max  5.930897e-03\n",
       "..    ...          ...           ...\n",
       "139   140      Dept_51  3.031664e-10\n",
       "140   141      Dept_45  2.092715e-10\n",
       "141   142      Dept_78  4.100678e-12\n",
       "142   143      Dept_43  1.179243e-15\n",
       "143   144      Dept_39  2.150075e-16\n",
       "\n",
       "[144 rows x 3 columns]"
      ]
     },
     "execution_count": 65,
     "metadata": {},
     "output_type": "execute_result"
    }
   ],
   "source": [
    "indices = np.argsort(radm_clf.feature_importances_)[::-1]\n",
    "feature_rank = pd.DataFrame(columns = ['rank', 'feature', 'importance'])\n",
    "\n",
    "for f in range(data[feature_col].shape[1]):\n",
    "    feature_rank.loc[f] = [f+1,\n",
    "                           data[feature_col].columns[indices[f]],\n",
    "                           radm_clf.feature_importances_[indices[f]]]\n",
    "\n",
    "feature_rank"
   ]
  },
  {
   "cell_type": "code",
   "execution_count": 66,
   "metadata": {
    "execution": {
     "iopub.execute_input": "2023-01-02T18:13:26.886019Z",
     "iopub.status.busy": "2023-01-02T18:13:26.885594Z",
     "iopub.status.idle": "2023-01-02T18:13:26.894503Z",
     "shell.execute_reply": "2023-01-02T18:13:26.893190Z",
     "shell.execute_reply.started": "2023-01-02T18:13:26.885985Z"
    },
    "id": "oa1MQAcB45t6",
    "outputId": "aa30f680-cd96-4b85-f577-c90db746f918"
   },
   "outputs": [
    {
     "name": "stdout",
     "output_type": "stream",
     "text": [
      "['mean', 'median', 'Week', 'Temperature', 'max', 'CPI', 'Fuel_Price', 'min', 'Unemployment', 'std', 'Month', 'Total_MarkDown', 'Dept_16', 'Dept_18', 'Dept_3', 'IsHoliday', 'Size', 'Dept_9', 'Dept_11', 'Year', 'Dept_1', 'Dept_5', 'Dept_56', 'Dept_7', 'Dept_72', 'Dept_55']\n"
     ]
    }
   ],
   "source": [
    "x=feature_rank.loc[0:25,['feature']]\n",
    "x=x['feature'].tolist()\n",
    "print(x)"
   ]
  },
  {
   "cell_type": "code",
   "execution_count": 67,
   "metadata": {
    "execution": {
     "iopub.execute_input": "2023-01-02T18:13:26.896649Z",
     "iopub.status.busy": "2023-01-02T18:13:26.896175Z",
     "iopub.status.idle": "2023-01-02T18:13:26.926823Z",
     "shell.execute_reply": "2023-01-02T18:13:26.925426Z",
     "shell.execute_reply.started": "2023-01-02T18:13:26.896603Z"
    },
    "id": "o6yJbfRB5NeY"
   },
   "outputs": [],
   "source": [
    "X = data[x]\n",
    "Y = data['Weekly_Sales']"
   ]
  },
  {
   "cell_type": "code",
   "execution_count": 68,
   "metadata": {
    "execution": {
     "iopub.execute_input": "2023-01-02T18:13:26.928741Z",
     "iopub.status.busy": "2023-01-02T18:13:26.928339Z",
     "iopub.status.idle": "2023-01-02T18:13:26.977254Z",
     "shell.execute_reply": "2023-01-02T18:13:26.976187Z",
     "shell.execute_reply.started": "2023-01-02T18:13:26.928707Z"
    },
    "id": "wVIrhefc5Q0j",
    "outputId": "d37d5af7-1e85-4202-ade2-a026e229b078"
   },
   "outputs": [
    {
     "data": {
      "text/html": [
       "<div>\n",
       "<style scoped>\n",
       "    .dataframe tbody tr th:only-of-type {\n",
       "        vertical-align: middle;\n",
       "    }\n",
       "\n",
       "    .dataframe tbody tr th {\n",
       "        vertical-align: top;\n",
       "    }\n",
       "\n",
       "    .dataframe thead th {\n",
       "        text-align: right;\n",
       "    }\n",
       "</style>\n",
       "<table border=\"1\" class=\"dataframe\">\n",
       "  <thead>\n",
       "    <tr style=\"text-align: right;\">\n",
       "      <th></th>\n",
       "      <th>mean</th>\n",
       "      <th>median</th>\n",
       "      <th>Week</th>\n",
       "      <th>Temperature</th>\n",
       "      <th>max</th>\n",
       "      <th>CPI</th>\n",
       "      <th>Fuel_Price</th>\n",
       "      <th>min</th>\n",
       "      <th>Unemployment</th>\n",
       "      <th>std</th>\n",
       "      <th>...</th>\n",
       "      <th>Dept_9</th>\n",
       "      <th>Dept_11</th>\n",
       "      <th>Year</th>\n",
       "      <th>Dept_1</th>\n",
       "      <th>Dept_5</th>\n",
       "      <th>Dept_56</th>\n",
       "      <th>Dept_7</th>\n",
       "      <th>Dept_72</th>\n",
       "      <th>Dept_55</th>\n",
       "      <th>Weekly_Sales</th>\n",
       "    </tr>\n",
       "    <tr>\n",
       "      <th>Date</th>\n",
       "      <th></th>\n",
       "      <th></th>\n",
       "      <th></th>\n",
       "      <th></th>\n",
       "      <th></th>\n",
       "      <th></th>\n",
       "      <th></th>\n",
       "      <th></th>\n",
       "      <th></th>\n",
       "      <th></th>\n",
       "      <th></th>\n",
       "      <th></th>\n",
       "      <th></th>\n",
       "      <th></th>\n",
       "      <th></th>\n",
       "      <th></th>\n",
       "      <th></th>\n",
       "      <th></th>\n",
       "      <th></th>\n",
       "      <th></th>\n",
       "      <th></th>\n",
       "    </tr>\n",
       "  </thead>\n",
       "  <tbody>\n",
       "    <tr>\n",
       "      <th>2010-02-05</th>\n",
       "      <td>0.208157</td>\n",
       "      <td>0.173215</td>\n",
       "      <td>5</td>\n",
       "      <td>0.328495</td>\n",
       "      <td>0.088635</td>\n",
       "      <td>0.840500</td>\n",
       "      <td>0.0501</td>\n",
       "      <td>0.253530</td>\n",
       "      <td>0.508787</td>\n",
       "      <td>0.138276</td>\n",
       "      <td>...</td>\n",
       "      <td>0</td>\n",
       "      <td>0</td>\n",
       "      <td>2010</td>\n",
       "      <td>1</td>\n",
       "      <td>0</td>\n",
       "      <td>0</td>\n",
       "      <td>0</td>\n",
       "      <td>0</td>\n",
       "      <td>0</td>\n",
       "      <td>0.342576</td>\n",
       "    </tr>\n",
       "    <tr>\n",
       "      <th>2010-02-05</th>\n",
       "      <td>0.004499</td>\n",
       "      <td>0.004767</td>\n",
       "      <td>5</td>\n",
       "      <td>0.278565</td>\n",
       "      <td>0.001180</td>\n",
       "      <td>0.875680</td>\n",
       "      <td>0.0501</td>\n",
       "      <td>0.064648</td>\n",
       "      <td>0.305248</td>\n",
       "      <td>0.004083</td>\n",
       "      <td>...</td>\n",
       "      <td>0</td>\n",
       "      <td>0</td>\n",
       "      <td>2010</td>\n",
       "      <td>0</td>\n",
       "      <td>0</td>\n",
       "      <td>0</td>\n",
       "      <td>0</td>\n",
       "      <td>0</td>\n",
       "      <td>0</td>\n",
       "      <td>0.009188</td>\n",
       "    </tr>\n",
       "    <tr>\n",
       "      <th>2010-02-05</th>\n",
       "      <td>0.009135</td>\n",
       "      <td>0.008968</td>\n",
       "      <td>5</td>\n",
       "      <td>0.278565</td>\n",
       "      <td>0.003866</td>\n",
       "      <td>0.875680</td>\n",
       "      <td>0.0501</td>\n",
       "      <td>0.066212</td>\n",
       "      <td>0.305248</td>\n",
       "      <td>0.004314</td>\n",
       "      <td>...</td>\n",
       "      <td>0</td>\n",
       "      <td>0</td>\n",
       "      <td>2010</td>\n",
       "      <td>0</td>\n",
       "      <td>0</td>\n",
       "      <td>0</td>\n",
       "      <td>0</td>\n",
       "      <td>0</td>\n",
       "      <td>0</td>\n",
       "      <td>0.009537</td>\n",
       "    </tr>\n",
       "    <tr>\n",
       "      <th>2010-02-05</th>\n",
       "      <td>0.085594</td>\n",
       "      <td>0.086290</td>\n",
       "      <td>5</td>\n",
       "      <td>0.233627</td>\n",
       "      <td>0.018453</td>\n",
       "      <td>0.873861</td>\n",
       "      <td>0.0501</td>\n",
       "      <td>0.161046</td>\n",
       "      <td>0.291286</td>\n",
       "      <td>0.010611</td>\n",
       "      <td>...</td>\n",
       "      <td>0</td>\n",
       "      <td>0</td>\n",
       "      <td>2010</td>\n",
       "      <td>0</td>\n",
       "      <td>0</td>\n",
       "      <td>0</td>\n",
       "      <td>0</td>\n",
       "      <td>0</td>\n",
       "      <td>0</td>\n",
       "      <td>0.118953</td>\n",
       "    </tr>\n",
       "    <tr>\n",
       "      <th>2010-02-05</th>\n",
       "      <td>0.080242</td>\n",
       "      <td>0.071542</td>\n",
       "      <td>5</td>\n",
       "      <td>0.278565</td>\n",
       "      <td>0.044887</td>\n",
       "      <td>0.875680</td>\n",
       "      <td>0.0501</td>\n",
       "      <td>0.126993</td>\n",
       "      <td>0.305248</td>\n",
       "      <td>0.054362</td>\n",
       "      <td>...</td>\n",
       "      <td>0</td>\n",
       "      <td>0</td>\n",
       "      <td>2010</td>\n",
       "      <td>0</td>\n",
       "      <td>0</td>\n",
       "      <td>0</td>\n",
       "      <td>0</td>\n",
       "      <td>0</td>\n",
       "      <td>1</td>\n",
       "      <td>0.152888</td>\n",
       "    </tr>\n",
       "  </tbody>\n",
       "</table>\n",
       "<p>5 rows × 27 columns</p>\n",
       "</div>"
      ],
      "text/plain": [
       "                mean    median  Week  Temperature       max       CPI  \\\n",
       "Date                                                                    \n",
       "2010-02-05  0.208157  0.173215     5     0.328495  0.088635  0.840500   \n",
       "2010-02-05  0.004499  0.004767     5     0.278565  0.001180  0.875680   \n",
       "2010-02-05  0.009135  0.008968     5     0.278565  0.003866  0.875680   \n",
       "2010-02-05  0.085594  0.086290     5     0.233627  0.018453  0.873861   \n",
       "2010-02-05  0.080242  0.071542     5     0.278565  0.044887  0.875680   \n",
       "\n",
       "            Fuel_Price       min  Unemployment       std  ...  Dept_9  \\\n",
       "Date                                                      ...           \n",
       "2010-02-05      0.0501  0.253530      0.508787  0.138276  ...       0   \n",
       "2010-02-05      0.0501  0.064648      0.305248  0.004083  ...       0   \n",
       "2010-02-05      0.0501  0.066212      0.305248  0.004314  ...       0   \n",
       "2010-02-05      0.0501  0.161046      0.291286  0.010611  ...       0   \n",
       "2010-02-05      0.0501  0.126993      0.305248  0.054362  ...       0   \n",
       "\n",
       "            Dept_11  Year  Dept_1  Dept_5  Dept_56  Dept_7  Dept_72  Dept_55  \\\n",
       "Date                                                                           \n",
       "2010-02-05        0  2010       1       0        0       0        0        0   \n",
       "2010-02-05        0  2010       0       0        0       0        0        0   \n",
       "2010-02-05        0  2010       0       0        0       0        0        0   \n",
       "2010-02-05        0  2010       0       0        0       0        0        0   \n",
       "2010-02-05        0  2010       0       0        0       0        0        1   \n",
       "\n",
       "            Weekly_Sales  \n",
       "Date                      \n",
       "2010-02-05      0.342576  \n",
       "2010-02-05      0.009188  \n",
       "2010-02-05      0.009537  \n",
       "2010-02-05      0.118953  \n",
       "2010-02-05      0.152888  \n",
       "\n",
       "[5 rows x 27 columns]"
      ]
     },
     "execution_count": 68,
     "metadata": {},
     "output_type": "execute_result"
    }
   ],
   "source": [
    "data = pd.concat([X,Y],axis=1)\n",
    "data.head()"
   ]
  },
  {
   "cell_type": "markdown",
   "metadata": {
    "id": "Lg7Ev3MWl5r9"
   },
   "source": [
    "# Building the models"
   ]
  },
  {
   "cell_type": "markdown",
   "metadata": {
    "id": "VCXK7LsE52xX"
   },
   "source": [
    "**Splitting data into train and test data**\n",
    "\n"
   ]
  },
  {
   "cell_type": "code",
   "execution_count": 69,
   "metadata": {
    "execution": {
     "iopub.execute_input": "2023-01-02T18:13:26.979567Z",
     "iopub.status.busy": "2023-01-02T18:13:26.978923Z",
     "iopub.status.idle": "2023-01-02T18:13:27.045391Z",
     "shell.execute_reply": "2023-01-02T18:13:27.044220Z",
     "shell.execute_reply.started": "2023-01-02T18:13:26.979520Z"
    },
    "id": "znI8YIV95TAj"
   },
   "outputs": [],
   "source": [
    "X = data.drop(['Weekly_Sales'],axis=1)\n",
    "Y = data.Weekly_Sales"
   ]
  },
  {
   "cell_type": "code",
   "execution_count": 70,
   "metadata": {
    "execution": {
     "iopub.execute_input": "2023-01-02T18:13:27.047933Z",
     "iopub.status.busy": "2023-01-02T18:13:27.046955Z",
     "iopub.status.idle": "2023-01-02T18:13:27.171126Z",
     "shell.execute_reply": "2023-01-02T18:13:27.169582Z",
     "shell.execute_reply.started": "2023-01-02T18:13:27.047866Z"
    },
    "id": "F0LAT4NV6DCu"
   },
   "outputs": [],
   "source": [
    "X_train,X_test,y_train,y_test = train_test_split(X,Y,test_size=0.20, random_state=50)"
   ]
  },
  {
   "cell_type": "markdown",
   "metadata": {
    "id": "W6592qmQ6LTB"
   },
   "source": [
    "## 1. Linear Regression Model"
   ]
  },
  {
   "cell_type": "code",
   "execution_count": 71,
   "metadata": {
    "execution": {
     "iopub.execute_input": "2023-01-02T18:13:27.173274Z",
     "iopub.status.busy": "2023-01-02T18:13:27.172879Z",
     "iopub.status.idle": "2023-01-02T18:13:27.475583Z",
     "shell.execute_reply": "2023-01-02T18:13:27.474395Z",
     "shell.execute_reply.started": "2023-01-02T18:13:27.173239Z"
    },
    "id": "0GY-zstA6IgS",
    "outputId": "7b44639d-42e7-4c6e-ad5d-3302a4f67de9"
   },
   "outputs": [
    {
     "data": {
      "text/plain": [
       "LinearRegression()"
      ]
     },
     "execution_count": 71,
     "metadata": {},
     "output_type": "execute_result"
    }
   ],
   "source": [
    "lr = LinearRegression()\n",
    "lr.fit(X_train, y_train)"
   ]
  },
  {
   "cell_type": "code",
   "execution_count": 72,
   "metadata": {
    "execution": {
     "iopub.execute_input": "2023-01-02T18:13:27.478208Z",
     "iopub.status.busy": "2023-01-02T18:13:27.477167Z",
     "iopub.status.idle": "2023-01-02T18:13:27.530677Z",
     "shell.execute_reply": "2023-01-02T18:13:27.527852Z",
     "shell.execute_reply.started": "2023-01-02T18:13:27.478161Z"
    },
    "id": "8yCmma6K6Skx",
    "outputId": "5fac43c0-a637-471e-cbbb-2906f0c595bb"
   },
   "outputs": [
    {
     "name": "stdout",
     "output_type": "stream",
     "text": [
      "Linear Regressor Accuracy -  92.28379328908018\n"
     ]
    }
   ],
   "source": [
    "linear_regression_accuracy = lr.score(X_test,y_test)*100\n",
    "print(\"Linear Regressor Accuracy - \",linear_regression_accuracy)"
   ]
  },
  {
   "cell_type": "code",
   "execution_count": 73,
   "metadata": {
    "execution": {
     "iopub.execute_input": "2023-01-02T18:13:27.537336Z",
     "iopub.status.busy": "2023-01-02T18:13:27.534877Z",
     "iopub.status.idle": "2023-01-02T18:13:27.557953Z",
     "shell.execute_reply": "2023-01-02T18:13:27.556317Z",
     "shell.execute_reply.started": "2023-01-02T18:13:27.537267Z"
    },
    "id": "5H-7XPUX6olX"
   },
   "outputs": [],
   "source": [
    "y_pred = lr.predict(X_test)"
   ]
  },
  {
   "cell_type": "code",
   "execution_count": 74,
   "metadata": {
    "execution": {
     "iopub.execute_input": "2023-01-02T18:13:27.561693Z",
     "iopub.status.busy": "2023-01-02T18:13:27.560504Z",
     "iopub.status.idle": "2023-01-02T18:13:27.582517Z",
     "shell.execute_reply": "2023-01-02T18:13:27.580321Z",
     "shell.execute_reply.started": "2023-01-02T18:13:27.561625Z"
    },
    "id": "8jCXSRMW6siv",
    "outputId": "6d9bb22c-4db0-4861-d91a-83690190c013"
   },
   "outputs": [
    {
     "name": "stdout",
     "output_type": "stream",
     "text": [
      "MAE 0.030079215293536656\n",
      "MSE 0.0034837903884710336\n",
      "RMSE 0.059023642622859473\n",
      "R2 0.9228379352983277\n"
     ]
    }
   ],
   "source": [
    "print(\"MAE\" , metrics.mean_absolute_error(y_test, y_pred))\n",
    "print(\"MSE\" , metrics.mean_squared_error(y_test, y_pred))\n",
    "print(\"RMSE\" , np.sqrt(metrics.mean_squared_error(y_test, y_pred)))\n",
    "print(\"R2\" , metrics.explained_variance_score(y_test, y_pred))"
   ]
  },
  {
   "cell_type": "code",
   "execution_count": 75,
   "metadata": {
    "execution": {
     "iopub.execute_input": "2023-01-02T18:13:27.586682Z",
     "iopub.status.busy": "2023-01-02T18:13:27.585385Z",
     "iopub.status.idle": "2023-01-02T18:13:27.611901Z",
     "shell.execute_reply": "2023-01-02T18:13:27.610247Z",
     "shell.execute_reply.started": "2023-01-02T18:13:27.586608Z"
    },
    "id": "9HYgRD34bsq0",
    "outputId": "2bb55c86-a30a-418e-8b69-e33f762f4d6a"
   },
   "outputs": [
    {
     "data": {
      "text/html": [
       "<div>\n",
       "<style scoped>\n",
       "    .dataframe tbody tr th:only-of-type {\n",
       "        vertical-align: middle;\n",
       "    }\n",
       "\n",
       "    .dataframe tbody tr th {\n",
       "        vertical-align: top;\n",
       "    }\n",
       "\n",
       "    .dataframe thead th {\n",
       "        text-align: right;\n",
       "    }\n",
       "</style>\n",
       "<table border=\"1\" class=\"dataframe\">\n",
       "  <thead>\n",
       "    <tr style=\"text-align: right;\">\n",
       "      <th></th>\n",
       "      <th>Actual</th>\n",
       "      <th>Predicted</th>\n",
       "    </tr>\n",
       "    <tr>\n",
       "      <th>Date</th>\n",
       "      <th></th>\n",
       "      <th></th>\n",
       "    </tr>\n",
       "  </thead>\n",
       "  <tbody>\n",
       "    <tr>\n",
       "      <th>2011-08-05</th>\n",
       "      <td>0.161661</td>\n",
       "      <td>0.132118</td>\n",
       "    </tr>\n",
       "    <tr>\n",
       "      <th>2010-07-09</th>\n",
       "      <td>0.364278</td>\n",
       "      <td>0.280514</td>\n",
       "    </tr>\n",
       "    <tr>\n",
       "      <th>2011-07-01</th>\n",
       "      <td>0.005003</td>\n",
       "      <td>0.025738</td>\n",
       "    </tr>\n",
       "    <tr>\n",
       "      <th>2012-01-06</th>\n",
       "      <td>0.015856</td>\n",
       "      <td>0.015174</td>\n",
       "    </tr>\n",
       "    <tr>\n",
       "      <th>2011-08-26</th>\n",
       "      <td>0.000318</td>\n",
       "      <td>0.001827</td>\n",
       "    </tr>\n",
       "  </tbody>\n",
       "</table>\n",
       "</div>"
      ],
      "text/plain": [
       "              Actual  Predicted\n",
       "Date                           \n",
       "2011-08-05  0.161661   0.132118\n",
       "2010-07-09  0.364278   0.280514\n",
       "2011-07-01  0.005003   0.025738\n",
       "2012-01-06  0.015856   0.015174\n",
       "2011-08-26  0.000318   0.001827"
      ]
     },
     "execution_count": 75,
     "metadata": {},
     "output_type": "execute_result"
    }
   ],
   "source": [
    "lr_df = pd.DataFrame({'Actual': y_test, 'Predicted': y_pred})\n",
    "lr_df.head()"
   ]
  },
  {
   "cell_type": "code",
   "execution_count": 76,
   "metadata": {
    "execution": {
     "iopub.execute_input": "2023-01-02T18:13:27.616137Z",
     "iopub.status.busy": "2023-01-02T18:13:27.614820Z",
     "iopub.status.idle": "2023-01-02T18:13:27.903539Z",
     "shell.execute_reply": "2023-01-02T18:13:27.902750Z",
     "shell.execute_reply.started": "2023-01-02T18:13:27.616062Z"
    },
    "id": "ZslWpRxcbyTR",
    "outputId": "4d3a26ce-5933-4895-a1f8-caa2bd6fe1b0"
   },
   "outputs": [
    {
     "data": {
      "image/png": "iVBORw0KGgoAAAANSUhEUgAABL4AAAKuCAYAAACv5NWtAAAAOXRFWHRTb2Z0d2FyZQBNYXRwbG90bGliIHZlcnNpb24zLjUuMiwgaHR0cHM6Ly9tYXRwbG90bGliLm9yZy8qNh9FAAAACXBIWXMAAA9hAAAPYQGoP6dpAAEAAElEQVR4nOzdd5xcdb3/8feUnZ3Zkt0kJCGEkEJLYoBAQi8BvRRFvYAFLyBwBZQmKlcucEVpXikqIiBWmlcUlKv8UAHlSi8qXSG0QCCUQCA9W6ec3x/DzO75nnOm7ZRzZl7Px4MHmdmZ2TM7uzNz3vP+fk7IsixLAAAAAAAAQJMJN3oDAAAAAAAAgFog+AIAAAAAAEBTIvgCAAAAAABAUyL4AgAAAAAAQFMi+AIAAAAAAEBTIvgCAAAAAABAUyL4AgAAAAAAQFMi+AIAAAAAAEBTIvgCAAAAAABAUyL4AgA0hVdffVWhUEgzZ85s9KZUzbHHHqtQKKTrr7++0ZsCSJLuvfdehUIh7bvvvo3elIo1w30oxXnnnadQKKTzzjvPdv7111+vUCikY489tiHbVQ1e980v/L59ANBqCL4AoEEeeughff7zn9ecOXPU09Oj9vZ2TZs2TR/96Ef1s5/9TH19fY3eRLSY66+/Xuedd55effXVRm8K3nfrrbfqvPPO01NPPdXoTQEcLr/8cp133nlau3ZtozcFAABPBF8AUGf9/f06/PDDtddee+mnP/2pXnvtNU2fPl3bb7+9LMvSH//4R51wwgnaeuut9c9//rPRmxsYbW1t2nbbbbXllls2elMC6/rrr9f5559P8OUjt956q84//3yCL1RNT0+Ptt12W02dOnXMt3X55Zfr/PPPJ/gCAPhatNEbAACtJJlM6oADDtBDDz2kTTfdVJdccok+9alPKZFI5C+z